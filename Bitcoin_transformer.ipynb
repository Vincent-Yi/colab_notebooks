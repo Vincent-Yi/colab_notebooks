{
  "nbformat": 4,
  "nbformat_minor": 0,
  "metadata": {
    "colab": {
      "name": "Bitcoin_transformer.ipynb",
      "provenance": [],
      "collapsed_sections": [],
      "machine_shape": "hm"
    },
    "kernelspec": {
      "name": "python3",
      "display_name": "Python 3"
    },
    "accelerator": "GPU"
  },
  "cells": [
    {
      "cell_type": "code",
      "metadata": {
        "id": "Lv8yOvo_8a9-",
        "colab": {
          "base_uri": "https://localhost:8080/"
        },
        "outputId": "6cb76cc1-713f-4ea2-951e-813338ed95c2"
      },
      "source": [
        "!pip install tf-nightly-gpu==2.4\n",
        "import tensorflow as tf\n",
        "print(tf.__version__)\n",
        "tf.test.is_gpu_available()"
      ],
      "execution_count": null,
      "outputs": [
        {
          "output_type": "stream",
          "text": [
            "\u001b[31mERROR: Could not find a version that satisfies the requirement tf-nightly-gpu==2.4 (from versions: 2.4.0.dev20200902, 2.4.0.dev20200903, 2.4.0.dev20200904, 2.4.0.dev20200905, 2.4.0.dev20200906, 2.4.0.dev20200907, 2.4.0.dev20200908, 2.4.0.dev20200911, 2.4.0.dev20200912, 2.4.0.dev20200913, 2.4.0.dev20200914, 2.4.0.dev20200915, 2.4.0.dev20200916, 2.4.0.dev20200917, 2.4.0.dev20200918, 2.4.0.dev20200919, 2.4.0.dev20200920, 2.4.0.dev20200921, 2.4.0.dev20200922, 2.4.0.dev20200923, 2.4.0.dev20200924, 2.4.0.dev20200925, 2.4.0.dev20200926, 2.4.0.dev20200927, 2.4.0.dev20200928, 2.4.0.dev20200929, 2.4.0.dev20200930, 2.4.0.dev20201001, 2.4.0.dev20201002, 2.4.0.dev20201003, 2.4.0.dev20201004, 2.4.0.dev20201005, 2.4.0.dev20201007, 2.4.0.dev20201010, 2.4.0.dev20201011, 2.4.0.dev20201012, 2.4.0.dev20201014, 2.4.0.dev20201015, 2.4.0.dev20201016, 2.4.0.dev20201017, 2.4.0.dev20201018, 2.4.0.dev20201019, 2.4.0.dev20201020, 2.4.0.dev20201021, 2.4.0.dev20201022, 2.4.0.dev20201023, 2.5.0.dev20201024, 2.5.0.dev20201025, 2.5.0.dev20201026, 2.5.0.dev20201027, 2.5.0.dev20201028, 2.5.0.dev20201029, 2.5.0.dev20201103, 2.5.0.dev20201104, 2.5.0.dev20201105, 2.5.0.dev20201106, 2.5.0.dev20201107, 2.5.0.dev20201108, 2.5.0.dev20201109, 2.5.0.dev20201110, 2.5.0.dev20201111, 2.5.0.dev20201112, 2.5.0.dev20201113, 2.5.0.dev20201114, 2.5.0.dev20201115, 2.5.0.dev20201116, 2.5.0.dev20201117, 2.5.0.dev20201118, 2.5.0.dev20201119, 2.5.0.dev20201120, 2.5.0.dev20201121, 2.5.0.dev20201122, 2.5.0.dev20201123, 2.5.0.dev20201124, 2.5.0.dev20201125, 2.5.0.dev20201126, 2.5.0.dev20201127, 2.5.0.dev20201128, 2.5.0.dev20201129, 2.5.0.dev20201130, 2.5.0.dev20201201, 2.5.0.dev20201202, 2.5.0.dev20201203, 2.5.0.dev20201204)\u001b[0m\n",
            "\u001b[31mERROR: No matching distribution found for tf-nightly-gpu==2.4\u001b[0m\n",
            "2.5.0-dev20201204\n"
          ],
          "name": "stdout"
        },
        {
          "output_type": "execute_result",
          "data": {
            "text/plain": [
              "False"
            ]
          },
          "metadata": {
            "tags": []
          },
          "execution_count": 7
        }
      ]
    },
    {
      "cell_type": "code",
      "metadata": {
        "id": "DXqmmngfSd0z"
      },
      "source": [
        "import pandas as pd\n",
        "import numpy as np\n",
        "import matplotlib.pyplot as plt\n",
        "import tensorflow as tf\n",
        "import pickle"
      ],
      "execution_count": null,
      "outputs": []
    },
    {
      "cell_type": "code",
      "metadata": {
        "colab": {
          "base_uri": "https://localhost:8080/"
        },
        "id": "Z2Bk4sc0joIW",
        "outputId": "b1b14216-e4fe-4f62-b3f0-a9172cd9fab7"
      },
      "source": [
        "!python3 --version"
      ],
      "execution_count": null,
      "outputs": [
        {
          "output_type": "stream",
          "text": [
            "Python 3.6.9\n"
          ],
          "name": "stdout"
        }
      ]
    },
    {
      "cell_type": "code",
      "metadata": {
        "colab": {
          "base_uri": "https://localhost:8080/",
          "height": 35
        },
        "id": "e-X2mrcEP2of",
        "outputId": "42af3700-a57d-4871-886a-d4c1209f1125"
      },
      "source": [
        "tf.__version__"
      ],
      "execution_count": null,
      "outputs": [
        {
          "output_type": "execute_result",
          "data": {
            "application/vnd.google.colaboratory.intrinsic+json": {
              "type": "string"
            },
            "text/plain": [
              "'2.5.0-dev20201203'"
            ]
          },
          "metadata": {
            "tags": []
          },
          "execution_count": 3
        }
      ]
    },
    {
      "cell_type": "code",
      "metadata": {
        "colab": {
          "base_uri": "https://localhost:8080/"
        },
        "id": "J-q0b0SephNM",
        "outputId": "7532581e-d8d7-48f4-a104-cf76d0d42244"
      },
      "source": [
        "tf.test.is_gpu_available()"
      ],
      "execution_count": null,
      "outputs": [
        {
          "output_type": "stream",
          "text": [
            "WARNING:tensorflow:From <ipython-input-21-17bb7203622b>:1: is_gpu_available (from tensorflow.python.framework.test_util) is deprecated and will be removed in a future version.\n",
            "Instructions for updating:\n",
            "Use `tf.config.list_physical_devices('GPU')` instead.\n"
          ],
          "name": "stdout"
        },
        {
          "output_type": "execute_result",
          "data": {
            "text/plain": [
              "False"
            ]
          },
          "metadata": {
            "tags": []
          },
          "execution_count": 21
        }
      ]
    },
    {
      "cell_type": "code",
      "metadata": {
        "id": "uO8IamseTo5y"
      },
      "source": [
        "bitcoin_21month = pd.read_csv('/content/drive/MyDrive/BTCUSDT-21months.csv')"
      ],
      "execution_count": null,
      "outputs": []
    },
    {
      "cell_type": "code",
      "metadata": {
        "id": "GcXXhkU5U21b"
      },
      "source": [
        "bitcoin_21month['Timestamp'] = pd.to_datetime(bitcoin_21month['Timestamp'], unit='s')\n",
        "bitcoin_21month = bitcoin_21month.set_index(['Timestamp'])\n",
        "bitcoin_21month.interpolate(method='time', inplace=True)\n",
        "\n",
        "bitcoin_21month['Close'] = bitcoin_21month['Close'].fillna(method='ffill')\n",
        "bitcoin_21month['Weighted_Price'] = bitcoin_21month['Weighted_Price'].fillna(method='ffill')\n",
        "bitcoin_21month['Volume_(BTC)'] = bitcoin_21month['Volume_(BTC)'].fillna(0)\n",
        "bitcoin_21month['Volume_(USDT)'] = bitcoin_21month['Volume_(USDT)'].fillna(0)\n",
        "bitcoin_21month['Open'] = bitcoin_21month['Open'].fillna(bitcoin_21month['Close'])\n",
        "bitcoin_21month['High'] = bitcoin_21month['High'].fillna(bitcoin_21month['Close'])\n",
        "bitcoin_21month['Low'] = bitcoin_21month['Low'].fillna(bitcoin_21month['Close'])"
      ],
      "execution_count": null,
      "outputs": []
    },
    {
      "cell_type": "code",
      "metadata": {
        "id": "6oQXQQuxVBjE"
      },
      "source": [
        "test_df = bitcoin_21month.iloc[-86400:]\n",
        "train_df = bitcoin_21month.iloc[-(86400 + 7 * 86400): -86400]\n",
        "\n",
        "train_df_norm = (train_df - train_df.mean()) / train_df.std()\n",
        "valid_df_norm = train_df_norm.iloc[-(len(train_df_norm))//5:]\n",
        "train_df_norm = train_df_norm.iloc[-(len(train_df_norm))//5*4:]\n",
        "test_df_estimate_norm = (test_df - train_df.iloc[-86400:].mean()) / train_df.iloc[-86400:].std()"
      ],
      "execution_count": null,
      "outputs": []
    },
    {
      "cell_type": "code",
      "metadata": {
        "id": "bMQfkubdoPpp"
      },
      "source": [
        "n_features = len(train_df_norm.columns)\n",
        "window_size = 60\n",
        "forecast_size = 60\n",
        "batch_size = 64\n",
        "buffer_size = 64\n",
        "model_dim = 64\n",
        "num_heads = 8\n",
        "num_hidden_neurons = 512"
      ],
      "execution_count": null,
      "outputs": []
    },
    {
      "cell_type": "code",
      "metadata": {
        "id": "fwt9iOziVRmp"
      },
      "source": [
        "    def multivariate_data(dataset, target, start_index,\n",
        "            end_index, history_size, target_size,\n",
        "            step, single_step=True):\n",
        "        data = []\n",
        "        labels = []\n",
        "\n",
        "        start_index = start_index + history_size\n",
        "        if end_index is None:\n",
        "            end_index = len(dataset - target_size)\n",
        "\n",
        "        for i in range(start_index, end_index):\n",
        "            indices = range(i-history_size, i, step)\n",
        "            if i + target_size < len(dataset):\n",
        "                data.append(dataset[indices])\n",
        "\n",
        "                if single_step:\n",
        "                    labels.append(target[i+target_size])\n",
        "                else:\n",
        "                    labels.append(target[i:i+target_size])\n",
        "            else:\n",
        "                pass\n",
        "\n",
        "        return np.array(data), np.array(labels)"
      ],
      "execution_count": null,
      "outputs": []
    },
    {
      "cell_type": "code",
      "metadata": {
        "id": "eKCyqGAn0yAP"
      },
      "source": [
        "train_x, train_y = multivariate_data(train_df_norm.values, train_df_norm.values[:,6], 0, None, 60, 60, 1)\n",
        "val_x, val_y = multivariate_data(valid_df_norm.values, valid_df_norm.values[:,6], 0, None, 60, 60, 1)\n",
        "test_x, test_y = multivariate_data(test_df_estimate_norm.values, test_df_estimate_norm.values[:,6], 0, None, 60, 60, 1)"
      ],
      "execution_count": null,
      "outputs": []
    },
    {
      "cell_type": "code",
      "metadata": {
        "id": "8kSPXeoRQrn3"
      },
      "source": [
        "train_x = train_x[:, :, 6]\n",
        "val_x = val_x[:, :, 6]\n",
        "test_x = test_x[:, :, 6]"
      ],
      "execution_count": null,
      "outputs": []
    },
    {
      "cell_type": "code",
      "metadata": {
        "id": "TugRfWy1t-PQ"
      },
      "source": [
        "train_ds = tf.data.Dataset.from_tensor_slices((train_x, train_y))\n",
        "train_ds = train_ds.batch(batch_size)\n",
        "val_ds = tf.data.Dataset.from_tensor_slices((val_x, val_y))\n",
        "val_ds = val_ds.batch(batch_size)\n",
        "test_ds = tf.data.Dataset.from_tensor_slices((test_x, test_y))\n",
        "test_ds = test_ds.batch(batch_size)"
      ],
      "execution_count": null,
      "outputs": []
    },
    {
      "cell_type": "code",
      "metadata": {
        "id": "GHFtts-T0fVj"
      },
      "source": [
        "# Model\n",
        "\n",
        "def build_multi_head_attention_layers(model_dim, num_heads):\n",
        "    multi_head_attention_layer = tf.keras.layers.MultiHeadAttention(\n",
        "        model_dim, num_heads)   \n",
        "    dropout = tf.keras.layers.Dropout(0.1)\n",
        "    # normalization = LayerNormalization(epsilon=1e-6)\n",
        "    normalization = tf.keras.layers.BatchNormalization()\n",
        "    return multi_head_attention_layer, dropout, normalization\n",
        "\n",
        "def build_feed_forward_layers(model_dim, num_hidden_neurons):\n",
        "    feed_forward_layer = tf.keras.Sequential()\n",
        "    feed_forward_layer.add(tf.keras.layers.Dense(num_hidden_neurons,\n",
        "                                                 activation='relu'))\n",
        "    feed_forward_layer.add(tf.keras.layers.Dense(model_dim))\n",
        "        \n",
        "    dropout = tf.keras.layers.Dropout(0.1)\n",
        "    # normalization = LayerNormalization(epsilon=1e-6)\n",
        "    normalization = tf.keras.layers.BatchNormalization()\n",
        "    return feed_forward_layer, dropout, normalization\n",
        "\n",
        "class PositionalEncoding(object):\n",
        "    def __init__(self, position, d):\n",
        "        angle_rads = self._get_angles(np.arange(position)[:, np.newaxis],\n",
        "                                      np.arange(d)[np.newaxis, :], d)\n",
        "\n",
        "        sines = np.sin(angle_rads[:, 0::2])\n",
        "        cosines = np.cos(angle_rads[:, 1::2])\n",
        "        self._encoding = np.concatenate([sines, cosines], axis=-1)\n",
        "        self._encoding = self._encoding[np.newaxis, ...]\n",
        "    \n",
        "    def _get_angles(self, position, i, d):\n",
        "        angle_rates = 1 / np.power(10000, (2 * (i//2)) / np.float32(d))\n",
        "        return position * angle_rates\n",
        "    \n",
        "    def get_positional_encoding(self):\n",
        "        return tf.cast(self._encoding, dtype=tf.float32)\n",
        "\n",
        "class PreProcessingLayer(tf.keras.layers.Layer):\n",
        "    def __init__(self, model_dim, window_size):\n",
        "        super(PreProcessingLayer, self).__init__()\n",
        "        pe = PositionalEncoding(window_size, model_dim)\n",
        "        self.pe = pe.get_positional_encoding()\n",
        "        self.dropout = tf.keras.layers.Dropout(0.1)\n",
        "\n",
        "    def call(self, sequence, training, mask):\n",
        "        sequence_length = tf.shape(sequence)[1]\n",
        "        sequence += self.pe[:, :sequence_length, :]\n",
        "        sequence = self.dropout(sequence, training=training)\n",
        "        return sequence\n",
        "    \n",
        "class EncoderLayer(tf.keras.layers.Layer):\n",
        "    def __init__(self, model_dim, num_hidden_neurons, num_heads):\n",
        "        super(EncoderLayer, self).__init__()\n",
        "\n",
        "        # Build multi head attention layer and necessary additional layers\n",
        "        self.multi_head_attention_layer, self.attention_dropout, self.attention_normalization = \\\n",
        "        build_multi_head_attention_layers(model_dim, num_heads)   \n",
        "            \n",
        "        # Build feed-forward neural network and necessary additional layers\n",
        "        self.feed_forward_layer, self.feed_forward_dropout, self.feed_forward_normalization = \\\n",
        "        build_feed_forward_layers(model_dim, num_hidden_neurons)\n",
        "       \n",
        "    def call(self, sequence, training, mask):\n",
        "\n",
        "        # Calculate attention output\n",
        "        attnention_output, _ = self.multi_head_attention_layer(sequence, sequence, sequence, mask)\n",
        "        attnention_output = self.attention_dropout(attnention_output, training=training)\n",
        "        attnention_output = self.attention_normalization(sequence + attnention_output)\n",
        "        \n",
        "        # Calculate output of feed forward network\n",
        "        output = self.feed_forward_layer(attnention_output)\n",
        "        output = self.feed_forward_dropout(output, training=training)\n",
        "        \n",
        "        # Combine two outputs\n",
        "        output = self.feed_forward_normalization(attnention_output + output)\n",
        "\n",
        "        return output\n",
        "\n",
        "class DecoderLayer(tf.keras.layers.Layer):\n",
        "    def __init__(self, model_dim, num_hidden_neurons, num_heads):\n",
        "        super(DecoderLayer, self).__init__()\n",
        "\n",
        "        # Build multi head attention layers and necessary additional layers\n",
        "        self.multi_head_attention_layer1, self.attention_dropout1, self.attention_normalization1 =\\\n",
        "        build_multi_head_attention_layers(model_dim, num_heads)   \n",
        "        \n",
        "        self.multi_head_attention_layer2, self.attention_dropout2, self.attention_normalization2 =\\\n",
        "        build_multi_head_attention_layers(model_dim, num_heads)           \n",
        "\n",
        "        # Build feed-forward neural network and necessary additional layers\n",
        "        self.feed_forward_layer, self.feed_forward_dropout, self.feed_forward_normalization = \\\n",
        "        build_feed_forward_layers(model_dim, num_hidden_neurons)\n",
        "\n",
        "    def call(self, sequence, enconder_output, training, look_ahead_mask, padding_mask):\n",
        "\n",
        "        attnention_output1, attnention_weights1 = self.multi_head_attention_layer1(sequence, sequence, sequence, look_ahead_mask)\n",
        "        attnention_output1 = self.attention_dropout1(attnention_output1, training=training)\n",
        "        attnention_output1 = self.attention_normalization1(sequence + attnention_output1)\n",
        "        \n",
        "        attnention_output2, attnention_weights2 = self.multi_head_attention_layer2(enconder_output, enconder_output, attnention_output1, padding_mask)\n",
        "        attnention_output2 = self.attention_dropout1(attnention_output2, training=training)\n",
        "        attnention_output2 = self.attention_normalization1(attnention_output1 + attnention_output2)\n",
        "\n",
        "        output = self.feed_forward_layer(attnention_output2)\n",
        "        output = self.feed_forward_dropout(output, training=training)\n",
        "        output = self.feed_forward_normalization(attnention_output2 + output)\n",
        "\n",
        "        return output, attnention_weights1, attnention_weights2\n",
        "\n",
        "class Encoder(tf.keras.layers.Layer):\n",
        "    def __init__(self, model_dim, num_hidden_neurons, num_heads, window_size, num_enc_layers = 6):\n",
        "        super(Encoder, self).__init__()\n",
        "        \n",
        "        self.num_enc_layers = num_enc_layers\n",
        "        \n",
        "        self.pre_processing_layer = PreProcessingLayer(model_dim, window_size)\n",
        "        self.encoder_layers = [EncoderLayer(model_dim, num_hidden_neurons, num_heads) for _ in range(num_enc_layers)]\n",
        "\n",
        "    def call(self, sequence, training, mask):\n",
        "        \n",
        "        sequence = self.pre_processing_layer(sequence, training, mask)\n",
        "        for i in range(self.num_enc_layers):\n",
        "            sequence = self.encoder_layers[i](sequence, training, mask)\n",
        "\n",
        "        return sequence\n",
        "\n",
        "class Decoder(tf.keras.layers.Layer):\n",
        "    def __init__(self, model_dim, num_hidden_neurons, num_heads, window_size, num_dec_layers=6):\n",
        "        super(Decoder, self).__init__()\n",
        "\n",
        "        self.num_dec_layers = num_dec_layers\n",
        "        \n",
        "        self.pre_processing_layer = PreProcessingLayer(model_dim, window_size)\n",
        "        self.decoder_layers = [DecoderLayer(model_dim, num_hidden_neurons, num_heads) for _ in range(num_dec_layers)]\n",
        "\n",
        "    def call(self, sequence, enconder_output, training, look_ahead_mask, padding_mask):\n",
        "            \n",
        "        sequence = self.pre_processing_layer(sequence, training, mask)\n",
        "        \n",
        "        for i in range(self.num_dec_layers):\n",
        "\n",
        "            sequence, attention_weights1, attention_weights2 = self.dec_layers[i](sequence, enconder_output, training, look_ahead_mask, padding_mask)\n",
        "\n",
        "            attention_weights['decoder_layer{}_attention_weights1'.format(i+1)] = attention_weights1\n",
        "            attention_weights['decoder_layer{}_attention_weights2'.format(i+1)] = attention_weights2\n",
        "\n",
        "        return sequence, attention_weights\n",
        "\n",
        "class Transformer(tf.keras.Model):\n",
        "    def __init__(self, model_dim, num_heads, num_hidden_neurons, window_size):\n",
        "        super(Transformer, self).__init__()\n",
        "\n",
        "        self.encoder = Encoder(model_dim, num_hidden_neurons, num_heads, window_size)\n",
        "\n",
        "        self.decoder = Decoder(model_dim, num_hidden_neurons, num_heads, window_size)\n",
        "\n",
        "        self.final_layer = tf.keras.layers.Dense(1)\n",
        "\n",
        "    def call(self, inp, tar, training, enc_padding_mask, \n",
        "           look_ahead_mask, dec_padding_mask):\n",
        "\n",
        "        enc_output = self.encoder(inp, training, enc_padding_mask)  # (batch_size, inp_seq_len, model_dim)\n",
        "\n",
        "        # dec_output.shape == (batch_size, tar_seq_len, model_dim)\n",
        "        dec_output, attention_weights = self.decoder(\n",
        "            tar, enc_output, training, look_ahead_mask, dec_padding_mask)\n",
        "\n",
        "        final_output = self.final_layer(dec_output)  # (batch_size, tar_seq_len, target_vocab_size)\n",
        "\n",
        "        return final_output, attention_weights"
      ],
      "execution_count": null,
      "outputs": []
    },
    {
      "cell_type": "code",
      "metadata": {
        "id": "TdQKTCvRurFG"
      },
      "source": [
        "transformer = Transformer(model_dim, 8, 64, 60)"
      ],
      "execution_count": null,
      "outputs": []
    },
    {
      "cell_type": "code",
      "metadata": {
        "id": "wye0ng5i69Ad"
      },
      "source": [
        "def build_multi_head_attention_layers(model_dim, num_heads):\n",
        "    multi_head_attention_layer = tf.keras.layers.MultiHeadAttention(\n",
        "        model_dim, num_heads)   \n",
        "    dropout = tf.keras.layers.Dropout(0.1)\n",
        "    # normalization = LayerNormalization(epsilon=1e-6)\n",
        "    normalization = tf.keras.layers.BatchNormalization()\n",
        "    return multi_head_attention_layer, dropout, normalization\n",
        "\n",
        "def build_feed_forward_layers(model_dim, num_hidden_neurons):\n",
        "    feed_forward_layer = tf.keras.Sequential()\n",
        "    feed_forward_layer.add(tf.keras.layers.Dense(num_hidden_neurons,\n",
        "                                                 activation='relu'))\n",
        "    feed_forward_layer.add(tf.keras.layers.Dense(model_dim))\n",
        "        \n",
        "    dropout = tf.keras.layers.Dropout(0.1)\n",
        "    # normalization = LayerNormalization(epsilon=1e-6)\n",
        "    normalization = tf.keras.layers.BatchNormalization()\n",
        "    return feed_forward_layer, dropout, normalization\n",
        "\n",
        "class PreProcessingLayer(tf.keras.layers.Layer):\n",
        "    def __init__(self, model_dim, window_size):\n",
        "        super(PreProcessingLayer, self).__init__()\n",
        "        pe = PositionalEncoding(window_size, model_dim)\n",
        "        self.pe = pe.get_positional_encoding()\n",
        "        self.dropout = tf.keras.layers.Dropout(0.1)\n",
        "\n",
        "    def call(self, sequence, training):\n",
        "        sequence_length = tf.shape(sequence)[1]\n",
        "        sequence += self.pe[:, :sequence_length, :]\n",
        "        sequence = self.dropout(sequence, training=training)\n",
        "        return sequence\n",
        "\n",
        "class PositionalEncoding(object):\n",
        "    def __init__(self, position, d):\n",
        "        angle_rads = self._get_angles(np.arange(position)[:, np.newaxis],\n",
        "                                      np.arange(d)[np.newaxis, :], d)\n",
        "\n",
        "        sines = np.sin(angle_rads[:, 0::2])\n",
        "        cosines = np.cos(angle_rads[:, 1::2])\n",
        "        self._encoding = np.concatenate([sines, cosines], axis=-1)\n",
        "        self._encoding = self._encoding[np.newaxis, ...]\n",
        "    \n",
        "    def _get_angles(self, position, i, d):\n",
        "        angle_rates = 1 / np.power(10000, (2 * (i//2)) / np.float32(d))\n",
        "        return position * angle_rates\n",
        "    \n",
        "    def get_positional_encoding(self):\n",
        "        return tf.cast(self._encoding, dtype=tf.float32)\n",
        "\n",
        "class EncoderLayer(tf.keras.layers.Layer):\n",
        "    def __init__(self, model_dim, num_hidden_neurons, num_heads):\n",
        "        super(EncoderLayer, self).__init__()\n",
        "\n",
        "        # Build multi head attention layer and necessary additional layers\n",
        "        self.multi_head_attention_layer, self.attention_dropout, self.attention_normalization = \\\n",
        "        build_multi_head_attention_layers(model_dim, num_heads)   \n",
        "            \n",
        "        # Build feed-forward neural network and necessary additional layers\n",
        "        self.feed_forward_layer, self.feed_forward_dropout, self.feed_forward_normalization = \\\n",
        "        build_feed_forward_layers(model_dim, num_hidden_neurons)\n",
        "       \n",
        "    def call(self, sequence, training):\n",
        "\n",
        "        # Calculate attention output\n",
        "        attnention_output, _ = self.multi_head_attention_layer(sequence, sequence, sequence)\n",
        "        attnention_output = self.attention_dropout(attnention_output, training=training)\n",
        "        attnention_output = self.attention_normalization(sequence + attnention_output)\n",
        "        \n",
        "        # Calculate output of feed forward network\n",
        "        output = self.feed_forward_layer(attnention_output)\n",
        "        output = self.feed_forward_dropout(output, training=training)\n",
        "        \n",
        "        # Combine two outputs\n",
        "        output = self.feed_forward_normalization(attnention_output + output)\n",
        "\n",
        "        return output\n",
        "\n",
        "class Encoder(tf.keras.layers.Layer):\n",
        "    def __init__(self, model_dim, num_hidden_neurons, num_heads, window_size, num_enc_layers = 6):\n",
        "        super(Encoder, self).__init__()\n",
        "        \n",
        "        self.num_enc_layers = num_enc_layers\n",
        "        \n",
        "        # self.pre_processing_layer = PreProcessingLayer(model_dim, window_size)\n",
        "        self.encoder_layers = [EncoderLayer(model_dim, num_hidden_neurons, num_heads) for _ in range(num_enc_layers)]\n",
        "\n",
        "    def call(self, sequence, training):\n",
        "        \n",
        "        # sequence = self.pre_processing_layer(sequence, training)\n",
        "        for i in range(self.num_enc_layers):\n",
        "            sequence = self.encoder_layers[i](sequence, training)\n",
        "\n",
        "        return sequence\n",
        "\n",
        "class TST(tf.keras.Model):\n",
        "    def __init__(self, model_dim, num_heads, num_hidden_neurons, window_size):\n",
        "        super(TST, self).__init__()\n",
        "        self.encoder = Encoder(model_dim, num_hidden_neurons, num_heads, window_size)\n",
        "        self.final_layer = tf.keras.layers.Dense(1)\n",
        "\n",
        "    def call(self, inp, tar, training):\n",
        "\n",
        "        enc_output = self.encoder(inp, training)  # (batch_size, inp_seq_len, model_dim)\n",
        "\n",
        "        # dec_output.shape == (batch_size, tar_seq_len, model_dim)\n",
        "        # dec_output, attention_weights = self.decoder(\n",
        "        #     tar, enc_output, training, look_ahead_mask, dec_padding_mask)\n",
        "\n",
        "        # final_output = self.final_layer(dec_output)  # (batch_size, tar_seq_len, target_vocab_size)\n",
        "        final_output = tf.keras.layers.Dense(1)(enc_output)\n",
        "        return final_output\n",
        "        # return final_output, attention_weights"
      ],
      "execution_count": null,
      "outputs": []
    },
    {
      "cell_type": "code",
      "metadata": {
        "id": "Pr6BZGWNo9Du"
      },
      "source": [
        "tst = TST(model_dim, 8, batch_size, 60)"
      ],
      "execution_count": null,
      "outputs": []
    },
    {
      "cell_type": "code",
      "metadata": {
        "colab": {
          "base_uri": "https://localhost:8080/"
        },
        "id": "Bx-t5F0zs3GM",
        "outputId": "58b5149d-99e3-4467-cffc-7667e39de339"
      },
      "source": [
        "train_x.shape"
      ],
      "execution_count": null,
      "outputs": [
        {
          "output_type": "execute_result",
          "data": {
            "text/plain": [
              "(483720, 60, 7)"
            ]
          },
          "metadata": {
            "tags": []
          },
          "execution_count": 19
        }
      ]
    },
    {
      "cell_type": "code",
      "metadata": {
        "colab": {
          "base_uri": "https://localhost:8080/",
          "height": 335
        },
        "id": "oIlkXMk5pEuA",
        "outputId": "2c6e156a-be53-4b2c-d065-088a3ed02e63"
      },
      "source": [
        "pred = tst(train_x, train_y, True)"
      ],
      "execution_count": null,
      "outputs": [
        {
          "output_type": "error",
          "ename": "AttributeError",
          "evalue": "ignored",
          "traceback": [
            "\u001b[0;31m---------------------------------------------------------------------------\u001b[0m",
            "\u001b[0;31mAttributeError\u001b[0m                            Traceback (most recent call last)",
            "\u001b[0;32m<ipython-input-20-9814252743d0>\u001b[0m in \u001b[0;36m<module>\u001b[0;34m()\u001b[0m\n\u001b[0;32m----> 1\u001b[0;31m \u001b[0mpred\u001b[0m \u001b[0;34m=\u001b[0m \u001b[0mtst\u001b[0m\u001b[0;34m(\u001b[0m\u001b[0mtrain_x\u001b[0m\u001b[0;34m,\u001b[0m \u001b[0mtrain_y\u001b[0m\u001b[0;34m,\u001b[0m \u001b[0;32mTrue\u001b[0m\u001b[0;34m)\u001b[0m\u001b[0;34m\u001b[0m\u001b[0;34m\u001b[0m\u001b[0m\n\u001b[0m",
            "\u001b[0;32m/usr/local/lib/python3.6/dist-packages/tensorflow/python/keras/engine/base_layer.py\u001b[0m in \u001b[0;36m__call__\u001b[0;34m(self, *args, **kwargs)\u001b[0m\n\u001b[1;32m   1012\u001b[0m         with autocast_variable.enable_auto_cast_variables(\n\u001b[1;32m   1013\u001b[0m             self._compute_dtype_object):\n\u001b[0;32m-> 1014\u001b[0;31m           \u001b[0moutputs\u001b[0m \u001b[0;34m=\u001b[0m \u001b[0mcall_fn\u001b[0m\u001b[0;34m(\u001b[0m\u001b[0minputs\u001b[0m\u001b[0;34m,\u001b[0m \u001b[0;34m*\u001b[0m\u001b[0margs\u001b[0m\u001b[0;34m,\u001b[0m \u001b[0;34m**\u001b[0m\u001b[0mkwargs\u001b[0m\u001b[0;34m)\u001b[0m\u001b[0;34m\u001b[0m\u001b[0;34m\u001b[0m\u001b[0m\n\u001b[0m\u001b[1;32m   1015\u001b[0m \u001b[0;34m\u001b[0m\u001b[0m\n\u001b[1;32m   1016\u001b[0m         \u001b[0;32mif\u001b[0m \u001b[0mself\u001b[0m\u001b[0;34m.\u001b[0m\u001b[0m_activity_regularizer\u001b[0m\u001b[0;34m:\u001b[0m\u001b[0;34m\u001b[0m\u001b[0;34m\u001b[0m\u001b[0m\n",
            "\u001b[0;32m<ipython-input-14-919e3bd72d05>\u001b[0m in \u001b[0;36mcall\u001b[0;34m(self, inp, tar, training)\u001b[0m\n\u001b[1;32m     99\u001b[0m     \u001b[0;32mdef\u001b[0m \u001b[0mcall\u001b[0m\u001b[0;34m(\u001b[0m\u001b[0mself\u001b[0m\u001b[0;34m,\u001b[0m \u001b[0minp\u001b[0m\u001b[0;34m,\u001b[0m \u001b[0mtar\u001b[0m\u001b[0;34m,\u001b[0m \u001b[0mtraining\u001b[0m\u001b[0;34m)\u001b[0m\u001b[0;34m:\u001b[0m\u001b[0;34m\u001b[0m\u001b[0;34m\u001b[0m\u001b[0m\n\u001b[1;32m    100\u001b[0m \u001b[0;34m\u001b[0m\u001b[0m\n\u001b[0;32m--> 101\u001b[0;31m         \u001b[0menc_output\u001b[0m \u001b[0;34m=\u001b[0m \u001b[0mself\u001b[0m\u001b[0;34m.\u001b[0m\u001b[0mencoder\u001b[0m\u001b[0;34m(\u001b[0m\u001b[0minp\u001b[0m\u001b[0;34m,\u001b[0m \u001b[0mtraining\u001b[0m\u001b[0;34m)\u001b[0m  \u001b[0;31m# (batch_size, inp_seq_len, model_dim)\u001b[0m\u001b[0;34m\u001b[0m\u001b[0;34m\u001b[0m\u001b[0m\n\u001b[0m\u001b[1;32m    102\u001b[0m \u001b[0;34m\u001b[0m\u001b[0m\n\u001b[1;32m    103\u001b[0m         \u001b[0;31m# dec_output.shape == (batch_size, tar_seq_len, model_dim)\u001b[0m\u001b[0;34m\u001b[0m\u001b[0;34m\u001b[0m\u001b[0;34m\u001b[0m\u001b[0m\n",
            "\u001b[0;32m/usr/local/lib/python3.6/dist-packages/tensorflow/python/keras/engine/base_layer.py\u001b[0m in \u001b[0;36m__call__\u001b[0;34m(self, *args, **kwargs)\u001b[0m\n\u001b[1;32m   1012\u001b[0m         with autocast_variable.enable_auto_cast_variables(\n\u001b[1;32m   1013\u001b[0m             self._compute_dtype_object):\n\u001b[0;32m-> 1014\u001b[0;31m           \u001b[0moutputs\u001b[0m \u001b[0;34m=\u001b[0m \u001b[0mcall_fn\u001b[0m\u001b[0;34m(\u001b[0m\u001b[0minputs\u001b[0m\u001b[0;34m,\u001b[0m \u001b[0;34m*\u001b[0m\u001b[0margs\u001b[0m\u001b[0;34m,\u001b[0m \u001b[0;34m**\u001b[0m\u001b[0mkwargs\u001b[0m\u001b[0;34m)\u001b[0m\u001b[0;34m\u001b[0m\u001b[0;34m\u001b[0m\u001b[0m\n\u001b[0m\u001b[1;32m   1015\u001b[0m \u001b[0;34m\u001b[0m\u001b[0m\n\u001b[1;32m   1016\u001b[0m         \u001b[0;32mif\u001b[0m \u001b[0mself\u001b[0m\u001b[0;34m.\u001b[0m\u001b[0m_activity_regularizer\u001b[0m\u001b[0;34m:\u001b[0m\u001b[0;34m\u001b[0m\u001b[0;34m\u001b[0m\u001b[0m\n",
            "\u001b[0;32m<ipython-input-14-919e3bd72d05>\u001b[0m in \u001b[0;36mcall\u001b[0;34m(self, sequence, training)\u001b[0m\n\u001b[1;32m     87\u001b[0m         \u001b[0;31m# sequence = self.pre_processing_layer(sequence, training)\u001b[0m\u001b[0;34m\u001b[0m\u001b[0;34m\u001b[0m\u001b[0;34m\u001b[0m\u001b[0m\n\u001b[1;32m     88\u001b[0m         \u001b[0;32mfor\u001b[0m \u001b[0mi\u001b[0m \u001b[0;32min\u001b[0m \u001b[0mrange\u001b[0m\u001b[0;34m(\u001b[0m\u001b[0mself\u001b[0m\u001b[0;34m.\u001b[0m\u001b[0mnum_enc_layers\u001b[0m\u001b[0;34m)\u001b[0m\u001b[0;34m:\u001b[0m\u001b[0;34m\u001b[0m\u001b[0;34m\u001b[0m\u001b[0m\n\u001b[0;32m---> 89\u001b[0;31m             \u001b[0msequence\u001b[0m \u001b[0;34m=\u001b[0m \u001b[0mself\u001b[0m\u001b[0;34m.\u001b[0m\u001b[0mencoder_layers\u001b[0m\u001b[0;34m[\u001b[0m\u001b[0mi\u001b[0m\u001b[0;34m]\u001b[0m\u001b[0;34m(\u001b[0m\u001b[0msequence\u001b[0m\u001b[0;34m,\u001b[0m \u001b[0mtraining\u001b[0m\u001b[0;34m)\u001b[0m\u001b[0;34m\u001b[0m\u001b[0;34m\u001b[0m\u001b[0m\n\u001b[0m\u001b[1;32m     90\u001b[0m \u001b[0;34m\u001b[0m\u001b[0m\n\u001b[1;32m     91\u001b[0m         \u001b[0;32mreturn\u001b[0m \u001b[0msequence\u001b[0m\u001b[0;34m\u001b[0m\u001b[0;34m\u001b[0m\u001b[0m\n",
            "\u001b[0;32m/usr/local/lib/python3.6/dist-packages/tensorflow/python/keras/engine/base_layer.py\u001b[0m in \u001b[0;36m__call__\u001b[0;34m(self, *args, **kwargs)\u001b[0m\n\u001b[1;32m   1012\u001b[0m         with autocast_variable.enable_auto_cast_variables(\n\u001b[1;32m   1013\u001b[0m             self._compute_dtype_object):\n\u001b[0;32m-> 1014\u001b[0;31m           \u001b[0moutputs\u001b[0m \u001b[0;34m=\u001b[0m \u001b[0mcall_fn\u001b[0m\u001b[0;34m(\u001b[0m\u001b[0minputs\u001b[0m\u001b[0;34m,\u001b[0m \u001b[0;34m*\u001b[0m\u001b[0margs\u001b[0m\u001b[0;34m,\u001b[0m \u001b[0;34m**\u001b[0m\u001b[0mkwargs\u001b[0m\u001b[0;34m)\u001b[0m\u001b[0;34m\u001b[0m\u001b[0;34m\u001b[0m\u001b[0m\n\u001b[0m\u001b[1;32m   1015\u001b[0m \u001b[0;34m\u001b[0m\u001b[0m\n\u001b[1;32m   1016\u001b[0m         \u001b[0;32mif\u001b[0m \u001b[0mself\u001b[0m\u001b[0;34m.\u001b[0m\u001b[0m_activity_regularizer\u001b[0m\u001b[0;34m:\u001b[0m\u001b[0;34m\u001b[0m\u001b[0;34m\u001b[0m\u001b[0m\n",
            "\u001b[0;32m<ipython-input-14-919e3bd72d05>\u001b[0m in \u001b[0;36mcall\u001b[0;34m(self, sequence, training)\u001b[0m\n\u001b[1;32m     61\u001b[0m \u001b[0;34m\u001b[0m\u001b[0m\n\u001b[1;32m     62\u001b[0m         \u001b[0;31m# Calculate attention output\u001b[0m\u001b[0;34m\u001b[0m\u001b[0;34m\u001b[0m\u001b[0;34m\u001b[0m\u001b[0m\n\u001b[0;32m---> 63\u001b[0;31m         \u001b[0mattnention_output\u001b[0m\u001b[0;34m,\u001b[0m \u001b[0m_\u001b[0m \u001b[0;34m=\u001b[0m \u001b[0mself\u001b[0m\u001b[0;34m.\u001b[0m\u001b[0mmulti_head_attention_layer\u001b[0m\u001b[0;34m(\u001b[0m\u001b[0msequence\u001b[0m\u001b[0;34m,\u001b[0m \u001b[0msequence\u001b[0m\u001b[0;34m,\u001b[0m \u001b[0msequence\u001b[0m\u001b[0;34m)\u001b[0m\u001b[0;34m\u001b[0m\u001b[0;34m\u001b[0m\u001b[0m\n\u001b[0m\u001b[1;32m     64\u001b[0m         \u001b[0mattnention_output\u001b[0m \u001b[0;34m=\u001b[0m \u001b[0mself\u001b[0m\u001b[0;34m.\u001b[0m\u001b[0mattention_dropout\u001b[0m\u001b[0;34m(\u001b[0m\u001b[0mattnention_output\u001b[0m\u001b[0;34m,\u001b[0m \u001b[0mtraining\u001b[0m\u001b[0;34m=\u001b[0m\u001b[0mtraining\u001b[0m\u001b[0;34m)\u001b[0m\u001b[0;34m\u001b[0m\u001b[0;34m\u001b[0m\u001b[0m\n\u001b[1;32m     65\u001b[0m         \u001b[0mattnention_output\u001b[0m \u001b[0;34m=\u001b[0m \u001b[0mself\u001b[0m\u001b[0;34m.\u001b[0m\u001b[0mattention_normalization\u001b[0m\u001b[0;34m(\u001b[0m\u001b[0msequence\u001b[0m \u001b[0;34m+\u001b[0m \u001b[0mattnention_output\u001b[0m\u001b[0;34m)\u001b[0m\u001b[0;34m\u001b[0m\u001b[0;34m\u001b[0m\u001b[0m\n",
            "\u001b[0;32m/usr/local/lib/python3.6/dist-packages/tensorflow/python/keras/engine/base_layer.py\u001b[0m in \u001b[0;36m__call__\u001b[0;34m(self, *args, **kwargs)\u001b[0m\n\u001b[1;32m   1012\u001b[0m         with autocast_variable.enable_auto_cast_variables(\n\u001b[1;32m   1013\u001b[0m             self._compute_dtype_object):\n\u001b[0;32m-> 1014\u001b[0;31m           \u001b[0moutputs\u001b[0m \u001b[0;34m=\u001b[0m \u001b[0mcall_fn\u001b[0m\u001b[0;34m(\u001b[0m\u001b[0minputs\u001b[0m\u001b[0;34m,\u001b[0m \u001b[0;34m*\u001b[0m\u001b[0margs\u001b[0m\u001b[0;34m,\u001b[0m \u001b[0;34m**\u001b[0m\u001b[0mkwargs\u001b[0m\u001b[0;34m)\u001b[0m\u001b[0;34m\u001b[0m\u001b[0;34m\u001b[0m\u001b[0m\n\u001b[0m\u001b[1;32m   1015\u001b[0m \u001b[0;34m\u001b[0m\u001b[0m\n\u001b[1;32m   1016\u001b[0m         \u001b[0;32mif\u001b[0m \u001b[0mself\u001b[0m\u001b[0;34m.\u001b[0m\u001b[0m_activity_regularizer\u001b[0m\u001b[0;34m:\u001b[0m\u001b[0;34m\u001b[0m\u001b[0;34m\u001b[0m\u001b[0m\n",
            "\u001b[0;32m/usr/local/lib/python3.6/dist-packages/tensorflow/python/keras/layers/multi_head_attention.py\u001b[0m in \u001b[0;36mcall\u001b[0;34m(self, query, value, key, attention_mask, return_attention_scores, training)\u001b[0m\n\u001b[1;32m    463\u001b[0m     \u001b[0;31m#   H = `size_per_head`\u001b[0m\u001b[0;34m\u001b[0m\u001b[0;34m\u001b[0m\u001b[0;34m\u001b[0m\u001b[0m\n\u001b[1;32m    464\u001b[0m     \u001b[0;31m# `query` = [B, T, N ,H]\u001b[0m\u001b[0;34m\u001b[0m\u001b[0;34m\u001b[0m\u001b[0;34m\u001b[0m\u001b[0m\n\u001b[0;32m--> 465\u001b[0;31m     \u001b[0mquery\u001b[0m \u001b[0;34m=\u001b[0m \u001b[0mself\u001b[0m\u001b[0;34m.\u001b[0m\u001b[0m_query_dense\u001b[0m\u001b[0;34m(\u001b[0m\u001b[0mquery\u001b[0m\u001b[0;34m)\u001b[0m\u001b[0;34m\u001b[0m\u001b[0;34m\u001b[0m\u001b[0m\n\u001b[0m\u001b[1;32m    466\u001b[0m \u001b[0;34m\u001b[0m\u001b[0m\n\u001b[1;32m    467\u001b[0m     \u001b[0;31m# `key` = [B, S, N, H]\u001b[0m\u001b[0;34m\u001b[0m\u001b[0;34m\u001b[0m\u001b[0;34m\u001b[0m\u001b[0m\n",
            "\u001b[0;31mAttributeError\u001b[0m: 'MultiHeadAttention' object has no attribute '_query_dense'"
          ]
        }
      ]
    },
    {
      "cell_type": "code",
      "metadata": {
        "id": "v6KpgXFsrtpe"
      },
      "source": [
        "# inputs1 = tf.keras.layers.Input(shape=(60, 7))\n",
        "inputs = tf.keras.layers.Input(shape=(60, 1))\n",
        "# att_layer = tf.keras.layers.MultiHeadAttention(model_dim, num_heads)(inputs, inputs)\n",
        "att_layer = tf.keras.layers.MultiHeadAttention(model_dim, num_heads)(inputs, inputs)\n",
        "dropout = tf.keras.layers.Dropout(0.1)(att_layer)\n",
        "norm = tf.keras.layers.BatchNormalization()(dropout)\n",
        "d1 = tf.keras.layers.Dense(num_hidden_neurons, activation='relu')(norm)\n",
        "d2 = tf.keras.layers.Dense(model_dim)(d1)\n",
        "norm2 = tf.keras.layers.BatchNormalization()(d2)\n",
        "outputs = tf.keras.layers.Dense(1)(norm2)\n",
        "tst_model = tf.keras.models.Model(inputs=inputs, outputs=outputs)"
      ],
      "execution_count": null,
      "outputs": []
    },
    {
      "cell_type": "code",
      "metadata": {
        "id": "R4ghyWTNWxdt"
      },
      "source": [
        "tst_model.compile(optimizer='adam', loss='mse')"
      ],
      "execution_count": null,
      "outputs": []
    },
    {
      "cell_type": "code",
      "metadata": {
        "colab": {
          "base_uri": "https://localhost:8080/"
        },
        "id": "41-1V6QTqWSC",
        "outputId": "32759bcd-b33f-4e6f-9dac-546340bff737"
      },
      "source": [
        "train_x.shape"
      ],
      "execution_count": null,
      "outputs": [
        {
          "output_type": "execute_result",
          "data": {
            "text/plain": [
              "(483720, 60)"
            ]
          },
          "metadata": {
            "tags": []
          },
          "execution_count": 19
        }
      ]
    },
    {
      "cell_type": "code",
      "metadata": {
        "id": "TJue0kEyp1IE"
      },
      "source": [
        "tst_model.fit(train_x, train_y, batch_size=64, epochs=20)"
      ],
      "execution_count": null,
      "outputs": []
    },
    {
      "cell_type": "code",
      "metadata": {
        "id": "LbMto-H5qEW1"
      },
      "source": [
        "tst_model.save('tst_model.h5')"
      ],
      "execution_count": null,
      "outputs": []
    },
    {
      "cell_type": "code",
      "metadata": {
        "id": "FVoT3pBJIvH6"
      },
      "source": [
        "tst_model.save('/content/drive/MyDrive/tst_model.h5')"
      ],
      "execution_count": null,
      "outputs": []
    },
    {
      "cell_type": "code",
      "metadata": {
        "id": "1MlJnB-PI21U"
      },
      "source": [
        "tst_model = tf.keras.models.load_model('/content/drive/MyDrive/tst_model.h5')"
      ],
      "execution_count": null,
      "outputs": []
    },
    {
      "cell_type": "code",
      "metadata": {
        "colab": {
          "base_uri": "https://localhost:8080/"
        },
        "id": "9nty3J44pgjU",
        "outputId": "e12e0a10-00b7-49fd-ea6d-db5b60d48a5b"
      },
      "source": [
        "train_x.shape"
      ],
      "execution_count": null,
      "outputs": [
        {
          "output_type": "execute_result",
          "data": {
            "text/plain": [
              "(483720, 60)"
            ]
          },
          "metadata": {
            "tags": []
          },
          "execution_count": 13
        }
      ]
    },
    {
      "cell_type": "code",
      "metadata": {
        "colab": {
          "base_uri": "https://localhost:8080/"
        },
        "id": "wKTtp-9yBRUQ",
        "outputId": "f1d0463e-f977-4ca6-e155-ce8c065c8b84"
      },
      "source": [
        "tst_model.evaluate(test_x, test_y, batch_size=batch_size)"
      ],
      "execution_count": null,
      "outputs": [
        {
          "output_type": "stream",
          "text": [
            "1349/1349 [==============================] - 156s 115ms/step - loss: 0.0569\n"
          ],
          "name": "stdout"
        },
        {
          "output_type": "execute_result",
          "data": {
            "text/plain": [
              "0.05686003342270851"
            ]
          },
          "metadata": {
            "tags": []
          },
          "execution_count": 14
        }
      ]
    },
    {
      "cell_type": "code",
      "metadata": {
        "id": "lTr8kP9aCJtz"
      },
      "source": [
        "preds = tst_model.predict(test_x)"
      ],
      "execution_count": null,
      "outputs": []
    },
    {
      "cell_type": "code",
      "metadata": {
        "colab": {
          "base_uri": "https://localhost:8080/"
        },
        "id": "Pl77TdfGGVaV",
        "outputId": "6a5f9e9f-462a-45ac-f9a0-ce744548f2a9"
      },
      "source": [
        "preds.shape"
      ],
      "execution_count": null,
      "outputs": [
        {
          "output_type": "execute_result",
          "data": {
            "text/plain": [
              "(86280, 60, 1)"
            ]
          },
          "metadata": {
            "tags": []
          },
          "execution_count": 14
        }
      ]
    },
    {
      "cell_type": "code",
      "metadata": {
        "colab": {
          "base_uri": "https://localhost:8080/"
        },
        "id": "qK6eV77MG8sq",
        "outputId": "6db285bd-b2c8-4930-8826-5273f5f79fe5"
      },
      "source": [
        "preds[0][-1].shape"
      ],
      "execution_count": null,
      "outputs": [
        {
          "output_type": "execute_result",
          "data": {
            "text/plain": [
              "(1,)"
            ]
          },
          "metadata": {
            "tags": []
          },
          "execution_count": 16
        }
      ]
    },
    {
      "cell_type": "code",
      "metadata": {
        "colab": {
          "base_uri": "https://localhost:8080/"
        },
        "id": "qJMnsgshHCmP",
        "outputId": "3a988058-4342-4dac-9d96-59894163d4f4"
      },
      "source": [
        "test_x.shape"
      ],
      "execution_count": null,
      "outputs": [
        {
          "output_type": "execute_result",
          "data": {
            "text/plain": [
              "(86280, 60)"
            ]
          },
          "metadata": {
            "tags": []
          },
          "execution_count": 14
        }
      ]
    },
    {
      "cell_type": "code",
      "metadata": {
        "id": "Mzh1XPuVHEU7"
      },
      "source": [
        "preds_wp = preds[:,59,:]"
      ],
      "execution_count": null,
      "outputs": []
    },
    {
      "cell_type": "code",
      "metadata": {
        "colab": {
          "base_uri": "https://localhost:8080/"
        },
        "id": "Nrmtu48gHPah",
        "outputId": "36ff4fa3-4ce7-47e2-c9e4-66c413b2e143"
      },
      "source": [
        "preds_wp.shape"
      ],
      "execution_count": null,
      "outputs": [
        {
          "output_type": "execute_result",
          "data": {
            "text/plain": [
              "(86280, 1)"
            ]
          },
          "metadata": {
            "tags": []
          },
          "execution_count": 16
        }
      ]
    },
    {
      "cell_type": "code",
      "metadata": {
        "id": "jqTgwMeRHQn5"
      },
      "source": [
        "target_wp = test_y"
      ],
      "execution_count": null,
      "outputs": []
    },
    {
      "cell_type": "code",
      "metadata": {
        "colab": {
          "base_uri": "https://localhost:8080/"
        },
        "id": "x3MNfYC6HnWc",
        "outputId": "1764624e-ac19-488a-b47e-92ef310a6dd3"
      },
      "source": [
        "target_wp.shape"
      ],
      "execution_count": null,
      "outputs": [
        {
          "output_type": "execute_result",
          "data": {
            "text/plain": [
              "(86280,)"
            ]
          },
          "metadata": {
            "tags": []
          },
          "execution_count": 18
        }
      ]
    },
    {
      "cell_type": "code",
      "metadata": {
        "id": "vFQaRiRXHZdm"
      },
      "source": [
        "import matplotlib.pyplot as plt"
      ],
      "execution_count": null,
      "outputs": []
    },
    {
      "cell_type": "code",
      "metadata": {
        "colab": {
          "base_uri": "https://localhost:8080/",
          "height": 498
        },
        "id": "UbAOyYNWHcRl",
        "outputId": "0f2f8bc1-4850-4c0d-a39e-c15c9bec5ae7"
      },
      "source": [
        "plt.figure(figsize=(16, 9))\n",
        "plt.plot(preds_wp, label='Preds')\n",
        "plt.plot(target_wp, label='Target')\n",
        "plt.legend(loc=0)"
      ],
      "execution_count": null,
      "outputs": [
        {
          "output_type": "execute_result",
          "data": {
            "text/plain": [
              "<matplotlib.legend.Legend at 0x7efed51e5198>"
            ]
          },
          "metadata": {
            "tags": []
          },
          "execution_count": 20
        },
        {
          "output_type": "display_data",
          "data": {
            "image/png": "[encoded data removed]",
            "text/plain": [
              "<Figure size 1152x648 with 1 Axes>"
            ]
          },
          "metadata": {
            "tags": [],
            "needs_background": "light"
          }
        }
      ]
    },
    {
      "cell_type": "code",
      "metadata": {
        "id": "3iBTvS2U7Tix"
      },
      "source": [
        "to_save_data = {'preds':preds_wp.ravel(), 'targets':target_wp}\n",
        "to_save = pd.DataFrame(data=to_save_data)\n",
        "to_save.to_csv('/content/drive/MyDrive/transformer_preds.csv')"
      ],
      "execution_count": null,
      "outputs": []
    },
    {
      "cell_type": "code",
      "metadata": {
        "id": "CLgpGS1rH2mZ"
      },
      "source": [
        "mae = np.sum(np.absolute(preds_wp.ravel() - target_wp.ravel())) / len(preds_wp)"
      ],
      "execution_count": null,
      "outputs": []
    },
    {
      "cell_type": "code",
      "metadata": {
        "colab": {
          "base_uri": "https://localhost:8080/"
        },
        "id": "nJS0AdGvrrTv",
        "outputId": "64fc7561-4b14-4f9f-d208-0d7edd6ea14f"
      },
      "source": [
        "mae"
      ],
      "execution_count": null,
      "outputs": [
        {
          "output_type": "execute_result",
          "data": {
            "text/plain": [
              "0.21492822136605985"
            ]
          },
          "metadata": {
            "tags": []
          },
          "execution_count": 25
        }
      ]
    },
    {
      "cell_type": "code",
      "metadata": {
        "colab": {
          "base_uri": "https://localhost:8080/"
        },
        "id": "mtOapHTO3ibm",
        "outputId": "37c0b2bc-75e0-4c0c-ce1e-507368b9d591"
      },
      "source": [
        "len(target_wp)"
      ],
      "execution_count": null,
      "outputs": [
        {
          "output_type": "execute_result",
          "data": {
            "text/plain": [
              "86280"
            ]
          },
          "metadata": {
            "tags": []
          },
          "execution_count": 25
        }
      ]
    },
    {
      "cell_type": "code",
      "metadata": {
        "id": "qQy4-p6k3kps"
      },
      "source": [
        "np.array(preds_wp) - np.array(target_wp)"
      ],
      "execution_count": null,
      "outputs": []
    },
    {
      "cell_type": "code",
      "metadata": {
        "id": "qv4YcVVU5gBR"
      },
      "source": [
        ""
      ],
      "execution_count": null,
      "outputs": []
    }
  ]
}