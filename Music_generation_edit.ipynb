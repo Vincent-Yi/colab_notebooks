{
  "cells": [
    {
      "cell_type": "code",
      "execution_count": null,
      "metadata": {
        "colab": {
          "base_uri": "https://localhost:8080/"
        },
        "id": "2_AD7b1k92xm",
        "outputId": "dff2127a-acb7-43fa-b8fc-84c03808a419"
      },
      "outputs": [
        {
          "output_type": "stream",
          "name": "stdout",
          "text": [
            "Collecting pretty_midi\n",
            "  Downloading pretty_midi-0.2.9.tar.gz (5.6 MB)\n",
            "\u001b[K     |████████████████████████████████| 5.6 MB 10.7 MB/s \n",
            "\u001b[?25hRequirement already satisfied: numpy>=1.7.0 in /usr/local/lib/python3.7/dist-packages (from pretty_midi) (1.19.5)\n",
            "Collecting mido>=1.1.16\n",
            "  Downloading mido-1.2.10-py2.py3-none-any.whl (51 kB)\n",
            "\u001b[K     |████████████████████████████████| 51 kB 8.4 MB/s \n",
            "\u001b[?25hRequirement already satisfied: six in /usr/local/lib/python3.7/dist-packages (from pretty_midi) (1.15.0)\n",
            "Building wheels for collected packages: pretty-midi\n",
            "  Building wheel for pretty-midi (setup.py) ... \u001b[?25l\u001b[?25hdone\n",
            "  Created wheel for pretty-midi: filename=pretty_midi-0.2.9-py3-none-any.whl size=5591953 sha256=bb4a072c2becff33e08a9c9c1d1a3bf5645c2aa831d39caba8185686bcd1dd32\n",
            "  Stored in directory: /root/.cache/pip/wheels/ad/74/7c/a06473ca8dcb63efb98c1e67667ce39d52100f837835ea18fa\n",
            "Successfully built pretty-midi\n",
            "Installing collected packages: mido, pretty-midi\n",
            "Successfully installed mido-1.2.10 pretty-midi-0.2.9\n"
          ]
        }
      ],
      "source": [
        "!pip install pretty_midi"
      ]
    },
    {
      "cell_type": "code",
      "execution_count": null,
      "metadata": {
        "id": "CdBuRpF69lqb"
      },
      "outputs": [],
      "source": [
        "import tensorflow as tf\n",
        "import numpy as np\n",
        "import pandas as pd\n",
        "import pretty_midi\n",
        "import os\n",
        "import csv"
      ]
    },
    {
      "cell_type": "code",
      "execution_count": null,
      "metadata": {
        "colab": {
          "base_uri": "https://localhost:8080/",
          "height": 35
        },
        "id": "AHCXDifk-4T2",
        "outputId": "ce9c2c8d-928f-4dea-adf7-a7272db22c78"
      },
      "outputs": [
        {
          "data": {
            "application/vnd.google.colaboratory.intrinsic+json": {
              "type": "string"
            },
            "text/plain": [
              "'2.7.0'"
            ]
          },
          "execution_count": 35,
          "metadata": {},
          "output_type": "execute_result"
        }
      ],
      "source": [
        "tf.__version__"
      ]
    },
    {
      "cell_type": "code",
      "execution_count": null,
      "metadata": {
        "colab": {
          "base_uri": "https://localhost:8080/"
        },
        "id": "jRuidP2T-5vu",
        "outputId": "17c5a788-3902-4119-fb27-732101e32bdf"
      },
      "outputs": [
        {
          "data": {
            "text/plain": [
              "[PhysicalDevice(name='/physical_device:GPU:0', device_type='GPU')]"
            ]
          },
          "execution_count": 36,
          "metadata": {},
          "output_type": "execute_result"
        }
      ],
      "source": [
        "tf.config.list_physical_devices('GPU')"
      ]
    },
    {
      "cell_type": "code",
      "execution_count": null,
      "metadata": {
        "id": "6We5LmRrB6tj"
      },
      "outputs": [],
      "source": [
        "embedding_dim = 512\n",
        "start_key = 21\n",
        "history = 960 # 480 # 1920\n",
        "epochs = 30\n",
        "batch_size = 128\n",
        "fs = 16 # 4  # 32\n",
        "temperature = 1.0"
      ]
    },
    {
      "cell_type": "code",
      "execution_count": null,
      "metadata": {
        "id": "l33N8mhlCej5"
      },
      "outputs": [],
      "source": [
        "def get_file_paths(path):\n",
        "    midi_files = []\n",
        "    for root_dir, sub_dir, files in os.walk(path):\n",
        "        for name in files:\n",
        "            midi_files.append(os.path.join(root_dir, name))\n",
        "    # print(midi_files)\n",
        "    return midi_files"
      ]
    },
    {
      "cell_type": "code",
      "execution_count": null,
      "metadata": {
        "id": "oY-KcLFSGDxW"
      },
      "outputs": [],
      "source": [
        "midi_files = get_file_paths('/content/drive/MyDrive/Colab Notebooks'+'/Schumann/')"
      ]
    },
    {
      "cell_type": "code",
      "execution_count": null,
      "metadata": {
        "id": "gbQmoqlvL1XU"
      },
      "outputs": [],
      "source": [
        "def prettify(midi_files):\n",
        "    pretty_files = []\n",
        "    for f in midi_files:\n",
        "        try:\n",
        "            pretty_files.append(pretty_midi.PrettyMIDI(f))\n",
        "        except:\n",
        "            print('Err File: ' + f)\n",
        "    return pretty_files"
      ]
    },
    {
      "cell_type": "code",
      "execution_count": null,
      "metadata": {
        "colab": {
          "base_uri": "https://localhost:8080/"
        },
        "id": "3rZGQRGtNsod",
        "outputId": "90662fdb-d436-4f62-b822-76c327ba7c16"
      },
      "outputs": [
        {
          "output_type": "stream",
          "name": "stderr",
          "text": [
            "/usr/local/lib/python3.7/dist-packages/pretty_midi/pretty_midi.py:101: RuntimeWarning: Tempo, Key or Time signature change events found on non-zero tracks.  This is not a valid type 0 or type 1 MIDI file.  Tempo, Key or Time Signature may be wrong.\n",
            "  RuntimeWarning)\n"
          ]
        }
      ],
      "source": [
        "prettified = prettify(midi_files)"
      ]
    },
    {
      "cell_type": "code",
      "execution_count": null,
      "metadata": {
        "id": "pFVCOgu8UZOO"
      },
      "outputs": [],
      "source": [
        "tmp_fs = fs\n",
        "fs=100\n",
        "def notes_to_dict(pretty_files, fs):\n",
        "    musics = []\n",
        "    for i in range(len(pretty_files)):\n",
        "        music = dict()\n",
        "        lines = dict()\n",
        "        instruments = pretty_files[i].instruments\n",
        "        # Merge instruments\n",
        "        tracks = pd.DataFrame([])\n",
        "        for inst in instruments:\n",
        "            track = inst.get_piano_roll(fs=fs)\n",
        "            track_df = pd.DataFrame(data=track)\n",
        "            tracks = pd.concat([tracks, track_df]).groupby(level=0).max()\n",
        "        tracks = tracks.values\n",
        "        for key_index in range(tracks.shape[0]):\n",
        "            duration = tracks[key_index] # Numeric\n",
        "            # duration = np.array([str(int(x)) for x in duration]) # Str\n",
        "            lines[key_index] = duration\n",
        "        music = dict(list(music.items()) + list(lines.items()))\n",
        "        musics.append(music)\n",
        "    return musics\n",
        "fs = tmp_fs"
      ]
    },
    {
      "cell_type": "code",
      "execution_count": null,
      "metadata": {
        "id": "pyj993bhX_E3"
      },
      "outputs": [],
      "source": [
        "notes_dict = notes_to_dict(prettified, fs)"
      ]
    },
    {
      "cell_type": "code",
      "execution_count": null,
      "metadata": {
        "colab": {
          "base_uri": "https://localhost:8080/"
        },
        "id": "9I8mAX5CUOHL",
        "outputId": "405907c2-3ded-46a0-fd11-41375cd5c456"
      },
      "outputs": [
        {
          "data": {
            "text/plain": [
              "16"
            ]
          },
          "execution_count": 10,
          "metadata": {},
          "output_type": "execute_result"
        }
      ],
      "source": [
        "len(prettified)"
      ]
    },
    {
      "cell_type": "code",
      "execution_count": null,
      "metadata": {
        "colab": {
          "base_uri": "https://localhost:8080/"
        },
        "id": "xmK943qVUQfu",
        "outputId": "6ce2ba51-de40-4d3f-9e05-657027663ab4"
      },
      "outputs": [
        {
          "data": {
            "text/plain": [
              "16"
            ]
          },
          "execution_count": 11,
          "metadata": {},
          "output_type": "execute_result"
        }
      ],
      "source": [
        "len(midi_files)"
      ]
    },
    {
      "cell_type": "code",
      "execution_count": null,
      "metadata": {
        "colab": {
          "base_uri": "https://localhost:8080/"
        },
        "id": "Ks8CS4YpgzPG",
        "outputId": "66bca432-9100-48eb-c6a8-25fb8f36324b"
      },
      "outputs": [
        {
          "data": {
            "text/plain": [
              "{0: array([0., 0., 0., ..., 0., 0., 0.]),\n",
              " 1: array([0., 0., 0., ..., 0., 0., 0.]),\n",
              " 2: array([0., 0., 0., ..., 0., 0., 0.]),\n",
              " 3: array([0., 0., 0., ..., 0., 0., 0.]),\n",
              " 4: array([0., 0., 0., ..., 0., 0., 0.]),\n",
              " 5: array([0., 0., 0., ..., 0., 0., 0.]),\n",
              " 6: array([0., 0., 0., ..., 0., 0., 0.]),\n",
              " 7: array([0., 0., 0., ..., 0., 0., 0.]),\n",
              " 8: array([0., 0., 0., ..., 0., 0., 0.]),\n",
              " 9: array([0., 0., 0., ..., 0., 0., 0.]),\n",
              " 10: array([0., 0., 0., ..., 0., 0., 0.]),\n",
              " 11: array([0., 0., 0., ..., 0., 0., 0.]),\n",
              " 12: array([0., 0., 0., ..., 0., 0., 0.]),\n",
              " 13: array([0., 0., 0., ..., 0., 0., 0.]),\n",
              " 14: array([0., 0., 0., ..., 0., 0., 0.]),\n",
              " 15: array([0., 0., 0., ..., 0., 0., 0.]),\n",
              " 16: array([0., 0., 0., ..., 0., 0., 0.]),\n",
              " 17: array([0., 0., 0., ..., 0., 0., 0.]),\n",
              " 18: array([0., 0., 0., ..., 0., 0., 0.]),\n",
              " 19: array([0., 0., 0., ..., 0., 0., 0.]),\n",
              " 20: array([0., 0., 0., ..., 0., 0., 0.]),\n",
              " 21: array([0., 0., 0., ..., 0., 0., 0.]),\n",
              " 22: array([0., 0., 0., ..., 0., 0., 0.]),\n",
              " 23: array([0., 0., 0., ..., 0., 0., 0.]),\n",
              " 24: array([0., 0., 0., ..., 0., 0., 0.]),\n",
              " 25: array([0., 0., 0., ..., 0., 0., 0.]),\n",
              " 26: array([0., 0., 0., ..., 0., 0., 0.]),\n",
              " 27: array([0., 0., 0., ..., 0., 0., 0.]),\n",
              " 28: array([0., 0., 0., ..., 0., 0., 0.]),\n",
              " 29: array([0., 0., 0., ..., 0., 0., 0.]),\n",
              " 30: array([0., 0., 0., ..., 0., 0., 0.]),\n",
              " 31: array([0., 0., 0., ..., 0., 0., 0.]),\n",
              " 32: array([0., 0., 0., ..., 0., 0., 0.]),\n",
              " 33: array([0., 0., 0., ..., 0., 0., 0.]),\n",
              " 34: array([0., 0., 0., ..., 0., 0., 0.]),\n",
              " 35: array([0., 0., 0., ..., 0., 0., 0.]),\n",
              " 36: array([0., 0., 0., ..., 0., 0., 0.]),\n",
              " 37: array([ 0.,  0.,  0., ..., 81., 81., 81.]),\n",
              " 38: array([0., 0., 0., ..., 0., 0., 0.]),\n",
              " 39: array([0., 0., 0., ..., 0., 0., 0.]),\n",
              " 40: array([0., 0., 0., ..., 0., 0., 0.]),\n",
              " 41: array([0., 0., 0., ..., 0., 0., 0.]),\n",
              " 42: array([0., 0., 0., ..., 0., 0., 0.]),\n",
              " 43: array([0., 0., 0., ..., 0., 0., 0.]),\n",
              " 44: array([0., 0., 0., ..., 0., 0., 0.]),\n",
              " 45: array([0., 0., 0., ..., 0., 0., 0.]),\n",
              " 46: array([0., 0., 0., ..., 0., 0., 0.]),\n",
              " 47: array([0., 0., 0., ..., 0., 0., 0.]),\n",
              " 48: array([0., 0., 0., ..., 0., 0., 0.]),\n",
              " 49: array([ 0.,  0.,  0., ..., 81., 81., 81.]),\n",
              " 50: array([0., 0., 0., ..., 0., 0., 0.]),\n",
              " 51: array([0., 0., 0., ..., 0., 0., 0.]),\n",
              " 52: array([0., 0., 0., ..., 0., 0., 0.]),\n",
              " 53: array([ 0.,  0.,  0., ..., 81., 81., 81.]),\n",
              " 54: array([0., 0., 0., ..., 0., 0., 0.]),\n",
              " 55: array([0., 0., 0., ..., 0., 0., 0.]),\n",
              " 56: array([ 0.,  0.,  0., ..., 81., 81., 81.]),\n",
              " 57: array([0., 0., 0., ..., 0., 0., 0.]),\n",
              " 58: array([0., 0., 0., ..., 0., 0., 0.]),\n",
              " 59: array([0., 0., 0., ..., 0., 0., 0.]),\n",
              " 60: array([0., 0., 0., ..., 0., 0., 0.]),\n",
              " 61: array([ 0.,  0.,  0., ..., 81., 81., 81.]),\n",
              " 62: array([0., 0., 0., ..., 0., 0., 0.]),\n",
              " 63: array([0., 0., 0., ..., 0., 0., 0.]),\n",
              " 64: array([0., 0., 0., ..., 0., 0., 0.]),\n",
              " 65: array([0., 0., 0., ..., 0., 0., 0.]),\n",
              " 66: array([0., 0., 0., ..., 0., 0., 0.]),\n",
              " 67: array([0., 0., 0., ..., 0., 0., 0.]),\n",
              " 68: array([0., 0., 0., ..., 0., 0., 0.]),\n",
              " 69: array([0., 0., 0., ..., 0., 0., 0.]),\n",
              " 70: array([0., 0., 0., ..., 0., 0., 0.]),\n",
              " 71: array([0., 0., 0., ..., 0., 0., 0.]),\n",
              " 72: array([0., 0., 0., ..., 0., 0., 0.]),\n",
              " 73: array([0., 0., 0., ..., 0., 0., 0.]),\n",
              " 74: array([0., 0., 0., ..., 0., 0., 0.]),\n",
              " 75: array([0., 0., 0., ..., 0., 0., 0.]),\n",
              " 76: array([0., 0., 0., ..., 0., 0., 0.]),\n",
              " 77: array([0., 0., 0., ..., 0., 0., 0.]),\n",
              " 78: array([0., 0., 0., ..., 0., 0., 0.]),\n",
              " 79: array([0., 0., 0., ..., 0., 0., 0.]),\n",
              " 80: array([0., 0., 0., ..., 0., 0., 0.]),\n",
              " 81: array([0., 0., 0., ..., 0., 0., 0.]),\n",
              " 82: array([0., 0., 0., ..., 0., 0., 0.]),\n",
              " 83: array([0., 0., 0., ..., 0., 0., 0.]),\n",
              " 84: array([0., 0., 0., ..., 0., 0., 0.]),\n",
              " 85: array([0., 0., 0., ..., 0., 0., 0.]),\n",
              " 86: array([0., 0., 0., ..., 0., 0., 0.]),\n",
              " 87: array([0., 0., 0., ..., 0., 0., 0.]),\n",
              " 88: array([0., 0., 0., ..., 0., 0., 0.]),\n",
              " 89: array([0., 0., 0., ..., 0., 0., 0.]),\n",
              " 90: array([0., 0., 0., ..., 0., 0., 0.]),\n",
              " 91: array([0., 0., 0., ..., 0., 0., 0.]),\n",
              " 92: array([0., 0., 0., ..., 0., 0., 0.]),\n",
              " 93: array([0., 0., 0., ..., 0., 0., 0.]),\n",
              " 94: array([0., 0., 0., ..., 0., 0., 0.]),\n",
              " 95: array([0., 0., 0., ..., 0., 0., 0.]),\n",
              " 96: array([0., 0., 0., ..., 0., 0., 0.]),\n",
              " 97: array([0., 0., 0., ..., 0., 0., 0.]),\n",
              " 98: array([0., 0., 0., ..., 0., 0., 0.]),\n",
              " 99: array([0., 0., 0., ..., 0., 0., 0.]),\n",
              " 100: array([0., 0., 0., ..., 0., 0., 0.]),\n",
              " 101: array([0., 0., 0., ..., 0., 0., 0.]),\n",
              " 102: array([0., 0., 0., ..., 0., 0., 0.]),\n",
              " 103: array([0., 0., 0., ..., 0., 0., 0.]),\n",
              " 104: array([0., 0., 0., ..., 0., 0., 0.]),\n",
              " 105: array([0., 0., 0., ..., 0., 0., 0.]),\n",
              " 106: array([0., 0., 0., ..., 0., 0., 0.]),\n",
              " 107: array([0., 0., 0., ..., 0., 0., 0.]),\n",
              " 108: array([0., 0., 0., ..., 0., 0., 0.]),\n",
              " 109: array([0., 0., 0., ..., 0., 0., 0.]),\n",
              " 110: array([0., 0., 0., ..., 0., 0., 0.]),\n",
              " 111: array([0., 0., 0., ..., 0., 0., 0.]),\n",
              " 112: array([0., 0., 0., ..., 0., 0., 0.]),\n",
              " 113: array([0., 0., 0., ..., 0., 0., 0.]),\n",
              " 114: array([0., 0., 0., ..., 0., 0., 0.]),\n",
              " 115: array([0., 0., 0., ..., 0., 0., 0.]),\n",
              " 116: array([0., 0., 0., ..., 0., 0., 0.]),\n",
              " 117: array([0., 0., 0., ..., 0., 0., 0.]),\n",
              " 118: array([0., 0., 0., ..., 0., 0., 0.]),\n",
              " 119: array([0., 0., 0., ..., 0., 0., 0.]),\n",
              " 120: array([0., 0., 0., ..., 0., 0., 0.]),\n",
              " 121: array([0., 0., 0., ..., 0., 0., 0.]),\n",
              " 122: array([0., 0., 0., ..., 0., 0., 0.]),\n",
              " 123: array([0., 0., 0., ..., 0., 0., 0.]),\n",
              " 124: array([0., 0., 0., ..., 0., 0., 0.]),\n",
              " 125: array([0., 0., 0., ..., 0., 0., 0.]),\n",
              " 126: array([0., 0., 0., ..., 0., 0., 0.]),\n",
              " 127: array([0., 0., 0., ..., 0., 0., 0.])}"
            ]
          },
          "execution_count": 29,
          "metadata": {},
          "output_type": "execute_result"
        }
      ],
      "source": [
        "notes_dict[0]"
      ]
    },
    {
      "cell_type": "code",
      "execution_count": null,
      "metadata": {
        "colab": {
          "base_uri": "https://localhost:8080/"
        },
        "id": "fpkFLBBGfiGM",
        "outputId": "18b1a5cc-ee07-4fda-e562-6c0a005a57df"
      },
      "outputs": [
        {
          "data": {
            "text/plain": [
              "4714"
            ]
          },
          "execution_count": 10,
          "metadata": {},
          "output_type": "execute_result"
        }
      ],
      "source": [
        "len(notes_dict[0][60])"
      ]
    },
    {
      "cell_type": "code",
      "execution_count": null,
      "metadata": {
        "colab": {
          "base_uri": "https://localhost:8080/"
        },
        "id": "8ky5g_mDheER",
        "outputId": "d1fb8ce3-21aa-44e8-d5d0-7ef9959a2c7e"
      },
      "outputs": [
        {
          "output_type": "stream",
          "name": "stdout",
          "text": [
            "(128, 17067)\n",
            "(128, 26049)\n",
            "(128, 31315)\n",
            "(128, 39507)\n",
            "(128, 41075)\n",
            "(128, 51371)\n",
            "(128, 57122)\n",
            "(128, 60770)\n",
            "(128, 64381)\n",
            "(128, 68637)\n",
            "(128, 70169)\n",
            "(128, 72682)\n",
            "(128, 75306)\n",
            "(128, 80274)\n",
            "(128, 81637)\n",
            "(88, 81637)\n"
          ]
        }
      ],
      "source": [
        "# Data Preparation\n",
        "\n",
        "dataset = np.array([])\n",
        "for nd in notes_dict:\n",
        "    durations = np.array(list(nd.values())).reshape(128, -1)\n",
        "    # tmp_dur = np.transpose(durations)\n",
        "    '''\n",
        "    for i in range(len(tmp_dur)):\n",
        "        if any(v != 0 for v in tmp_dur[i]):\n",
        "            tmp_dur = tmp_dur[i:]\n",
        "            break\n",
        "    for i in range(len(tmp_dur)):\n",
        "        if any(v != 0 for v in tmp_dur[-i]):\n",
        "            tmp_dur = tmp_dur[-i:]\n",
        "            break\n",
        "    '''\n",
        "    # durations = np.transpose(tmp_dur)\n",
        "    if len(dataset) == 0:\n",
        "        dataset = durations\n",
        "    else:\n",
        "        dataset = np.hstack((dataset, durations))\n",
        "        print(dataset.shape)\n",
        "dataset = dataset[start_key: start_key + 88]\n",
        "print(dataset.shape)"
      ]
    },
    {
      "cell_type": "code",
      "execution_count": null,
      "metadata": {
        "colab": {
          "base_uri": "https://localhost:8080/"
        },
        "id": "a0qYAEUixDEG",
        "outputId": "c267dff8-19cf-4f65-c6aa-76981ab0b703"
      },
      "outputs": [
        {
          "output_type": "execute_result",
          "data": {
            "text/plain": [
              "(88, 81637)"
            ]
          },
          "metadata": {},
          "execution_count": 11
        }
      ],
      "source": [
        "dataset.shape"
      ]
    },
    {
      "cell_type": "code",
      "execution_count": null,
      "metadata": {
        "id": "fDeSe7S13PY9"
      },
      "outputs": [],
      "source": [
        "binary_dataset = np.sign(dataset)"
      ]
    },
    {
      "cell_type": "code",
      "execution_count": null,
      "metadata": {
        "colab": {
          "base_uri": "https://localhost:8080/"
        },
        "id": "KwGAuw_03Uw5",
        "outputId": "10df6e1d-50af-41a2-c390-39250997758e"
      },
      "outputs": [
        {
          "output_type": "execute_result",
          "data": {
            "text/plain": [
              "(88, 81637)"
            ]
          },
          "metadata": {},
          "execution_count": 13
        }
      ],
      "source": [
        "binary_dataset.shape"
      ]
    },
    {
      "cell_type": "code",
      "execution_count": null,
      "metadata": {
        "id": "Z6Aloda9xWD1"
      },
      "outputs": [],
      "source": [
        "uniq_data = np.unique(binary_dataset, axis=1)"
      ]
    },
    {
      "cell_type": "code",
      "execution_count": null,
      "metadata": {
        "colab": {
          "base_uri": "https://localhost:8080/"
        },
        "id": "o9nzr3mExKXE",
        "outputId": "2785fd9e-07c6-4eba-8cc3-87b89ee3729b"
      },
      "outputs": [
        {
          "output_type": "execute_result",
          "data": {
            "text/plain": [
              "(88, 11676)"
            ]
          },
          "metadata": {},
          "execution_count": 15
        }
      ],
      "source": [
        "uniq_data.shape"
      ]
    },
    {
      "cell_type": "code",
      "execution_count": null,
      "metadata": {
        "id": "SLHJPSBr3fxk"
      },
      "outputs": [],
      "source": [
        "uniq_data_transpose = np.transpose(uniq_data)"
      ]
    },
    {
      "cell_type": "code",
      "execution_count": null,
      "metadata": {
        "colab": {
          "base_uri": "https://localhost:8080/"
        },
        "id": "ntlm3T5u3vo1",
        "outputId": "c85cb7c4-8dea-4368-d1eb-a8f44c509e3a"
      },
      "outputs": [
        {
          "output_type": "execute_result",
          "data": {
            "text/plain": [
              "array([0., 0., 0., 0., 0., 0., 0., 0., 0., 0., 0., 0., 0., 0., 0., 0., 0.,\n",
              "       0., 0., 0., 0., 0., 0., 0., 0., 0., 0., 0., 0., 0., 0., 0., 0., 0.,\n",
              "       0., 0., 0., 0., 0., 0., 0., 0., 0., 0., 0., 0., 0., 0., 0., 0., 0.,\n",
              "       0., 0., 0., 0., 0., 0., 0., 0., 0., 0., 0., 0., 0., 0., 0., 0., 0.,\n",
              "       0., 0., 0., 0., 0., 1., 0., 0., 0., 0., 0., 0., 0., 0., 0., 0., 0.,\n",
              "       0., 0., 0.])"
            ]
          },
          "metadata": {},
          "execution_count": 16
        }
      ],
      "source": [
        "uniq_data_transpose[3]"
      ]
    },
    {
      "cell_type": "code",
      "execution_count": null,
      "metadata": {
        "id": "LM0xleO25Vc4"
      },
      "outputs": [],
      "source": [
        "uniq_data_str = []\n",
        "for i in uniq_data:\n",
        "    tmp = [str(int(j)) for j in i]\n",
        "    uniq_data_str.append(tmp)\n",
        "uniq_data_str = np.array(uniq_data_str)"
      ]
    },
    {
      "cell_type": "code",
      "execution_count": null,
      "metadata": {
        "colab": {
          "base_uri": "https://localhost:8080/"
        },
        "id": "4NO5q6l250pG",
        "outputId": "909b5bca-25b3-470e-f9b3-9945db6fe119"
      },
      "outputs": [
        {
          "output_type": "execute_result",
          "data": {
            "text/plain": [
              "(88, 11676)"
            ]
          },
          "metadata": {},
          "execution_count": 18
        }
      ],
      "source": [
        "uniq_data_str.shape"
      ]
    },
    {
      "cell_type": "code",
      "execution_count": null,
      "metadata": {
        "id": "vFF8NtPt7Kqk"
      },
      "outputs": [],
      "source": [
        "uniq_data_str_transpose = np.transpose(uniq_data_str)"
      ]
    },
    {
      "cell_type": "code",
      "execution_count": null,
      "metadata": {
        "colab": {
          "base_uri": "https://localhost:8080/"
        },
        "id": "xq1M12sj7Oyh",
        "outputId": "cb3e093b-9af5-4593-d346-84200692153c"
      },
      "outputs": [
        {
          "output_type": "execute_result",
          "data": {
            "text/plain": [
              "(11676, 88)"
            ]
          },
          "metadata": {},
          "execution_count": 20
        }
      ],
      "source": [
        "uniq_data_str_transpose.shape"
      ]
    },
    {
      "cell_type": "code",
      "execution_count": null,
      "metadata": {
        "colab": {
          "base_uri": "https://localhost:8080/"
        },
        "id": "XalUL3Eo591I",
        "outputId": "c5b333e7-198e-48ed-de7c-67c4efafbe68"
      },
      "outputs": [
        {
          "data": {
            "text/plain": [
              "array(['0', '0', '0', '0', '0', '0', '0', '0', '0', '0', '0', '0', '0',\n",
              "       '0', '0', '0', '0', '0', '0', '0', '0', '0', '0', '0', '0', '0',\n",
              "       '0', '0', '0', '0', '0', '0', '0', '0', '0', '0', '0', '0', '0',\n",
              "       '0', '0', '0', '0', '0', '0', '0', '0', '0', '0', '0', '0', '0',\n",
              "       '0', '0', '0', '0', '0', '0', '0', '0', '0', '0', '0', '0', '0',\n",
              "       '0', '0', '0', '0', '0', '0', '0', '0', '0', '0', '0', '0', '0',\n",
              "       '0', '0', '0', '0', '0', '0', '0', '0', '0', '0'], dtype='<U1')"
            ]
          },
          "execution_count": 31,
          "metadata": {},
          "output_type": "execute_result"
        }
      ],
      "source": [
        "uniq_data_str_transpose[0]"
      ]
    },
    {
      "cell_type": "code",
      "execution_count": null,
      "metadata": {
        "id": "VbYWGnLvwxUm"
      },
      "outputs": [],
      "source": [
        "id2str = {}\n",
        "for i in range(len(uniq_data_str_transpose)):\n",
        "    id2str.update({i: ''.join(uniq_data_str_transpose[i])})"
      ]
    },
    {
      "cell_type": "code",
      "execution_count": null,
      "metadata": {
        "colab": {
          "base_uri": "https://localhost:8080/",
          "height": 35
        },
        "id": "1gKCrASL7-MA",
        "outputId": "01a295a1-93f1-4aff-e9ed-3a258ed4fa03"
      },
      "outputs": [
        {
          "output_type": "execute_result",
          "data": {
            "application/vnd.google.colaboratory.intrinsic+json": {
              "type": "string"
            },
            "text/plain": [
              "'0000000000000000000000000000000000000000000000000000000000000000000000000000001000000000'"
            ]
          },
          "metadata": {},
          "execution_count": 22
        }
      ],
      "source": [
        "id2str[1]"
      ]
    },
    {
      "cell_type": "code",
      "execution_count": null,
      "metadata": {
        "colab": {
          "base_uri": "https://localhost:8080/"
        },
        "id": "dK7tfYuj_faN",
        "outputId": "43294d1e-c4ca-4a09-a8a3-4bb7438caf75"
      },
      "outputs": [
        {
          "output_type": "execute_result",
          "data": {
            "text/plain": [
              "11676"
            ]
          },
          "metadata": {},
          "execution_count": 23
        }
      ],
      "source": [
        "len(id2str)"
      ]
    },
    {
      "cell_type": "code",
      "execution_count": null,
      "metadata": {
        "id": "v7vWnW808MKh"
      },
      "outputs": [],
      "source": [
        "str2id = {s:i for i, s in id2str.items()}"
      ]
    },
    {
      "cell_type": "code",
      "execution_count": null,
      "metadata": {
        "colab": {
          "base_uri": "https://localhost:8080/"
        },
        "id": "M5_tq0B18SxY",
        "outputId": "419ecacc-4989-4db3-9a8d-ca4312ef9a7c"
      },
      "outputs": [
        {
          "data": {
            "text/plain": [
              "11676"
            ]
          },
          "execution_count": 36,
          "metadata": {},
          "output_type": "execute_result"
        }
      ],
      "source": [
        "len(str2id)"
      ]
    },
    {
      "cell_type": "code",
      "execution_count": null,
      "metadata": {
        "colab": {
          "base_uri": "https://localhost:8080/"
        },
        "id": "qPkV8wfX8aUI",
        "outputId": "193e9716-7142-4843-a92b-e361a4f9c862"
      },
      "outputs": [
        {
          "data": {
            "text/plain": [
              "1"
            ]
          },
          "execution_count": 37,
          "metadata": {},
          "output_type": "execute_result"
        }
      ],
      "source": [
        "str2id['0000000000000000000000000000000000000000000000000000000000000000000000000000001000000000']"
      ]
    },
    {
      "cell_type": "code",
      "execution_count": null,
      "metadata": {
        "id": "5sFddFbq9Xct"
      },
      "outputs": [],
      "source": [
        "binary_dataset_transpose = np.transpose(binary_dataset)"
      ]
    },
    {
      "cell_type": "code",
      "execution_count": null,
      "metadata": {
        "colab": {
          "base_uri": "https://localhost:8080/"
        },
        "id": "evT-Xwvk-EoP",
        "outputId": "b28ca47b-8de3-4303-acf5-c4da167b67ef"
      },
      "outputs": [
        {
          "output_type": "execute_result",
          "data": {
            "text/plain": [
              "array([0., 0., 0., 0., 0., 0., 0., 0., 0., 0., 0., 0., 0., 0., 0., 0., 0.,\n",
              "       0., 0., 0., 0., 0., 0., 0., 0., 0., 0., 0., 0., 0., 0., 0., 0., 0.,\n",
              "       0., 0., 0., 0., 0., 0., 0., 0., 0., 0., 0., 0., 0., 0., 0., 0., 0.,\n",
              "       0., 0., 0., 0., 0., 0., 0., 0., 0., 0., 0., 0., 0., 0., 0., 0., 0.,\n",
              "       0., 0., 0., 0., 0., 0., 0., 0., 0., 0., 0., 0., 0., 0., 0., 0., 0.,\n",
              "       0., 0., 0.])"
            ]
          },
          "metadata": {},
          "execution_count": 27
        }
      ],
      "source": [
        "binary_dataset_transpose[0]"
      ]
    },
    {
      "cell_type": "code",
      "execution_count": null,
      "metadata": {
        "id": "eYlO4kev9rvf"
      },
      "outputs": [],
      "source": [
        "binary_data_str = []\n",
        "for i in binary_dataset_transpose:\n",
        "    tmp = [str(int(j)) for j in i]\n",
        "    binary_data_str.append(''.join(tmp))\n",
        "binary_data_str = np.array(binary_data_str)"
      ]
    },
    {
      "cell_type": "code",
      "execution_count": null,
      "metadata": {
        "colab": {
          "base_uri": "https://localhost:8080/"
        },
        "id": "HwFRJkmE-xnN",
        "outputId": "26ae5b54-8654-4ef1-87cd-05623263d646"
      },
      "outputs": [
        {
          "output_type": "execute_result",
          "data": {
            "text/plain": [
              "81637"
            ]
          },
          "metadata": {},
          "execution_count": 22
        }
      ],
      "source": [
        "binary_data_str.shape[0]"
      ]
    },
    {
      "cell_type": "code",
      "execution_count": null,
      "metadata": {
        "id": "bqs4CsBC5co3"
      },
      "outputs": [],
      "source": [
        "data = []\n",
        "target = []\n",
        "start_index = history\n",
        "end_index = binary_data_str.shape[0] - 1\n",
        "for i in range(start_index, end_index-1):\n",
        "    x_indicies = range(i-history, i)\n",
        "    y_indicies = range(i-history+1, i+1)\n",
        "    # data.append(np.reshape(dataset[indicies],\n",
        "    #                        (history, self.embedding_dim)))\n",
        "    # target.append(dataset[i+1])\n",
        "    # tmp_data = [','.join(x) for x in dataset[indicies]]\n",
        "    # data.append(tmp_data)\n",
        "    # target.append(np.reshape(','.join(dataset[i+1]), 1))\n",
        "    # data.append(np.reshape([str2id[x] for x in dataset[indicies]],\n",
        "    #                        (history, 1)))\n",
        "    '''\n",
        "    data.append(np.reshape([str2id[x] for x in dataset[x_indicies]],\n",
        "                                   (history, 1)))\n",
        "    target.append(np.reshape([str2id[x] for x in dataset[y_indicies]],\n",
        "                                     (history, 1)))\n",
        "    '''\n",
        "    data.append([str2id[x] for x in binary_data_str[i-history:i]])\n",
        "    target.append([str2id[binary_data_str[i+1]]])\n",
        "data = np.array(data)\n",
        "target = np.array(target)"
      ]
    },
    {
      "cell_type": "code",
      "execution_count": null,
      "metadata": {
        "id": "xrPPUMMLsJR7"
      },
      "outputs": [],
      "source": [
        "target = np.squeeze(target)\n",
        "target = tf.keras.utils.to_categorical(target, num_classes=len(str2id))"
      ]
    },
    {
      "cell_type": "code",
      "execution_count": null,
      "metadata": {
        "colab": {
          "base_uri": "https://localhost:8080/"
        },
        "id": "_ljRRFKW9oBF",
        "outputId": "2dc6e0bc-12b0-479a-9599-3aaf682d1894"
      },
      "outputs": [
        {
          "data": {
            "text/plain": [
              "array(['0000000000000000000000000000000000000000000000000000000000000000000000000000000000000000',\n",
              "       '0000000000000000000000000000000000000000000000000000000000000000000000000000000000000000',\n",
              "       '0000000000000000000000000000000000000000000000000000000000000000000000000000000000000000',\n",
              "       '0000000000000000000000000000000000000000000000000000000000000000000000000000000000000000',\n",
              "       '0000000000000000000000000000000000000000000000000000000000000000000000000000000000000000',\n",
              "       '0000000000000000000000000000000000000000000000000000000000000000000000000000000000000000',\n",
              "       '0000000000000000000000000000000000000000000000000000000000000000000000000000000000000000',\n",
              "       '0000000000000000000000000000000000000000000000000000000000000000000000000000000000000000',\n",
              "       '0000000000000000100000010000000000000000100100010000100000000000000000000000000000000000',\n",
              "       '0000000000000000100000010000000000000000100100010000100000000000000000000000000000000000',\n",
              "       '0000000000000000100000010000000000000000100100010000100000000000000000000000000000000000',\n",
              "       '0000000000000000100000010000000000000000100100010000100000000000000000000000000000000000',\n",
              "       '0000000000000000100000010000000000000000100100010000100000000000000000000000000000000000',\n",
              "       '0000000000000000100000010000000000000000100100010000100000000000000000000000000000000000',\n",
              "       '0000000000000000100000010000000000000000100100010000100000000000000000000000000000000000',\n",
              "       '0000000000000000100000010000000000000000100100010000100000000000000000000000000000000000',\n",
              "       '0000000000000000100000010000000000000000100100010000100000000000000000000000000000000000',\n",
              "       '0000000000000000100000010000000000000000100100010000100000000000000000000000000000000000',\n",
              "       '0000000000000000100000010000000000010000100100010000100000000000000000000000000000000000',\n",
              "       '0000000000000000100000010000000000010000100100010000100000000000000000000000000000000000',\n",
              "       '0000000000000000100000010000000000010000100100010000100000000000000000000000000000000000',\n",
              "       '0000000000000000100000010000000000010000100100010000100000000000000000000000000000000000',\n",
              "       '0000000000000000100000010000000000010000100100010000100000000000000000000000000000000000',\n",
              "       '0000000000000000100000010000000000010000100100010000100000000000000000000000000000000000',\n",
              "       '0000000000000000100000010000000000010000100100010000100000000000000000000000000000000000',\n",
              "       '0000000000000000100000010000000000010000100100010000100000000000000000000000000000000000',\n",
              "       '0000000000000000100000010000000000010000100100010000100000000000000000000000000000000000',\n",
              "       '0000000000000000100000010000000100010000100100010000100000000000000000000000000000000000',\n",
              "       '0000000000000000100000010000000100010000100100010000100000000000000000000000000000000000',\n",
              "       '0000000000000000100000010000000100010000100100010000100000000000000000000000000000000000',\n",
              "       '0000000000000000100000010000000100010000100100010000100000000000000000000000000000000000',\n",
              "       '0000000000000000100000010000000100010000100100010000100000000000000000000000000000000000',\n",
              "       '0000000000000000100000010000000100010000100100010000100000000000000000000000000000000000',\n",
              "       '0000000000000000100000010000000100010000100100010000100000000000000000000000000000000000',\n",
              "       '0000000000000000100000010000000100010000100100010000100000000000000000000000000000000000',\n",
              "       '0000000000000000100000010000000100010000100100010000100000000000000000000000000000000000',\n",
              "       '0000000000000000100000010000000100010000100100010000100000000000000000000000000000000000',\n",
              "       '0000000000000000100000010000100100010000100100010000100000000000000000000000000000000000',\n",
              "       '0000000000000000100000010000100100010000100100010000100000000000000000000000000000000000',\n",
              "       '0000000000000000100000010000100100010000100100010000100000000000000000000000000000000000',\n",
              "       '0000000000000000100000010000100100010000100100010000100000000000000000000000000000000000',\n",
              "       '0000000000000000100000010000100100010000100100010000100000000000000000000000000000000000',\n",
              "       '0000000000000000100000010000100100010000100100010000100000000000000000000000000000000000',\n",
              "       '0000000000000000100000010000100100010000100100010000100000000000000000000000000000000000',\n",
              "       '0000000000000000100000010000100100010000100100010000100000000000000000000000000000000000',\n",
              "       '0000000001000000000001000000000000000000000000000000000000000000000000000000000000000000',\n",
              "       '0000000001000000000001000000000001000000100000000000000000000000000000000000000000000000',\n",
              "       '0000000001000000000001000000000001000000100000001000000000000000000000000000000000000000',\n",
              "       '0000000001000000000001000000000001000000100000001000000000000000000000000000000000000000',\n",
              "       '0000000001000000000001000000000001000000100000001000000000000000000000000000000000000000',\n",
              "       '0000000001000000000001000000000001000000100000001000000000000000000000000000000000000000',\n",
              "       '0000000001000000000001000000000001000000100000001000000000000000000000000000000000000000',\n",
              "       '0000000001000000000001000000000001000000100000001000000000000000000000000000000000000000',\n",
              "       '0000000001000000000001000000000001000000100000001000000000000000000000000000000000000000',\n",
              "       '0000000001000000000001000000000001000000100000001000000000000000000000000000000000000000',\n",
              "       '0000000001000000000001000000000001000000100000001000000000000000000000000000000000000000',\n",
              "       '0000000001000000000001000000000001000000100000001000000000000000000000000000000000000000',\n",
              "       '0000000001000000000001000000000001000001000000001000000000000000000000000000000000000000',\n",
              "       '0000000001000000000001000000000001000001000000001000000000000000000000000000000000000000',\n",
              "       '0000000001000000000001000000000001000001000000001000000000000000000000000000000000000000',\n",
              "       '0000000001000000000001000000000001000001000000001000000000000000000000000000000000000000',\n",
              "       '0000000001000000000001000000000001000001000000001000000000000000000000000000000000000000',\n",
              "       '0000000001000000000001000000000001000001000000010000000000000000000000000000000000000000',\n",
              "       '0000000001000000000001000000000001000001000000010000000000000000000000000000000000000000',\n",
              "       '0000000000000000000000000000000001000001000000010000000000000000000000000000000000000000',\n",
              "       '0000100000000000100000000000000100000000000000000000000000000000000000000000000000000000',\n",
              "       '0000100000000000100000000000000100000000100000000000000000000000000000000000000000000000',\n",
              "       '0000100000000000100000000000000100000000100000010000000000000000000000000000000000000000',\n",
              "       '0000100000000000100000000000000100000000100000010000000000000000000000000000000000000000',\n",
              "       '0000100000000000100000000000000100000000100000010000000000000000000000000000000000000000',\n",
              "       '0000100000000000100000000000000100000000100000010000000000000000000000000000000000000000',\n",
              "       '0000100000000000100000000000000100000000100000010000000000000000000000000000000000000000',\n",
              "       '0000100000000000100000000000000100000000100000010000000000000000000000000000000000000000',\n",
              "       '0000100000000000100000000000000100000000100000010000000000000000000000000000000000000000',\n",
              "       '0000100000000000100000000000000100000000100000010000000000000000000000000000000000000000',\n",
              "       '0000100000000000100000000000000100000000100000010000000000000000000000000000000000000000',\n",
              "       '0000100000000000100000000000000100000000100000010000000000000000000000000000000000000000',\n",
              "       '0000100000000000100000000000000100000000100000010000000000000000000000000000000000000000',\n",
              "       '0000100000000000100000000000000100000000100000010000000000000000000000000000000000000000',\n",
              "       '0000100000000000100000000000000100000000100000010000000000000000000000000000000000000000',\n",
              "       '0000100000000000100000000000000100000000100000010000000000000000000000000000000000000000',\n",
              "       '0000100000000000100000000000000100000000100000010000000000000000000000000000000000000000',\n",
              "       '0000100000000000100000000000000100000000100000010000000000000000000000000000000000000000',\n",
              "       '0000100000000000100000000000000100000000100000010000000000000000000000000000000000000000',\n",
              "       '0000100000000000100000000000000100000000100000010000000000000000000000000000000000000000',\n",
              "       '0000100000000000100000000000000100000000100000010000000000000000000000000000000000000000',\n",
              "       '0000000000000000000000000000000000000000000000010000000000000000000000000000000000000000',\n",
              "       '0000000000010000000000010000000000000000000000000000000000000000000000000000000000000000',\n",
              "       '0000000000010000000000010000001000000000000000000000000000000000000000000000000000000000',\n",
              "       '0000000000010000000000010000001000000001000001000000000000000000000000000000000000000000',\n",
              "       '0000000000010000000000010000001000000001000001000000000000000000000000000000000000000000',\n",
              "       '0000000000010000000000010000001000000001000001000000000000000000000000000000000000000000',\n",
              "       '0000000000010000000000010000001000000001000001000000000000000000000000000000000000000000',\n",
              "       '0000000000010000000000010000001000000001000001000000000000000000000000000000000000000000',\n",
              "       '0000000000010000000000010000001000000001000001000000000000000000000000000000000000000000',\n",
              "       '0000000000010000000000010000001000000001000001000000000000000000000000000000000000000000',\n",
              "       '0000000000010000000000010000001000000001000001000000000000000000000000000000000000000000',\n",
              "       '0000000000010000000000010000001000000001000001000000000000000000000000000000000000000000',\n",
              "       '0000000000010000000000010000001000000001000001000000000000000000000000000000000000000000',\n",
              "       '0000000000010000000000010000001000000001000001010000000000000000000000000000000000000000',\n",
              "       '0000000000010000000000010000001000000001000001010000000000000000000000000000000000000000',\n",
              "       '0000000000010000000000010000001000000001000001010000000000000000000000000000000000000000',\n",
              "       '0000000000010000000000010000001000000001000001010000000000000000000000000000000000000000',\n",
              "       '0000000000010000000000010000001000000001000001010000000000000000000000000000000000000000',\n",
              "       '0000000000010000000000010000001000000001000001010000000000000000000000000000000000000000',\n",
              "       '0000000000010000000000010000001000000001000001010000000000000000000000000000000000000000',\n",
              "       '0000000000010000000000010000001000000001000001010000000000000000000000000000000000000000',\n",
              "       '0000100000000000100000000000000000000000000000000000000000000000000000000000000000000000',\n",
              "       '0000100000000000100000000000100000000000000000000000000000000000000000000000000000000000',\n",
              "       '0000100000000000100000000000100000010000000100000000000000000000000000000000000000000000',\n",
              "       '0000100000000000100000000000100000010000000100000000000000000000000000000000000000000000',\n",
              "       '0000100000000000100000000000100000010000000100000000000000000000000000000000000000000000',\n",
              "       '0000100000000000100000000000100000010000000100000000000000000000000000000000000000000000',\n",
              "       '0000100000000000100000000000100000010000000100000000000000000000000000000000000000000000',\n",
              "       '0000100000000000100000000000100000010000000100000000000000000000000000000000000000000000',\n",
              "       '0000100000000000100000000000100000010000000100000000000000000000000000000000000000000000',\n",
              "       '0000100000000000100000000000100000010000000100000000000000000000000000000000000000000000',\n",
              "       '0000000001000000000001000000000000000000000000000000000000000000000000000000000000000000',\n",
              "       '0000000001000000000001000000100000000000000000000000000000000000000000000000000000000000',\n",
              "       '0000000001000000000001000000100000001000000001000000000000000000000000000000000000000000',\n",
              "       '0000000001000000000001000000100000001000000001000000000000000000000000000000000000000000',\n",
              "       '0000000001000000000001000000100000001000000001000000000000000000000000000000000000000000',\n",
              "       '0000000001000000000001000000100000001000000001000000000000000000000000000000000000000000',\n",
              "       '0000000001000000000001000000100000001000000001000000000000000000000000000000000000000000',\n",
              "       '0000000001000000000001000000100000001000000001000000000000000000000000000000000000000000',\n",
              "       '0000000001000000000001000000100000001000000001000000000000000000000000000000000000000000',\n",
              "       '0000000001000000000001000000100000001000000001000000000000000000000000000000000000000000',\n",
              "       '0000000000010000000000010000000000000000000000000000000000000000000000000000000000000000',\n",
              "       '0000000000010000000000010001000000000000000000000000000000000000000000000000000000000000',\n",
              "       '0000000000010000000000010001000000010000000000000000000000000000000000000000000000000000',\n",
              "       '0000000000010000000000010001000000010000001000000000000000000000000000000000000000000000',\n",
              "       '0000000000010000000000010001000000010000001000000000000000000000000000000000000000000000',\n",
              "       '0000000000010000000000010001000000010000001000000000000000000000000000000000000000000000',\n",
              "       '0000000000010000000000010001000000010000001000000000000000000000000000000000000000000000',\n",
              "       '0000000000010000000000010001000000010000001000000000000000000000000000000000000000000000',\n",
              "       '0000000000010000000000010001000000010000001000000000000000000000000000000000000000000000',\n",
              "       '0000000000010000000000010001000000010000001000000000000000000000000000000000000000000000',\n",
              "       '0000000000010000000000010001000000010000001000000000000000000000000000000000000000000000',\n",
              "       '0000000000010000000000010001000000010000001000000000000000000000000000000000000000000000',\n",
              "       '0000000000010000000000010001000000010000001000000000000000000000000000000000000000000000',\n",
              "       '0000000000010000000000010001000000010000001000000000000000000000000000000000000000000000',\n",
              "       '0000000000010000100000010001100000110100001000000000000000000000000000000000000000000000',\n",
              "       '0000000000010000100000010001100000110100001000000000000000000000000000000000000000000000',\n",
              "       '0000000000010000100000010001100000110100001000000000000000000000000000000000000000000000',\n",
              "       '0000000000010000100000010001100000110100001000000000000000000000000000000000000000000000',\n",
              "       '0000000000010000100000010001100000110100001000000000000000000000000000000000000000000000',\n",
              "       '0000000000000000100000000000100010000100000000000000000000000000000000000000000000000000',\n",
              "       '0000000000000000100000000000100010000100000000000000000000000000000000000000000000000000',\n",
              "       '0000000000000000100000000000100010000100000000000000000000000000000000000000000000000000',\n",
              "       '0000000000010000000000010000000000000000000000000000000000000000000000000000000000000000',\n",
              "       '0000000000010000000000010001000000000000000000000000000000000000000000000000000000000000',\n",
              "       '0000000000010000000000010001001000000000000000000000000000000000000000000000000000000000',\n",
              "       '0000000000010000000000010001001000000000001000000000000000000000000000000000000000000000',\n",
              "       '0000000000010000000000010001001000000000001000000000000000000000000000000000000000000000',\n",
              "       '0000000000010000000000010001001000000000001000000000000000000000000000000000000000000000',\n",
              "       '0000000000010000000000010001001000000000001000000000000000000000000000000000000000000000',\n",
              "       '0000000000010000000000010001001000000000001000000000000000000000000000000000000000000000',\n",
              "       '0000000000010000000000010001001000000000001000000000000000000000000000000000000000000000',\n",
              "       '0000000000010000000000010001001000000000001000000000000000000000000000000000000000000000',\n",
              "       '0000000000010000000000010001001000000000001000000000000000000000000000000000000000000000',\n",
              "       '0000000000010000000000010001001000000000001000000000000000000000000000000000000000000000',\n",
              "       '0000000000010000000000010001001000000000001000000000000000000000000000000000000000000000',\n",
              "       '0000000000010000000000010001001000000000001000000000000000000000000000000000000000000000',\n",
              "       '0000000000010000000000010001001000000000001000000000000000000000000000000000000000000000',\n",
              "       '0000000000010000000000010001001000000000001000000000000000000000000000000000000000000000',\n",
              "       '0000000000010000000000010001001000000000001000000000000000000000000000000000000000000000',\n",
              "       '0000000000010000000000010001001000000000001000000000000000000000000000000000000000000000',\n",
              "       '0000000000010000000000010001001000000000001000000000000000000000000000000000000000000000',\n",
              "       '0000000000010000000000010001001000000000001000000000000000000000000000000000000000000000',\n",
              "       '0000000000010000000000010001001000000000001000000000000000000000000000000000000000000000',\n",
              "       '0000000000010000000000010001001000000000001000000000000000000000000000000000000000000000',\n",
              "       '0000000000000000000000000000000000000000000000000000000000000000000000000000000000000000',\n",
              "       '0000000000000000000000000000000000000000000000000000000000000000000000000000000000000000',\n",
              "       '0000000000000000000000000000000000000000000000000000000000000000000000000000000000000000',\n",
              "       '0000000000000000000000000000000000000000000000000000000000000000000000000000000000000000',\n",
              "       '0000000000000000000000000000000000000000000000000000000000000000000000000000000000000000',\n",
              "       '0000000000000000000000000000000000000000000000000000000000000000000000000000000000000000',\n",
              "       '0000000000000000100000010000000000000000100100010000100000000000000000000000000000000000',\n",
              "       '0000000000000000100000010000000000000000100100010000100000000000000000000000000000000000',\n",
              "       '0000000000000000100000010000000000000000100100010000100000000000000000000000000000000000',\n",
              "       '0000000000000000100000010000000000000000100100010000100000000000000000000000000000000000',\n",
              "       '0000000000000000100000010000000000000000100100010000100000000000000000000000000000000000',\n",
              "       '0000000000000000100000010000000000000000100100010000100000000000000000000000000000000000',\n",
              "       '0000000000000000100000010000000000000000100100010000100000000000000000000000000000000000',\n",
              "       '0000000000000000100000010000000000000000100100010000100000000000000000000000000000000000',\n",
              "       '0000000000000000100000010000000000000000100100010000100000000000000000000000000000000000',\n",
              "       '0000000000000000100000010000000000000000100100010000100000000000000000000000000000000000',\n",
              "       '0000000000000000100000010000000000010000100100010000100000000000000000000000000000000000',\n",
              "       '0000000000000000100000010000000000010000100100010000100000000000000000000000000000000000',\n",
              "       '0000000000000000100000010000000000010000100100010000100000000000000000000000000000000000',\n",
              "       '0000000000000000100000010000000000010000100100010000100000000000000000000000000000000000',\n",
              "       '0000000000000000100000010000000000010000100100010000100000000000000000000000000000000000',\n",
              "       '0000000000000000100000010000000000010000100100010000100000000000000000000000000000000000',\n",
              "       '0000000000000000100000010000000000010000100100010000100000000000000000000000000000000000',\n",
              "       '0000000000000000100000010000000000010000100100010000100000000000000000000000000000000000',\n",
              "       '0000000000000000100000010000000000010000100100010000100000000000000000000000000000000000',\n",
              "       '0000000000000000100000010000000100010000100100010000100000000000000000000000000000000000',\n",
              "       '0000000000000000100000010000000100010000100100010000100000000000000000000000000000000000',\n",
              "       '0000000000000000100000010000000100010000100100010000100000000000000000000000000000000000',\n",
              "       '0000000000000000100000010000000100010000100100010000100000000000000000000000000000000000',\n",
              "       '0000000000000000100000010000000100010000100100010000100000000000000000000000000000000000',\n",
              "       '0000000000000000100000010000000100010000100100010000100000000000000000000000000000000000',\n",
              "       '0000000000000000100000010000000100010000100100010000100000000000000000000000000000000000',\n",
              "       '0000000000000000100000010000000100010000100100010000100000000000000000000000000000000000',\n",
              "       '0000000000000000100000010000000100010000100100010000100000000000000000000000000000000000',\n",
              "       '0000000000000000100000010000100100010000100100010000100000000000000000000000000000000000',\n",
              "       '0000000000000000100000010000100100010000100100010000100000000000000000000000000000000000',\n",
              "       '0000000000000000100000010000100100010000100100010000100000000000000000000000000000000000',\n",
              "       '0000000000000000100000010000100100010000100100010000100000000000000000000000000000000000',\n",
              "       '0000000000000000100000010000100100010000100100010000100000000000000000000000000000000000',\n",
              "       '0000000000000000100000010000100100010000100100010000100000000000000000000000000000000000',\n",
              "       '0000000000000000100000010000100100010000100100010000100000000000000000000000000000000000',\n",
              "       '0000000000000000100000010000100100010000100100010000100000000000000000000000000000000000',\n",
              "       '0000000000000000100000010000100100010000100100010000100000000000000000000000000000000000',\n",
              "       '0000000000001000100000010000100100010000100100010000100000000000000000000000000000000000',\n",
              "       '0000000000001000000000000000000100001000100100001000000000000000000000000000000000000000',\n",
              "       '0000000000001000000000000000000100001000100100001000000000000000000000000000000000000000',\n",
              "       '0000000000001000000000000000000100001000100100001000000000000000000000000000000000000000',\n",
              "       '0000000000001000000000000000000100001000100100001000000000000000000000000000000000000000',\n",
              "       '0000000000001000000000000000000100001000100100001000000000000000000000000000000000000000',\n",
              "       '0000000000001000000000000000000100001000100100001000000000000000000000000000000000000000',\n",
              "       '0000000000001000000000000000000100001000100100001000000000000000000000000000000000000000',\n",
              "       '0000000000001000000000000000000100001000100100001000000000000000000000000000000000000000',\n",
              "       '0000000000001000000000000000000100001000100100001000000000000000000000000000000000000000',\n",
              "       '0000000000001000000000000000000100001000100100001000000000000000000000000000000000000000',\n",
              "       '0000000000001000000000000000000100001000100100001000100000000000000000000000000000000000',\n",
              "       '0000000000001000000000000000000100001000100100001000100000000000000000000000000000000000',\n",
              "       '0000000000001000000000000000000100001000100100001000100000000000000000000000000000000000',\n",
              "       '0000000000001000000000000000000100001000100100001000100000000000000000000000000000000000',\n",
              "       '0000000000001000000000000000000100001000100100001000100000000000000000000000000000000000',\n",
              "       '0000000000001000000000000000000100001000100100001000100100000000000000000000000000000000',\n",
              "       '0000000000001000000000000000000100001000100100001000100100000000000000000000000000000000',\n",
              "       '0000000000001000000000000000000100001000100100001000100100000000000000000000000000000000',\n",
              "       '0000000000001000000000000000000100001000100100001000100100000000000000000000000000000000',\n",
              "       '0000000000001000000000000000000100001000100100001000100100000000000000000000000000000000',\n",
              "       '0000000000001000000000000000000100001000100100001000100100001000000000000000000000000000',\n",
              "       '0000000000001000000000000000000100001000100100001000100100001000000000000000000000000000',\n",
              "       '0000000000001000000000000000000100001000100100001000100100001000000000000000000000000000',\n",
              "       '0000000000001000000000000000000100001000100100001000100100001000000000000000000000000000',\n",
              "       '0000000000001000000000000000000100001000100100001000100100001000000000000000000000000000',\n",
              "       '0000000000001000000000000000000100001000100100001000100100001000000000000000000000000000',\n",
              "       '0000000000001000000000000000000100001000100100001000100100001000000000000000000000000000',\n",
              "       '0000000000001000000000000000000100001000100100001000100100001000000000000000000000000000',\n",
              "       '0000000000001000000000000000000100001000100100001000100100001000000000000000000000000000',\n",
              "       '0000000000001000000000000000000100001000100100001000100100001000000000000000000000000000',\n",
              "       '0000000000001000000000000000000100001000100100001000100100001000000000000000000000000000',\n",
              "       '0000000000001000000000000000000100001000100100001000100100001000000000000000000000000000',\n",
              "       '0000000000001000000000000000000100001000100100001000100100001000000000000000000000000000',\n",
              "       '0000000000001000000000000000000100001000100100001000100100001000000000000000000000000000',\n",
              "       '0000000000000000000000000001000000000000000000000000000000000000000000000000000000000000',\n",
              "       '0000000000000000000000000001000000000000000000000000000000000000000000000000000000000000',\n",
              "       '0000000000000000000000000001000000000000001000001000000001001000000000000000000000000000',\n",
              "       '0000000000000000000000000001000000000000001000001000000001001000000000000000000000000000',\n",
              "       '0000000000000000000000000001000000000000001000001000000001001000000000000000000000000000',\n",
              "       '0000000000000000000000000001000000000000001000001000000001001000000000000000000000000000',\n",
              "       '0000000000000000000000000001000000000000001000001000000001001000000000000000000000000000',\n",
              "       '0000000000000000000000000001000000000000001000001000000001001000000000000000000000000000',\n",
              "       '0000000000000000000000000001000000000000001000001000000001001000000000000000000000000000',\n",
              "       '0000000000000000000000000001000000000000001000001000000001001000000000000000000000000000',\n",
              "       '0000000000000000000000000001000000000000001000001000000001001000000000000000000000000000',\n",
              "       '0000000000000000000000000001100000000000001000001000000001001000000000000000000000000000',\n",
              "       '0000000000000000000000000001100000000000001100011000000101011000000000000000000000000000',\n",
              "       '0000000000000000000000000001100000000000001100011000000101011000000000000000000000000000',\n",
              "       '0000000000000000000000000001100000000000001100011000000101011000000000000000000000000000',\n",
              "       '0000000000000000000000000001100000000000001100011000000101011000000000000000000000000000',\n",
              "       '0000000000000000000000000001100000000000001100011000000101011000000000000000000000000000',\n",
              "       '0000000000000000000000000001100000000000001100011000000101011000000000000000000000000000',\n",
              "       '0000000000000000000000000001100000000000001100011000000101011000000000000000000000000000',\n",
              "       '0000000000000000000000000001100000000000001100011000000101011000000000000000000000000000',\n",
              "       '0000000000000000000000000101100000000000001100011000000101011000000000000000000000000000',\n",
              "       '0000000000000000000000000100000100000000100001000000100001000000000000000000000000000000',\n",
              "       '0000000000000000000000000100000100000000100001000000100001000000000000000000000000000000',\n",
              "       '0000000000000000000000000100000100000000100001000000100001000000000000000000000000000000',\n",
              "       '0000000000000000000000000100000100000000100001000000100001000000000000000000000000000000',\n",
              "       '0000000000000000000000000100000100000000100001000000100001000000000000000000000000000000',\n",
              "       '0000000000000000000000000100000001000000100100000000100001000000000000000000000000000000',\n",
              "       '0000000000000000000000000100000001000000100100000000100001000000000000000000000000000000',\n",
              "       '0000000000000000000000000100000001000000100100000000100100000000000000000000000000000000',\n",
              "       '0000000000000000000000000100000001000000100100000000100100000000000000000000000000000000',\n",
              "       '0000000000000000000000000010000001000000000100001000000100000000000000000000000000000000',\n",
              "       '0000000000000000000000000010000001000000000100001000000100000000000000000000000000000000',\n",
              "       '0000000000000000000000000010000001000000000100001000000100000000000000000000000000000000',\n",
              "       '0000000000000000000000000010000001000000000100001000000100000000000000000000000000000000',\n",
              "       '0000000000000000000000000010000001000000000100001000000100000000000000000000000000000000',\n",
              "       '0000000000000000000000000010000001000000001000001000001000000000000000000000000000000000',\n",
              "       '0000000000000000000000000010000001000000001000001000001000000000000000000000000000000000',\n",
              "       '0000000000000000000000000010000001000000001000001000001000000000000000000000000000000000',\n",
              "       '0000000000000000000000000010000001000000001000001000001000000000000000000000000000000000',\n",
              "       '0000000000000000000000000010000001000000001000001000001000000000000000000000000000000000',\n",
              "       '0000000000000000000000000010000001001000001000001000100000000000000000000000000000000000',\n",
              "       '0000000000000000000000000010000001001000001000001000100000000000000000000000000000000000',\n",
              "       '0000000000000000000000000010000001001000001000001000100000000000000000000000000000000000',\n",
              "       '0000000000000000000000000010000001001000001000001000100000000000000000000000000000000000',\n",
              "       '0000000000000000000000000010000001001000001000001000100000000000000000000000000000000000',\n",
              "       '0000000000000000000000000010000001001000001000001010000000000000000000000000000000000000',\n",
              "       '0000000000000000000000000010000001001000001000001010000000000000000000000000000000000000',\n",
              "       '0000000000000000000000000000000000001000001000000000000000000000000000000000000000000000',\n",
              "       '0000000000000000000000000000000000001000001000000000000000000000000000000000000000000000',\n",
              "       '0000000000000000000100000000000000001000001000000010000000000000000000000000000000000000',\n",
              "       '0000000000000000000100000000000000001000001000000010000001000000000000000000000000000000',\n",
              "       '0000000000000000000100000000000000001000001000000010000001000000000000000000000000000000',\n",
              "       '0000000000000000000100000000000000001000001000000010000001000000000000000000000000000000',\n",
              "       '0000000000000000000100000000000000001000001000000010000001000000000000000000000000000000',\n",
              "       '0000000000000000000100000000000000001000001000000010000001000000000000000000000000000000',\n",
              "       '0000000000000000000100000000000000001000001000000010000001000000000000000000000000000000',\n",
              "       '0000000000000000000100000000000000001000001000000010000001000000000000000000000000000000',\n",
              "       '0000000000000000000100000000000000001000001000000010000001000000000000000000000000000000',\n",
              "       '0000000000000000000100000000000000001000001000000010000001000000000000000000000000000000',\n",
              "       '0000000000000000000100000000000000000000101000000010000001000000000000000000000000000000',\n",
              "       '0000000000000000000100000000000000000000101000000010000001000000000000000000000000000000',\n",
              "       '0000000000000000000100000000000000000000101000000010000001000000000000000000000000000000',\n",
              "       '0000000000000000000100000000000000000000101000000010000001000000000000000000000000000000',\n",
              "       '0000000000000000000100000000000000000000101000000010000001000000000000000000000000000000',\n",
              "       '0000000000000000000100000000000000000010001000000010000001000000000000000000000000000000',\n",
              "       '0000000000000000000100000000000000000010001000000010000001000000000000000000000000000000',\n",
              "       '0000000000000000000100000000000000000010000000000010000001000000000000000000000000000000',\n",
              "       '0000000000000000000100000000000000000010000000000010000001000000000000000000000000000000',\n",
              "       '0000000000000000000100000000000000000010000000000010000001000000000000000000000000000000',\n",
              "       '0000000000000000000000000000000100010000000100000010000100000000000000000000000000000000',\n",
              "       '0000000000000000000000000000000100010000000100000010000100000000000000000000000000000000',\n",
              "       '0000000000000000000000000000000100010000000100000010000100000000000000000000000000000000',\n",
              "       '0000000000000000000000000000000100010000000100000010000100000000000000000000000000000000',\n",
              "       '0000000000000000000000000000000000000000000000000000000000000000000000000000000000000000',\n",
              "       '0000000000000000000000000000000100000010000100010000000000000000000000000000000000000000',\n",
              "       '0000000000000000000000000000000100000010000100010000000000000000000000000000000000000000',\n",
              "       '0000000000000000000000000000000100000010000100010000000000000000000000000000000000000000',\n",
              "       '0000000000000000000000000000000100000010000100010000000000000000000000000000000000000000',\n",
              "       '0000000000000000000000000000000100000010000100010000000000000000000000000000000000000000',\n",
              "       '0000000000000000000000000000001000000001000100010000000000000000000000000000000000000000',\n",
              "       '0000000000000000000000000000001000000001000100010000000000000000000000000000000000000000',\n",
              "       '0000000000000000000000000000001000000001000100010000000000000000000000000000000000000000',\n",
              "       '0000000000000000000000000000001000000001000100010000000000000000000000000000000000000000',\n",
              "       '0000000000000000000000000000001000000001000100010000000000000000000000000000000000000000',\n",
              "       '0000000000000000000000000000100000000000100100010000000000000000000000000000000000000000',\n",
              "       '0000000000000000000000000000100000000000100100010000000000000000000000000000000000000000',\n",
              "       '0000000000000000000000000000100000000000100100010000000000000000000000000000000000000000',\n",
              "       '0000000000000000000000000000100000000000100100010000000000000000000000000000000000000000',\n",
              "       '0000000000000000000000000000100000000000100100010000000000000000000000000000000000000000',\n",
              "       '0000000000000000000000000000100000000000100100010000000000000000000000000000000000000000',\n",
              "       '0000000000000000000000000000000000000000000000000000000000000000000000000000000000000000',\n",
              "       '0000000000000000000000000001000000010000001000010000000000000000000000000000000000000000',\n",
              "       '0000000000000000000000000001000000010000001000010000000000000000000000000000000000000000',\n",
              "       '0000000000000000000000000001000000010000001000010000000000000000000000000000000000000000',\n",
              "       '0000000000000000000000000001000000010000001000010000000000000000000000000000000000000000',\n",
              "       '0000000000000000000000000001000000010000001000010000000000000000000000000000000000000000',\n",
              "       '0000000000000000000000000001000000010000001000000001000000000000000000000000000000000000',\n",
              "       '0000000000000000000000000001000000010000001000000001000000000000000000000000000000000000',\n",
              "       '0000000000000000000000000001000000010000001000000001000000000000000000000000000000000000',\n",
              "       '0000000000000000000000000001000000010000001000000001000000000000000000000000000000000000',\n",
              "       '0000000000000000000000000001000000010000001000000001000000000000000000000000000000000000',\n",
              "       '0000000000000000000000000001000000010000001000000000001000000000000000000000000000000000',\n",
              "       '0000000000000000000000000001000000010000001000000000001000000000000000000000000000000000',\n",
              "       '0000000000000000000000000001000000010000001000000000001000000000000000000000000000000000',\n",
              "       '0000000000000000000000000001000000010000001000000000001000000000000000000000000000000000',\n",
              "       '0000000000000000000000000001000000010000001000000000001000000000000000000000000000000000',\n",
              "       '0000000000000000000000000001000000010000001000000000100000000000000000000000000000000000',\n",
              "       '0000000000000000000000000001000000010000001000000000100000000000000000000000000000000000',\n",
              "       '0000000000000000000000000001000000010000001000000000100000000000000000000000000000000000',\n",
              "       '0000000000000000000000000001000000010000001000000000100000000000000000000000000000000000',\n",
              "       '0000000000000000000000000001000000010000001000000001000000000000000000000000000000000000',\n",
              "       '0000000000000000000000000001000000010000001000000001000000000000000000000000000000000000',\n",
              "       '0000000000000000000000000001000000010000001000000001000000000000000000000000000000000000',\n",
              "       '0000000000000000000000000001000000010000001000000001000000000000000000000000000000000000',\n",
              "       '0000000000000000000000000001000000010000001000000001000000000000000000000000000000000000',\n",
              "       '0000000000000000000000000001000001000000001000001000000000000000000000000000000000000000',\n",
              "       '0000000000000000000000000001000001000000001000001000000000000000000000000000000000000000',\n",
              "       '0000000000000000000000000001000001000000001000001000000000000000000000000000000000000000',\n",
              "       '0000000000000000000000000001000001000000001000001000000000000000000000000000000000000000',\n",
              "       '0000000000000000000000000001000001000000001000001000000000000000000000000000000000000000',\n",
              "       '0000000000000000000000000001000000010000000000010000000000000000000000000000000000000000',\n",
              "       '0000000000000000000000000001000000010000000000010000000000000000000000000000000000000000',\n",
              "       '0000000000000000000000000001000000010000000000010000000000000000000000000000000000000000',\n",
              "       '0000000000000000000000000001000000010000000000010000000000000000000000000000000000000000',\n",
              "       '0000000000000000000000000001000000010000000000010000000000000000000000000000000000000000',\n",
              "       '0000000000000000000000000001000000001000001001000000000000000000000000000000000000000000',\n",
              "       '0000000000000000000000000001000000001000001001000000000000000000000000000000000000000000',\n",
              "       '0000000000000000000000000001000000001000001001000000000000000000000000000000000000000000',\n",
              "       '0000000000000000000000000001000000001000001001000000000000000000000000000000000000000000',\n",
              "       '0000000000000000000000000001000000001000001001000000000000000000000000000000000000000000',\n",
              "       '0000000000000000000000000000100000001001000001000000000000000000000000000000000000000000',\n",
              "       '0000000000000000000000000000100000001001000001000000000000000000000000000000000000000000',\n",
              "       '0000000000000000000000000000100000001001000001000000000000000000000000000000000000000000',\n",
              "       '0000000000000000000000000000100000001001000001000000000000000000000000000000000000000000',\n",
              "       '0000000000000000000000000000100000010001000100000000000000000000000000000000000000000000',\n",
              "       '0000000000000000000000000000100000010001000100000000000000000000000000000000000000000000',\n",
              "       '0000000000000000000000000000100000010001000100000000000000000000000000000000000000000000',\n",
              "       '0000000000000000000000000000100000010001000100000000000000000000000000000000000000000000',\n",
              "       '0000000000000000000000000000100000010001000100000000000000000000000000000000000000000000',\n",
              "       '0000000000000000000000000000100001000001001000000000000000000000000000000000000000000000',\n",
              "       '0000000000000000000000000000100001000001001000000000000000000000000000000000000000000000',\n",
              "       '0000000000000000000000000000100001000001001000000000000000000000000000000000000000000000',\n",
              "       '0000000000000000000000000000100001000001001000000000000000000000000000000000000000000000',\n",
              "       '0000000000000000000000000000100001000001001000000000000000000000000000000000000000000000',\n",
              "       '0000000000000000000000000000100000010001000100000000000000000000000000000000000000000000',\n",
              "       '0000000000000000000000000000100000010001000100000000000000000000000000000000000000000000',\n",
              "       '0000000000000000000000000000100000010001000100000000000000000000000000000000000000000000',\n",
              "       '0000000000000000000000000000100000010001000100000000000000000000000000000000000000000000',\n",
              "       '0000000000000000000000000000100000010001000100000000000000000000000000000000000000000000',\n",
              "       '0000000000000000000000000000100100010000100000000000000000000000000000000000000000000000',\n",
              "       '0000000000000000000000000000100100010000100000000000000000000000000000000000000000000000',\n",
              "       '0000000000000000000000000000100100010000100000000000000000000000000000000000000000000000',\n",
              "       '0000000000000000000000000000100100010000100000000000000000000000000000000000000000000000',\n",
              "       '0000000000000000000000000000100100010000100000000000000000000000000000000000000000000000',\n",
              "       '0000000000000000000000000000100100010000100000000000000000000000000000000000000000000000',\n",
              "       '0000000000000000000000000000100100010000100000000000000000000000000000000000000000000000',\n",
              "       '0000000000000000000000000000100100010000100000000000000000000000000000000000000000000000',\n",
              "       '0000000000000000000000000000100100010000100000000000000000000000000000000000000000000000',\n",
              "       '0000000000000000000000000000000000000000000000000000000000000000000000000000000000000000',\n",
              "       '0000000000000000000000000000100100001000100000000000000000000000000000000000000000000000',\n",
              "       '0000000000000000000000000000100100010000100000000000000000000000000000000000000000000000',\n",
              "       '0000000000000000000000000000100100010000100000000000000000000000000000000000000000000000',\n",
              "       '0000000000000000000000000000100100001000100000000000000000000000000000000000000000000000',\n",
              "       '0000000000000000000000000000100100010000100000000000000000000000000000000000000000000000',\n",
              "       '0000000000000000000000000000100100001000100000000000000000000000000000000000000000000000',\n",
              "       '0000000000000000000000000000100100010000100000000000000000000000000000000000000000000000',\n",
              "       '0000000000000000000000000000100100001000100000000000000000000000000000000000000000000000',\n",
              "       '0000000000000000000000000000100100001000100000000000000000000000000000000000000000000000',\n",
              "       '0000000000000000000000000000100100010000100000000000000000000000000000000000000000000000',\n",
              "       '0000000000000000000000000000100100001000100000000000000000000000000000000000000000000000',\n",
              "       '0000000000000000000000000000100100010000100000000000000000000000000000000000000000000000',\n",
              "       '0000000000000000000000000000100100001000100000000000000000000000000000000000000000000000',\n",
              "       '0000000000000000000000000000100100010000100000000000000000000000000000000000000000000000',\n",
              "       '0000000000000000000000000000100100010000100000000000000000000000000000000000000000000000',\n",
              "       '0000000000000000000000000000100100001000100000000000000000000000000000000000000000000000',\n",
              "       '0000000000000000000000000000100100010000100000000000000000000000000000000000000000000000',\n",
              "       '0000000000000000000000000000100100001000100000000000000000000000000000000000000000000000',\n",
              "       '0000000000000000000000000000100100010000100000000000000000000000000000000000000000000000',\n",
              "       '0000000000000000000000000001001000001000001000000000000000000000000000000000000000000000',\n",
              "       '0000000000000000000000000001001000010000001000000000000000000000000000000000000000000000',\n",
              "       '0000000000000000000000000001001000010000001000000000000000000000000000000000000000000000',\n",
              "       '0000000000000000000000000001001000001000001000000000000000000000000000000000000000000000',\n",
              "       '0000000000000000000000000001001000010000001000000000000000000000000000000000000000000000',\n",
              "       '0000000000000000000000000000100100001000100000000000000000000000000000000000000000000000',\n",
              "       '0000000000000000000000000000100100010000100000000000000000000000000000000000000000000000',\n",
              "       '0000000000000000000000000000100100001000100000000000000000000000000000000000000000000000',\n",
              "       '0000000000000000000000000000100100010000100000000000000000000000000000000000000000000000',\n",
              "       '0000000000000000000000000000100100010000100000000000000000000000000000000000000000000000',\n",
              "       '0000000000000000000000000000001001001001000000000000000000000000000000000000000000000000',\n",
              "       '0000000000000000000000000000001001010001000000000000000000000000000000000000000000000000',\n",
              "       '0000000000000000000000000000001001001001000000000000000000000000000000000000000000000000',\n",
              "       '0000000000000000000000000000001001010001000000000000000000000000000000000000000000000000',\n",
              "       '0000000000000000000000000000001001001001000000000000000000000000000000000000000000000000',\n",
              "       '0000000000000000000000000000001001001001000000000000000000000000000000000000000000000000',\n",
              "       '0000000000000000000000000000001001010001000000000000000000000000000000000000000000000000',\n",
              "       '0000000000000000000000000000001001001001000000000000000000000000000000000000000000000000',\n",
              "       '0000000000000000000000000000001001010001000000000000000000000000000000000000000000000000',\n",
              "       '0000000000000000000000000000100100001000100000000000000000000000000000000000000000000000',\n",
              "       '0000000000000000000000000000100100010000100000000000000000000000000000000000000000000000',\n",
              "       '0000000000000000000000000000100100001000100000000000000000000000000000000000000000000000',\n",
              "       '0000000000000000000000000000100100001000100000000000000000000000000000000000000000000000',\n",
              "       '0000000000000000000000000000100100010000100000000000000000000000000000000000000000000000',\n",
              "       '0000000000000000000000000000100100001000100000000000000000000000000000000000000000000000',\n",
              "       '0000000000000000000000000000100100010000100000000000000000000000000000000000000000000000',\n",
              "       '0000000000000000000000000000100100001000100000000000000000000000000000000000000000000000',\n",
              "       '0000000000000000000000000000100100010000100000000000000000000000000000000000000000000000',\n",
              "       '0000000000000000000000000000100100010000100000000000000000000000000000000000000000000000',\n",
              "       '0000000000000000000000010000100000001000000100000000000000000000000000000000000000000000',\n",
              "       '0000000000000000000000010000100000010000000100000000000000000000000000000000000000000000',\n",
              "       '0000000000000000000000010000100000001000000100000000000000000000000000000000000000000000',\n",
              "       '0000000000000000000000010000100000010000000100000000000000000000000000000000000000000000',\n",
              "       '0000000000000000000000010000100000001000000100000000000000000000000000000000000000000000',\n",
              "       '0000000000000000000000010000100000010000000100000000000000000000000000000000000000000000',\n",
              "       '0000000000000000000000010000100000010000000100000000000000000000000000000000000000000000',\n",
              "       '0000000000000000000000010000100000001000000100000000000000000000000000000000000000000000',\n",
              "       '0000000000000000000000010000100000010000000100000000000000000000000000000000000000000000',\n",
              "       '0000000000000000000000010000100000001000000100000000000000000000000000000000000000000000',\n",
              "       '0000000000000000000000010000100000010000000100000000000000000000000000000000000000000000',\n",
              "       '0000000000000000000000010000100000001000000100000000000000000000000000000000000000000000',\n",
              "       '0000000000000000000000010000100000001000000100000000000000000000000000000000000000000000',\n",
              "       '0000000000000000000000010000100000010000000100000000000000000000000000000000000000000000',\n",
              "       '0000000000000000000000010000100000001000000100000000000000000000000000000000000000000000',\n",
              "       '0000000000000000000000010000100000010000000100000000000000000000000000000000000000000000',\n",
              "       '0000000000000000000000010000100000100000000100000000000000000000000000000000000000000000',\n",
              "       '0000000000000000000000010000100000100000000100000000000000000000000000000000000000000000',\n",
              "       '0000000000000000000000010000100000100000000100000000000000000000000000000000000000000000',\n",
              "       '0000000000000000000000000001000000010000001000000000000000000000000000000000000000000000',\n",
              "       '0000000000000000000000000001000000010000001000000000000000000000000000000000000000000000',\n",
              "       '0000000000000000000000000001000000010000001000000000000000000000000000000000000000000000',\n",
              "       '0000000000000000000000000001000000010000001000000000000000000000000000000000000000000000',\n",
              "       '0000000000000000000000000000000000010000001000000000000000000000000000000000000000000000'],\n",
              "      dtype='<U88')"
            ]
          },
          "execution_count": 104,
          "metadata": {},
          "output_type": "execute_result"
        }
      ],
      "source": [
        "data[0]"
      ]
    },
    {
      "cell_type": "code",
      "execution_count": null,
      "metadata": {
        "colab": {
          "base_uri": "https://localhost:8080/"
        },
        "id": "tZWoPH4365-N",
        "outputId": "4369bf56-fa8a-4063-dfb8-54541a2d0922"
      },
      "outputs": [
        {
          "output_type": "stream",
          "name": "stdout",
          "text": [
            "(80675, 960)\n",
            "(80675, 11676)\n"
          ]
        }
      ],
      "source": [
        "print(data.shape)\n",
        "print(target.shape)"
      ]
    },
    {
      "cell_type": "code",
      "source": [
        "print(data[0].shape)"
      ],
      "metadata": {
        "colab": {
          "base_uri": "https://localhost:8080/"
        },
        "id": "OMPd4TWuXIY7",
        "outputId": "0c12f749-0423-4d34-a015-3df0ab0d543b"
      },
      "execution_count": null,
      "outputs": [
        {
          "output_type": "stream",
          "name": "stdout",
          "text": [
            "(960,)\n"
          ]
        }
      ]
    },
    {
      "cell_type": "code",
      "execution_count": null,
      "metadata": {
        "id": "M1HYr6bAdHh8"
      },
      "outputs": [],
      "source": [
        "batch_size = 64\n",
        "def build_model(data, target, vocab_size, history, str2id, batch_size):\n",
        "    print(data.shape)\n",
        "    print(target.shape)\n",
        "\n",
        "    BATCH_SIZE = batch_size\n",
        "    # BUFFER_SIZE = 10000\n",
        "\n",
        "    '''\n",
        "    inputs = tf.keras.layers.Input(shape=(history))\n",
        "    embedding = tf.keras.layers.Embedding(input_dim=len(str2id),\n",
        "                                              output_dim=embedding_dim,\n",
        "                                              input_length=history)(inputs)\n",
        "    lstm = tf.keras.layers.LSTM(1024, return_sequences=True, #)(embedding)\n",
        "                        input_shape=[history, embedding_dim])(embedding)\n",
        "    dropout = tf.keras.layers.Dropout(0.2)(lstm)\n",
        "    lstm2 = tf.keras.layers.LSTM(512, return_sequences=False, #)(dropout)\n",
        "                        input_shape=[history, embedding_dim])(dropout)\n",
        "    dropout2 = tf.keras.layers.Dropout(0.2)(lstm2)\n",
        "    # lstm3 = tf.keras.layers.LSTM(1024, return_sequences=False, #)(dropout2)\n",
        "    #                     input_shape=[history, embedding_dim])(dropout2)\n",
        "    # dropout3 = tf.keras.layers.Dropout(0.2)(lstm3)\n",
        "    # outputs = tf.keras.layers.Dense(len(id2str))(dropout3)\n",
        "    outputs = tf.keras.layers.Dense(len(id2str), activation='softmax')(dropout2)\n",
        "    # outputs = tf.keras.layers.Dense(1, activation='softmax')(dense)\n",
        "    model = tf.keras.Model(inputs=inputs, outputs=outputs)\n",
        "    '''\n",
        "    \n",
        "    model = tf.keras.models.Sequential()\n",
        "\n",
        "    model.add(tf.keras.layers.Embedding(input_dim=len(str2id), output_dim=embedding_dim))\n",
        "    model.add(tf.keras.layers.LSTM(1024, return_sequences=False))\n",
        "    # model.add(tf.keras.layers.Bidirectional(tf.keras.layers.LSTM(1024, return_sequences=False)))\n",
        "    model.add(tf.keras.layers.Dropout(0.2))\n",
        "    # model.add(tf.keras.layers.Bidirectional(tf.keras.layers.LSTM(512, return_sequences=False)))\n",
        "    # model.add(tf.keras.layers.Dropout(0.2))\n",
        "    model.add(tf.keras.layers.Dense(len(str2id), activation='softmax'))\n",
        "    \n",
        "\n",
        "    model.summary()\n",
        "    return model"
      ]
    },
    {
      "cell_type": "code",
      "execution_count": null,
      "metadata": {
        "colab": {
          "base_uri": "https://localhost:8080/"
        },
        "id": "3xu-ckP2oxbC",
        "outputId": "af650ebf-e09f-4156-de26-22096134c608"
      },
      "outputs": [
        {
          "output_type": "stream",
          "name": "stdout",
          "text": [
            "(80675, 960)\n",
            "(80675, 11676)\n",
            "Model: \"sequential\"\n",
            "_________________________________________________________________\n",
            " Layer (type)                Output Shape              Param #   \n",
            "=================================================================\n",
            " embedding (Embedding)       (None, None, 512)         5978112   \n",
            "                                                                 \n",
            " lstm (LSTM)                 (None, 1024)              6295552   \n",
            "                                                                 \n",
            " dropout (Dropout)           (None, 1024)              0         \n",
            "                                                                 \n",
            " dense (Dense)               (None, 11676)             11967900  \n",
            "                                                                 \n",
            "=================================================================\n",
            "Total params: 24,241,564\n",
            "Trainable params: 24,241,564\n",
            "Non-trainable params: 0\n",
            "_________________________________________________________________\n"
          ]
        }
      ],
      "source": [
        "hist_model = build_model(data, target, len(id2str), history, id2str, batch_size)"
      ]
    },
    {
      "cell_type": "code",
      "execution_count": null,
      "metadata": {
        "id": "wBaJm-BKpVhF"
      },
      "outputs": [],
      "source": [
        "def train(model, data, target, batch_size):\n",
        "    '''\n",
        "    print(data.shape)\n",
        "    print(target.shape)\n",
        "    print(data[0])\n",
        "    print(target[0])\n",
        "    BATCH_SIZE = batch_size\n",
        "    BUFFER_SIZE = 10000\n",
        "    '''\n",
        "    '''\n",
        "    model = tf.keras.models.Sequential()\n",
        "    model.add(tf.keras.layers.Embedding(vocab_size, self.embedding_dim))\n",
        "    #                                 batch_input_shape=[BATCH_SIZE, None]))\n",
        "    model.add(tf.keras.layers.LSTM(self.embedding_dim,\n",
        "                                   return_sequences=True,\n",
        "                                   input_shape=data.shape[-2:]))\n",
        "    # model.add(tf.keras.layers.TimeDistributed(\n",
        "    #     tf.keras.layers.Dense(self.embedding_dim)))\n",
        "    model.add(tf.keras.layers.Dense(vocab_size))\n",
        "    model.compile(optimizer=tf.keras.optimizers.Adam(),\n",
        "                  loss='mse')\n",
        "    #               loss=tf.keras.losses.SparseCategoricalCrossentropy(),\n",
        "    #               metrics=[tf.keras.metrics.sparse_categorical_accuracy])\n",
        "    model.summary()\n",
        "    model_history = model.fit(x=data, y=target, epochs=100,\n",
        "                              batch_size=BATCH_SIZE,\n",
        "                              shuffle=False,\n",
        "                              validation_split=0.1)\n",
        "    '''\n",
        "    '''\n",
        "    inputs = tf.keras.layers.Input(shape=(history,))\n",
        "    embedding = tf.keras.layers.Embedding(input_dim=len(str2id),\n",
        "                                          output_dim=self.embedding_dim,\n",
        "                                          input_length=history)(inputs)\n",
        "    # lstm = tf.keras.layers.LSTM(256)(inputs)\n",
        "    lstm = tf.keras.layers.LSTM(512, return_sequences=True,\n",
        "                    input_shape=[history, self.embedding_dim])(embedding)\n",
        "    lstm = tf.keras.layers.LSTM(256, return_sequences=True,\n",
        "                    input_shape=[history, self.embedding_dim])(lstm)\n",
        "    dropout = tf.keras.layers.Dropout(0.2)(lstm)\n",
        "    outputs = tf.keras.layers.Dense(len(str2id))(dropout)\n",
        "    model = tf.keras.Model(inputs=inputs, outputs=outputs)\n",
        "    \n",
        "    model.summary()\n",
        "    '''\n",
        "    # checkpoint_dir = '/content/drive/MyDrive/Colab Notebooks' + '/Music_models/checkpoints/'\n",
        "    # checkpoint_callbacks = tf.keras.callbacks.ModelCheckpoint(\n",
        "    #     filepath=os.path.join(checkpoint_dir, 'ckpt_{epoch}'),\n",
        "    #     save_weights_only=True\n",
        "    # )\n",
        "    model.compile(optimizer=tf.keras.optimizers.Adam(),\n",
        "                  # loss=loss,\n",
        "                  loss='categorical_crossentropy'\n",
        "                  #metrics=['categorical_accuracy']\n",
        "                  )\n",
        "    model_history = model.fit(x=data, y=target, epochs=epochs,\n",
        "                              batch_size=batch_size,\n",
        "                              shuffle=True,\n",
        "                              validation_split=0.1,\n",
        "    )\n",
        "                              # callbacks=[checkpoint_callbacks])\n",
        "    model.save('/content/drive/MyDrive/Colab Notebooks' + '/Music_models/schumann_LSTM_L1_binary_str_ce' + str(history) +\n",
        "               '_ep' + str(epochs) + '_embedding_categorica.h5')\n",
        "def loss(labels, logits):\n",
        "    return tf.keras.losses.sparse_categorical_crossentropy(labels, logits,\n",
        "                                                           from_logits=True)"
      ]
    },
    {
      "cell_type": "code",
      "source": [
        "# LSTM L1\n",
        "train(hist_model, data, target, batch_size)"
      ],
      "metadata": {
        "colab": {
          "base_uri": "https://localhost:8080/"
        },
        "id": "5JN72GH_szbp",
        "outputId": "ad9793bb-1c5b-460c-f77a-d2e6bb652f29"
      },
      "execution_count": null,
      "outputs": [
        {
          "output_type": "stream",
          "name": "stdout",
          "text": [
            "Epoch 1/30\n",
            "1135/1135 [==============================] - 312s 271ms/step - loss: 8.5550 - val_loss: 10.0814\n",
            "Epoch 2/30\n",
            "1135/1135 [==============================] - 306s 270ms/step - loss: 5.7845 - val_loss: 10.6492\n",
            "Epoch 3/30\n",
            "1135/1135 [==============================] - 307s 270ms/step - loss: 3.0323 - val_loss: 11.1849\n",
            "Epoch 4/30\n",
            "1135/1135 [==============================] - 307s 271ms/step - loss: 1.8627 - val_loss: 11.5380\n",
            "Epoch 5/30\n",
            "1135/1135 [==============================] - 307s 271ms/step - loss: 1.3921 - val_loss: 11.9343\n",
            "Epoch 6/30\n",
            "1135/1135 [==============================] - 307s 271ms/step - loss: 1.1416 - val_loss: 12.1439\n",
            "Epoch 7/30\n",
            "1135/1135 [==============================] - 307s 271ms/step - loss: 0.9664 - val_loss: 12.5165\n",
            "Epoch 8/30\n",
            "1135/1135 [==============================] - 307s 270ms/step - loss: 0.8505 - val_loss: 12.3817\n",
            "Epoch 9/30\n",
            "1135/1135 [==============================] - 307s 271ms/step - loss: 0.7582 - val_loss: 12.7005\n",
            "Epoch 10/30\n",
            "1135/1135 [==============================] - 307s 271ms/step - loss: 0.6862 - val_loss: 12.8927\n",
            "Epoch 11/30\n",
            "1135/1135 [==============================] - 307s 271ms/step - loss: 0.6196 - val_loss: 13.0561\n",
            "Epoch 12/30\n",
            "1135/1135 [==============================] - 307s 271ms/step - loss: 0.5690 - val_loss: 13.2068\n",
            "Epoch 13/30\n",
            "1135/1135 [==============================] - 307s 271ms/step - loss: 0.5323 - val_loss: 13.2844\n",
            "Epoch 14/30\n",
            "1135/1135 [==============================] - 307s 271ms/step - loss: 0.4820 - val_loss: 13.4706\n",
            "Epoch 15/30\n",
            "1135/1135 [==============================] - 307s 271ms/step - loss: 0.4513 - val_loss: 13.1568\n",
            "Epoch 16/30\n",
            "1135/1135 [==============================] - 307s 271ms/step - loss: 0.4134 - val_loss: 13.5197\n",
            "Epoch 17/30\n",
            "1135/1135 [==============================] - 307s 271ms/step - loss: 0.3925 - val_loss: 13.4406\n",
            "Epoch 18/30\n",
            "1135/1135 [==============================] - 307s 271ms/step - loss: 0.3619 - val_loss: 13.5459\n",
            "Epoch 19/30\n",
            "1135/1135 [==============================] - 307s 270ms/step - loss: 0.3355 - val_loss: 13.5509\n",
            "Epoch 20/30\n",
            "1135/1135 [==============================] - 307s 270ms/step - loss: 0.3214 - val_loss: 13.4898\n",
            "Epoch 21/30\n",
            "1135/1135 [==============================] - 307s 270ms/step - loss: 0.3044 - val_loss: 13.5466\n",
            "Epoch 22/30\n",
            "1135/1135 [==============================] - 307s 271ms/step - loss: 0.2775 - val_loss: 13.5240\n",
            "Epoch 23/30\n",
            "1135/1135 [==============================] - 307s 270ms/step - loss: 0.2635 - val_loss: 13.5839\n",
            "Epoch 24/30\n",
            "1135/1135 [==============================] - 307s 270ms/step - loss: 0.2507 - val_loss: 13.6718\n",
            "Epoch 25/30\n",
            "1135/1135 [==============================] - 307s 270ms/step - loss: 0.2412 - val_loss: 13.8929\n",
            "Epoch 26/30\n",
            "1135/1135 [==============================] - 308s 271ms/step - loss: 0.2367 - val_loss: 13.9308\n",
            "Epoch 27/30\n",
            "1135/1135 [==============================] - 308s 271ms/step - loss: 0.2211 - val_loss: 13.9104\n",
            "Epoch 28/30\n",
            "1135/1135 [==============================] - 308s 271ms/step - loss: 0.2046 - val_loss: 13.9561\n",
            "Epoch 29/30\n",
            "1135/1135 [==============================] - 308s 271ms/step - loss: 0.2025 - val_loss: 14.1041\n",
            "Epoch 30/30\n",
            "1135/1135 [==============================] - 307s 271ms/step - loss: 0.1920 - val_loss: 14.0796\n"
          ]
        }
      ]
    },
    {
      "cell_type": "code",
      "source": [
        "# BiLSTM L1\n",
        "train(hist_model, data, target, batch_size)"
      ],
      "metadata": {
        "colab": {
          "base_uri": "https://localhost:8080/"
        },
        "id": "W6qJsQYHc6F3",
        "outputId": "00056fa5-eca0-499f-abf5-c6a1776a5016"
      },
      "execution_count": null,
      "outputs": [
        {
          "output_type": "stream",
          "name": "stdout",
          "text": [
            "Epoch 1/30\n",
            "1135/1135 [==============================] - 618s 539ms/step - loss: 9.5278 - val_loss: 12.0677\n",
            "Epoch 2/30\n",
            "1135/1135 [==============================] - 615s 542ms/step - loss: 7.7028 - val_loss: 11.9004\n",
            "Epoch 3/30\n",
            "1135/1135 [==============================] - 616s 543ms/step - loss: 4.4471 - val_loss: 12.5195\n",
            "Epoch 4/30\n",
            "1135/1135 [==============================] - 616s 542ms/step - loss: 2.9284 - val_loss: 12.6691\n",
            "Epoch 5/30\n",
            "1135/1135 [==============================] - 616s 543ms/step - loss: 1.9894 - val_loss: 12.9254\n",
            "Epoch 6/30\n",
            "1135/1135 [==============================] - 615s 542ms/step - loss: 1.4858 - val_loss: 13.1048\n",
            "Epoch 7/30\n",
            "1135/1135 [==============================] - 616s 543ms/step - loss: 1.3901 - val_loss: 13.5258\n",
            "Epoch 8/30\n",
            "1135/1135 [==============================] - 617s 544ms/step - loss: 0.9877 - val_loss: 12.9591\n",
            "Epoch 9/30\n",
            "1135/1135 [==============================] - 616s 543ms/step - loss: 0.7857 - val_loss: 13.1221\n",
            "Epoch 10/30\n",
            "1135/1135 [==============================] - 615s 542ms/step - loss: 0.6598 - val_loss: 13.1876\n",
            "Epoch 11/30\n",
            "1135/1135 [==============================] - 615s 542ms/step - loss: 0.5669 - val_loss: 13.1776\n",
            "Epoch 12/30\n",
            "1135/1135 [==============================] - 617s 543ms/step - loss: 0.4672 - val_loss: 13.4463\n",
            "Epoch 13/30\n",
            "1135/1135 [==============================] - 617s 544ms/step - loss: 0.4037 - val_loss: 13.3845\n",
            "Epoch 14/30\n",
            "1135/1135 [==============================] - 616s 542ms/step - loss: 0.3395 - val_loss: 13.4502\n",
            "Epoch 15/30\n",
            "1135/1135 [==============================] - 617s 544ms/step - loss: 0.2894 - val_loss: 13.4899\n",
            "Epoch 16/30\n",
            "1135/1135 [==============================] - 615s 542ms/step - loss: 0.2552 - val_loss: 13.8319\n",
            "Epoch 17/30\n",
            "1135/1135 [==============================] - 617s 544ms/step - loss: 0.2166 - val_loss: 13.9742\n",
            "Epoch 18/30\n",
            "1135/1135 [==============================] - 616s 543ms/step - loss: 0.1831 - val_loss: 13.8792\n",
            "Epoch 19/30\n",
            "1135/1135 [==============================] - 616s 543ms/step - loss: 0.1627 - val_loss: 14.1360\n",
            "Epoch 20/30\n",
            "1135/1135 [==============================] - 616s 543ms/step - loss: 0.1461 - val_loss: 14.0136\n",
            "Epoch 21/30\n",
            "1135/1135 [==============================] - 615s 542ms/step - loss: 0.1293 - val_loss: 13.8794\n",
            "Epoch 22/30\n",
            "1135/1135 [==============================] - 616s 543ms/step - loss: 0.1171 - val_loss: 14.0865\n",
            "Epoch 23/30\n",
            "1135/1135 [==============================] - 617s 543ms/step - loss: 0.0983 - val_loss: 14.3170\n",
            "Epoch 24/30\n",
            "1135/1135 [==============================] - 617s 544ms/step - loss: 0.0856 - val_loss: 14.3466\n",
            "Epoch 25/30\n",
            "1135/1135 [==============================] - 616s 543ms/step - loss: 0.0799 - val_loss: 14.3266\n",
            "Epoch 26/30\n",
            "1135/1135 [==============================] - 617s 544ms/step - loss: 0.0812 - val_loss: 14.2468\n",
            "Epoch 27/30\n",
            "1135/1135 [==============================] - 616s 543ms/step - loss: 0.0702 - val_loss: 14.2902\n",
            "Epoch 28/30\n",
            "1135/1135 [==============================] - 616s 543ms/step - loss: 0.0671 - val_loss: 14.4960\n",
            "Epoch 29/30\n",
            "1135/1135 [==============================] - 617s 544ms/step - loss: 0.0586 - val_loss: 14.3593\n",
            "Epoch 30/30\n",
            "1135/1135 [==============================] - 618s 544ms/step - loss: 0.0576 - val_loss: 14.4016\n"
          ]
        }
      ]
    },
    {
      "cell_type": "code",
      "source": [
        "#biLSTM L2\n",
        "train(hist_model, data, target, batch_size)"
      ],
      "metadata": {
        "colab": {
          "base_uri": "https://localhost:8080/"
        },
        "id": "ivNk-Oj1IAgw",
        "outputId": "6e8b2749-3614-4822-9182-27a1df75fb91"
      },
      "execution_count": null,
      "outputs": [
        {
          "output_type": "stream",
          "name": "stdout",
          "text": [
            "Epoch 1/30\n",
            "1135/1135 [==============================] - 1164s 1s/step - loss: 8.5505 - val_loss: 9.7454\n",
            "Epoch 2/30\n",
            "1135/1135 [==============================] - 1154s 1s/step - loss: 8.3366 - val_loss: 10.7431\n",
            "Epoch 3/30\n",
            "1135/1135 [==============================] - 1156s 1s/step - loss: 7.5111 - val_loss: 10.3461\n",
            "Epoch 4/30\n",
            "1135/1135 [==============================] - 1158s 1s/step - loss: 6.0557 - val_loss: 10.9769\n",
            "Epoch 5/30\n",
            "1135/1135 [==============================] - 1157s 1s/step - loss: 4.8041 - val_loss: 11.9398\n",
            "Epoch 6/30\n",
            "1135/1135 [==============================] - 1157s 1s/step - loss: 3.7030 - val_loss: 12.6948\n",
            "Epoch 7/30\n",
            "1135/1135 [==============================] - 1159s 1s/step - loss: 2.7398 - val_loss: 13.9943\n",
            "Epoch 8/30\n",
            "1135/1135 [==============================] - 1158s 1s/step - loss: 2.0489 - val_loss: 14.7103\n",
            "Epoch 9/30\n",
            "1135/1135 [==============================] - 1158s 1s/step - loss: 1.5924 - val_loss: 15.2051\n",
            "Epoch 10/30\n",
            "1135/1135 [==============================] - 1158s 1s/step - loss: 1.2764 - val_loss: 15.5850\n",
            "Epoch 11/30\n",
            "1135/1135 [==============================] - 1158s 1s/step - loss: 1.0556 - val_loss: 15.9446\n",
            "Epoch 12/30\n",
            "1135/1135 [==============================] - 1158s 1s/step - loss: 0.9004 - val_loss: 16.5163\n",
            "Epoch 13/30\n",
            "1135/1135 [==============================] - 1159s 1s/step - loss: 0.7727 - val_loss: 16.3365\n",
            "Epoch 14/30\n",
            "1135/1135 [==============================] - 1158s 1s/step - loss: 0.6818 - val_loss: 16.8845\n",
            "Epoch 15/30\n",
            "1135/1135 [==============================] - 1159s 1s/step - loss: 0.6128 - val_loss: 16.8949\n",
            "Epoch 16/30\n",
            "1135/1135 [==============================] - 1159s 1s/step - loss: 0.5440 - val_loss: 17.1323\n",
            "Epoch 17/30\n",
            "1135/1135 [==============================] - 1159s 1s/step - loss: 0.4807 - val_loss: 17.0117\n",
            "Epoch 18/30\n",
            "1135/1135 [==============================] - 1159s 1s/step - loss: 0.4333 - val_loss: 17.3103\n",
            "Epoch 19/30\n",
            "1135/1135 [==============================] - 1159s 1s/step - loss: 0.3941 - val_loss: 17.6927\n",
            "Epoch 20/30\n",
            "1135/1135 [==============================] - 1159s 1s/step - loss: 0.3597 - val_loss: 17.7384\n",
            "Epoch 21/30\n",
            "1135/1135 [==============================] - 1159s 1s/step - loss: 0.3272 - val_loss: 17.9890\n",
            "Epoch 22/30\n",
            "1135/1135 [==============================] - 1159s 1s/step - loss: 0.2984 - val_loss: 18.1673\n",
            "Epoch 23/30\n",
            "1135/1135 [==============================] - 1158s 1s/step - loss: 0.2755 - val_loss: 18.5445\n",
            "Epoch 24/30\n",
            "1135/1135 [==============================] - 1159s 1s/step - loss: 0.2534 - val_loss: 18.2425\n",
            "Epoch 25/30\n",
            "1135/1135 [==============================] - 1159s 1s/step - loss: 0.2416 - val_loss: 18.0468\n",
            "Epoch 26/30\n",
            "1135/1135 [==============================] - 1159s 1s/step - loss: 0.2232 - val_loss: 18.2107\n",
            "Epoch 27/30\n",
            "1135/1135 [==============================] - 1159s 1s/step - loss: 0.2087 - val_loss: 18.2388\n",
            "Epoch 28/30\n",
            "1135/1135 [==============================] - 1159s 1s/step - loss: 0.1914 - val_loss: 18.3578\n",
            "Epoch 29/30\n",
            "1135/1135 [==============================] - 1159s 1s/step - loss: 0.1841 - val_loss: 18.7059\n",
            "Epoch 30/30\n",
            "1135/1135 [==============================] - 1160s 1s/step - loss: 0.1725 - val_loss: 18.0699\n"
          ]
        }
      ]
    },
    {
      "cell_type": "code",
      "execution_count": null,
      "metadata": {
        "colab": {
          "background_save": true,
          "base_uri": "https://localhost:8080/"
        },
        "id": "jHmq2iN6__Z9",
        "outputId": "696cfdbc-5bdd-44d4-a13a-9b984db567e8"
      },
      "outputs": [
        {
          "name": "stdout",
          "output_type": "stream",
          "text": [
            "Epoch 1/30\n",
            "1135/1135 [==============================] - 497s 432ms/step - loss: 8.3824 - val_loss: 9.9278\n",
            "Epoch 2/30\n",
            "1135/1135 [==============================] - 491s 433ms/step - loss: 7.4128 - val_loss: 10.5463\n",
            "Epoch 3/30\n",
            "1135/1135 [==============================] - 492s 433ms/step - loss: 6.3923 - val_loss: 11.2751\n",
            "Epoch 4/30\n",
            "1135/1135 [==============================] - 490s 432ms/step - loss: 4.5185 - val_loss: 11.8263\n",
            "Epoch 5/30\n",
            "1135/1135 [==============================] - 490s 432ms/step - loss: 2.9986 - val_loss: 12.7459\n",
            "Epoch 6/30\n",
            "1135/1135 [==============================] - 491s 432ms/step - loss: 2.1164 - val_loss: 13.2753\n",
            "Epoch 7/30\n",
            "1135/1135 [==============================] - 490s 432ms/step - loss: 1.6097 - val_loss: 14.0799\n",
            "Epoch 8/30\n",
            "1135/1135 [==============================] - 490s 432ms/step - loss: 1.3051 - val_loss: 14.2146\n",
            "Epoch 9/30\n",
            "1135/1135 [==============================] - 490s 432ms/step - loss: 1.1173 - val_loss: 15.0858\n",
            "Epoch 10/30\n",
            "1135/1135 [==============================] - 490s 432ms/step - loss: 0.9692 - val_loss: 15.3735\n",
            "Epoch 11/30\n",
            "1135/1135 [==============================] - 489s 431ms/step - loss: 0.8729 - val_loss: 15.2508\n",
            "Epoch 12/30\n",
            "1135/1135 [==============================] - 490s 432ms/step - loss: 0.7822 - val_loss: 15.8050\n",
            "Epoch 13/30\n",
            "1135/1135 [==============================] - 490s 431ms/step - loss: 0.7129 - val_loss: 15.9206\n",
            "Epoch 14/30\n",
            "1135/1135 [==============================] - 491s 432ms/step - loss: 0.6568 - val_loss: 16.2565\n",
            "Epoch 15/30\n",
            "1135/1135 [==============================] - 491s 432ms/step - loss: 0.6013 - val_loss: 16.1530\n",
            "Epoch 16/30\n",
            "1135/1135 [==============================] - 489s 431ms/step - loss: 0.5652 - val_loss: 16.7191\n",
            "Epoch 17/30\n",
            "1135/1135 [==============================] - 489s 431ms/step - loss: 0.5242 - val_loss: 16.5484\n",
            "Epoch 18/30\n",
            "1135/1135 [==============================] - 496s 437ms/step - loss: 0.4876 - val_loss: 16.6595\n",
            "Epoch 19/30\n",
            "1135/1135 [==============================] - 490s 432ms/step - loss: 0.4555 - val_loss: 16.7861\n",
            "Epoch 20/30\n",
            "1135/1135 [==============================] - 489s 431ms/step - loss: 0.4369 - val_loss: 17.0234\n",
            "Epoch 21/30\n",
            "1135/1135 [==============================] - 490s 432ms/step - loss: 0.4043 - val_loss: 17.2695\n",
            "Epoch 22/30\n",
            "1135/1135 [==============================] - 490s 431ms/step - loss: 0.3771 - val_loss: 17.0325\n",
            "Epoch 23/30\n",
            "1135/1135 [==============================] - 489s 431ms/step - loss: 0.3624 - val_loss: 17.2470\n",
            "Epoch 24/30\n",
            "1135/1135 [==============================] - 489s 431ms/step - loss: 0.3506 - val_loss: 17.6039\n",
            "Epoch 25/30\n",
            "1135/1135 [==============================] - 490s 432ms/step - loss: 0.3320 - val_loss: 17.3659\n",
            "Epoch 26/30\n",
            "1135/1135 [==============================] - 490s 432ms/step - loss: 0.3131 - val_loss: 17.6860\n",
            "Epoch 27/30\n",
            "1135/1135 [==============================] - 490s 431ms/step - loss: 0.2955 - val_loss: 17.5326\n",
            "Epoch 28/30\n",
            "1135/1135 [==============================] - 490s 432ms/step - loss: 0.2832 - val_loss: 17.4728\n",
            "Epoch 29/30\n",
            "1135/1135 [==============================] - 489s 431ms/step - loss: 0.2663 - val_loss: 17.5750\n",
            "Epoch 30/30\n",
            "1135/1135 [==============================] - 489s 430ms/step - loss: 0.2653 - val_loss: 17.6103\n"
          ]
        }
      ],
      "source": [
        "# LSTM L2\n",
        "train(hist_model, data, target, batch_size)"
      ]
    },
    {
      "cell_type": "code",
      "execution_count": null,
      "metadata": {
        "id": "lf7BXE03FL0j"
      },
      "outputs": [],
      "source": [
        "# Generate\n",
        "\n",
        "def prettify_generate(notes_generated, num_generate):\n",
        "    notes_matrix = []\n",
        "    notes_generated = np.squeeze(notes_generated)\n",
        "    for i in range(num_generate):\n",
        "        tmp = []\n",
        "        for j in range(88):\n",
        "            tmp.append(int(notes_generated[i][j]))\n",
        "        notes_matrix.append(tmp)\n",
        "        # notes_matrix.append([int(x) for x in notes_generated[i].split(',')])\n",
        "    print(np.array(notes_matrix).shape)\n",
        "    notes_matrix = np.transpose(notes_matrix)\n",
        "    print(notes_matrix.shape)\n",
        "    notes_dict = {}\n",
        "    for i in range(88):\n",
        "        notes_dict[i] = list(notes_matrix[i])\n",
        "    print(len(notes_dict))\n",
        "    notes_matrix = np.array(list(notes_dict.values()))\n",
        "    name = 'schumann_lstm_fs' + str(fs) + '_hist' + str(history) +\\\n",
        "                    '_tp' + str(temperature) + '_emb' +\\\n",
        "                str(embedding_dim) + '.mid'\n",
        "    music_name = '/content/drive/MyDrive/Colab Notebooks' + '/Music_generate/' + name\n",
        "    piano_roll_to_pretty_midi(notes_matrix, music_name, fs)\n",
        "\n",
        "def piano_roll_to_pretty_midi(piano_roll, file_name, fs, program=0):\n",
        "    '''Convert a Piano Roll array into a PrettyMidi object with a single\n",
        "    instrument.\n",
        "    Parameters\n",
        "    ----------\n",
        "    piano_roll : np.ndarray, shape=(128,frames), dtype=int\n",
        "        Piano roll of one instrument\n",
        "    fs : int\n",
        "        Sampling frequency of the columns, i.e. each column is spaced apart\n",
        "        by ``1./fs`` seconds.\n",
        "    program : int\n",
        "        The program number of the instrument.\n",
        "    Returns\n",
        "    -------\n",
        "    midi_object : pretty_midi.PrettyMIDI\n",
        "        A pretty_midi.PrettyMIDI class instance describing\n",
        "        the piano roll.\n",
        "    '''\n",
        "    notes, frames = piano_roll.shape\n",
        "    pm = pretty_midi.PrettyMIDI()\n",
        "    instrument = pretty_midi.Instrument(program=program)\n",
        "\n",
        "    # pad 1 column of zeros so we can acknowledge inital and ending events\n",
        "    piano_roll = np.pad(piano_roll, [(0, 0), (1, 1)], 'constant')\n",
        "\n",
        "    # use changes in velocities to find note on / note off events\n",
        "    velocity_changes = np.nonzero(np.diff(piano_roll).T)\n",
        "\n",
        "    # keep track on velocities and note on times\n",
        "    prev_velocities = np.zeros(notes, dtype=int)\n",
        "    note_on_time = np.zeros(notes)\n",
        "\n",
        "    for time, note in zip(*velocity_changes):\n",
        "        # use time + 1 because of padding above\n",
        "        velocity = piano_roll[note, time + 1]\n",
        "        time = time / fs\n",
        "        if velocity > 0:\n",
        "            if prev_velocities[note] == 0:\n",
        "                note_on_time[note] = time\n",
        "                prev_velocities[note] = velocity\n",
        "        else:\n",
        "            pm_note = pretty_midi.Note(\n",
        "                                        velocity=prev_velocities[note],\n",
        "                                        pitch=note,\n",
        "                                        start=note_on_time[note],\n",
        "                                        end=time)\n",
        "            instrument.notes.append(pm_note)\n",
        "            prev_velocities[note] = 0\n",
        "    pm.instruments.append(instrument)\n",
        "    for i in range(len(pm.instruments)):\n",
        "        for note in pm.instruments[i].notes:\n",
        "            note.velocity = 100\n",
        "    pm.write(file_name)\n",
        "    print('Music Generated!!')"
      ]
    },
    {
      "cell_type": "code",
      "execution_count": null,
      "metadata": {
        "id": "xkx_eo-VE7J9"
      },
      "outputs": [],
      "source": [
        "notes_generated = []\n",
        "\n",
        "def generator(data, target, vocab_size, history, str2id, batch_size):\n",
        "    # model = build_model(data, target, vocab_size, history, str2id, 1)\n",
        "    model = tf.keras.models.load_model('/content/drive/MyDrive/Colab Notebooks' + '/Music_models/schumann_lstm_L2_binary_str_ce' + str(history) +\n",
        "               '_ep' + str(epochs) + '_embedding_categorica.h5')\n",
        "    # model.load_weights(tf.train.latest_checkpoint(self.path +\n",
        "    #                                             '/Music_models/checkpoints/'))\n",
        "    # model.build(tf.TensorShape([None, 1]))\n",
        "    # model.save(self.path + '/Music_models/schumann_lstm_' + str(self.history) + '_'\\\n",
        "    #         + str(self.epochs) + '_embedding_categorical_gen.h5')\n",
        "    # model.summary()\n",
        "\n",
        "    num_generate = fs * 60 * 2 # 2 min\n",
        "    notes_generated = []\n",
        "        \n",
        "    # temperature = temperature # Prediction regulator\n",
        "    # Small temperature -> real pred. Large temperature -> surprizing \n",
        "\n",
        "    starter = data[-1]\n",
        "    starter = tf.expand_dims(starter, 0)\n",
        "    # print(starter[0])\n",
        "\n",
        "    # model.reset_states()\n",
        "    preds_memory = []\n",
        "    for i in range(num_generate):\n",
        "        pred = model(starter)\n",
        "        pred = tf.squeeze(pred, 0)\n",
        "        pred = pred / temperature\n",
        "        # print(pred)\n",
        "        pred = tf.expand_dims(pred, axis=0)\n",
        "        # print(pred.shape)\n",
        "        # pred_id = tf.random.categorical(pred, 1)[-1, 0].numpy()\n",
        "        pred_id = tf.random.categorical(pred, 1)[-1, 0].numpy()\n",
        "        # print(pred_id.shape)\n",
        "        preds_memory.append(pred_id)\n",
        "        if len(preds_memory) >= 160:\n",
        "            preds_memory.pop(0)\n",
        "        while pred_id in preds_memory:\n",
        "            pred = model(tf.expand_dims(data[-i], 0))\n",
        "            pred = tf.squeeze(pred, 0)\n",
        "            pred = pred / temperature\n",
        "            pred = tf.expand_dims(pred, axis=0)\n",
        "            pred_id = tf.random.categorical(pred, 1)[-1, 0].numpy()\n",
        "        starter = tf.expand_dims([pred_id], 0)\n",
        "\n",
        "        notes_generated.append(id2str[pred_id])\n",
        "    # print(notes_generated[0])\n",
        "    notes_generated = np.array(notes_generated)\n",
        "    print('notes_generated shape = ' + str(notes_generated.shape))\n",
        "    print(notes_generated[0])\n",
        "    prettify_generate(notes_generated, num_generate)\n",
        "    return notes_generated"
      ]
    },
    {
      "cell_type": "code",
      "execution_count": null,
      "metadata": {
        "colab": {
          "base_uri": "https://localhost:8080/"
        },
        "id": "adXOc7k9FLo4",
        "outputId": "e66ad6eb-54f8-42b8-b75a-917b7ab37875"
      },
      "outputs": [
        {
          "name": "stdout",
          "output_type": "stream",
          "text": [
            "notes_generated shape = (960,)\n",
            "0000000000000000000000000000000000001000000010000000001010100000000000000000000000000000\n",
            "(960, 88)\n",
            "(88, 960)\n",
            "88\n",
            "Music Generated!!\n"
          ]
        }
      ],
      "source": [
        "notes = generator(data, target, len(str2id), history, str2id, 1)"
      ]
    },
    {
      "cell_type": "code",
      "execution_count": null,
      "metadata": {
        "colab": {
          "base_uri": "https://localhost:8080/"
        },
        "id": "hBmdIhECRWlx",
        "outputId": "1fba81d1-446b-41ac-a120-25d4744e4b64"
      },
      "outputs": [
        {
          "name": "stdout",
          "output_type": "stream",
          "text": [
            "['0000000000000000000000000000001000000000000000100001000000000001000000000000000000000000']\n"
          ]
        }
      ],
      "source": [
        "x = '0000000000000000000000000000001000000000000000100001000000000001000000000000000000000000'\n",
        "print(x.split())"
      ]
    },
    {
      "cell_type": "code",
      "execution_count": null,
      "metadata": {
        "id": "Q7K8IaxVE7AM"
      },
      "outputs": [],
      "source": [
        ""
      ]
    },
    {
      "cell_type": "code",
      "execution_count": null,
      "metadata": {
        "colab": {
          "base_uri": "https://localhost:8080/"
        },
        "id": "h-uv6h_dsBjH",
        "outputId": "57003218-287d-47c0-8ee6-5cc42802c867"
      },
      "outputs": [
        {
          "name": "stdout",
          "output_type": "stream",
          "text": [
            "Epoch 1/30\n",
            "40334/40334 [==============================] - 933s 23ms/step - loss: 0.1081 - categorical_accuracy: 0.0481\n",
            "Epoch 2/30\n",
            "40334/40334 [==============================] - 924s 23ms/step - loss: 0.0994 - categorical_accuracy: 0.0480\n",
            "Epoch 3/30\n",
            "40334/40334 [==============================] - 923s 23ms/step - loss: 0.0976 - categorical_accuracy: 0.0480\n",
            "Epoch 4/30\n",
            "40334/40334 [==============================] - 925s 23ms/step - loss: 0.0970 - categorical_accuracy: 0.0480\n",
            "Epoch 5/30\n",
            "40334/40334 [==============================] - 923s 23ms/step - loss: 0.0967 - categorical_accuracy: 0.0480\n",
            "Epoch 6/30\n",
            "40334/40334 [==============================] - 926s 23ms/step - loss: 0.0970 - categorical_accuracy: 0.0480\n",
            "Epoch 7/30\n",
            "40334/40334 [==============================] - 923s 23ms/step - loss: 0.0959 - categorical_accuracy: 0.0480\n",
            "Epoch 8/30\n",
            "40334/40334 [==============================] - 923s 23ms/step - loss: 0.0958 - categorical_accuracy: 0.0480\n",
            "Epoch 9/30\n",
            "40334/40334 [==============================] - 924s 23ms/step - loss: 0.0951 - categorical_accuracy: 0.0480\n",
            "Epoch 10/30\n",
            "40334/40334 [==============================] - 922s 23ms/step - loss: 0.0947 - categorical_accuracy: 0.0480\n",
            "Epoch 11/30\n",
            "40334/40334 [==============================] - 931s 23ms/step - loss: 0.0948 - categorical_accuracy: 0.0480\n",
            "Epoch 12/30\n",
            "40334/40334 [==============================] - 918s 23ms/step - loss: 0.0950 - categorical_accuracy: 0.0480\n",
            "Epoch 13/30\n",
            "40334/40334 [==============================] - 921s 23ms/step - loss: 0.0944 - categorical_accuracy: 0.0480\n",
            "Epoch 14/30\n",
            "40334/40334 [==============================] - 920s 23ms/step - loss: 0.0942 - categorical_accuracy: 0.0480\n",
            "Epoch 15/30\n",
            "40334/40334 [==============================] - 919s 23ms/step - loss: 0.0941 - categorical_accuracy: 0.0480\n",
            "Epoch 16/30\n",
            "40334/40334 [==============================] - 921s 23ms/step - loss: 0.0944 - categorical_accuracy: 0.0480\n",
            "Epoch 17/30\n",
            "40334/40334 [==============================] - 920s 23ms/step - loss: 0.0940 - categorical_accuracy: 0.0480\n",
            "Epoch 18/30\n",
            "40334/40334 [==============================] - 920s 23ms/step - loss: 0.0941 - categorical_accuracy: 0.0480\n",
            "Epoch 19/30\n",
            "40334/40334 [==============================] - 918s 23ms/step - loss: 0.0942 - categorical_accuracy: 0.0480\n",
            "Epoch 20/30\n",
            "40334/40334 [==============================] - 917s 23ms/step - loss: 0.0935 - categorical_accuracy: 0.0480\n",
            "Epoch 21/30\n",
            "40334/40334 [==============================] - 921s 23ms/step - loss: 0.0940 - categorical_accuracy: 0.0480\n",
            "Epoch 22/30\n",
            "40334/40334 [==============================] - 920s 23ms/step - loss: 0.0941 - categorical_accuracy: 0.0480\n",
            "Epoch 23/30\n",
            "40334/40334 [==============================] - 917s 23ms/step - loss: 0.0940 - categorical_accuracy: 0.0480\n",
            "Epoch 24/30\n",
            "40334/40334 [==============================] - 920s 23ms/step - loss: 0.0942 - categorical_accuracy: 0.0480\n",
            "Epoch 25/30\n",
            "40334/40334 [==============================] - 921s 23ms/step - loss: 0.0941 - categorical_accuracy: 0.0480\n",
            "Epoch 26/30\n",
            "40334/40334 [==============================] - 919s 23ms/step - loss: 0.0942 - categorical_accuracy: 0.0480\n",
            "Epoch 27/30\n",
            "40334/40334 [==============================] - 919s 23ms/step - loss: 0.0941 - categorical_accuracy: 0.0480\n",
            "Epoch 28/30\n",
            "40334/40334 [==============================] - 922s 23ms/step - loss: 0.0940 - categorical_accuracy: 0.0480\n",
            "Epoch 29/30\n",
            "40334/40334 [==============================] - 919s 23ms/step - loss: 0.0939 - categorical_accuracy: 0.0480\n",
            "Epoch 30/30\n",
            "40334/40334 [==============================] - 921s 23ms/step - loss: 0.0952 - categorical_accuracy: 0.0480\n"
          ]
        }
      ],
      "source": [
        "train(hist_model, data, target, batch_size)"
      ]
    },
    {
      "cell_type": "code",
      "execution_count": null,
      "metadata": {
        "colab": {
          "base_uri": "https://localhost:8080/"
        },
        "id": "KpY2sHatKcvJ",
        "outputId": "39b4aff9-41c1-45b0-cc9a-db94eb2a23d0"
      },
      "outputs": [
        {
          "name": "stdout",
          "output_type": "stream",
          "text": [
            "(40334, 480, 1)\n",
            "(40334, 480, 1)\n",
            "Model: \"model_3\"\n",
            "_________________________________________________________________\n",
            " Layer (type)                Output Shape              Param #   \n",
            "=================================================================\n",
            " input_4 (InputLayer)        [(None, 480)]             0         \n",
            "                                                                 \n",
            " embedding_3 (Embedding)     (None, 480, 512)          9905152   \n",
            "                                                                 \n",
            " lstm_9 (LSTM)               (None, 480, 256)          787456    \n",
            "                                                                 \n",
            " dropout_9 (Dropout)         (None, 480, 256)          0         \n",
            "                                                                 \n",
            " dense_15 (Dense)            (None, 480, 256)          65792     \n",
            "                                                                 \n",
            " dense_16 (Dense)            (None, 480, 512)          131584    \n",
            "                                                                 \n",
            " lstm_10 (LSTM)              (None, 480, 512)          2099200   \n",
            "                                                                 \n",
            " dropout_10 (Dropout)        (None, 480, 512)          0         \n",
            "                                                                 \n",
            " dense_17 (Dense)            (None, 480, 512)          262656    \n",
            "                                                                 \n",
            " dense_18 (Dense)            (None, 480, 1024)         525312    \n",
            "                                                                 \n",
            " lstm_11 (LSTM)              (None, 480, 1024)         8392704   \n",
            "                                                                 \n",
            " dropout_11 (Dropout)        (None, 480, 1024)         0         \n",
            "                                                                 \n",
            " dense_19 (Dense)            (None, 480, 19346)        19829650  \n",
            "                                                                 \n",
            " softmax_3 (Softmax)         (None, 480, 19346)        0         \n",
            "                                                                 \n",
            "=================================================================\n",
            "Total params: 41,999,506\n",
            "Trainable params: 41,999,506\n",
            "Non-trainable params: 0\n",
            "_________________________________________________________________\n"
          ]
        }
      ],
      "source": [
        "batch_size = 32\n",
        "def build_model_softmax(data, target, vocab_size, history, str2id, batch_size):\n",
        "    print(data.shape)\n",
        "    print(target.shape)\n",
        "\n",
        "    BATCH_SIZE = batch_size\n",
        "    # BUFFER_SIZE = 10000\n",
        "\n",
        "    inputs = tf.keras.layers.Input(shape=(history,))\n",
        "    embedding = tf.keras.layers.Embedding(input_dim=len(str2id),\n",
        "                                              output_dim=embedding_dim,\n",
        "                                              input_length=history)(inputs)\n",
        "    lstm = tf.keras.layers.LSTM(256, return_sequences=True,\n",
        "                        input_shape=[history, embedding_dim])(embedding)\n",
        "    dropout = tf.keras.layers.Dropout(0.2)(lstm)\n",
        "    dense = tf.keras.layers.Dense(256, activation='relu')(dropout)\n",
        "    dense_out = tf.keras.layers.Dense(512, activation='relu')(dense)\n",
        "    lstm2 = tf.keras.layers.LSTM(512, return_sequences=True,\n",
        "                        input_shape=[history, embedding_dim])(dense_out)\n",
        "    dropout2 = tf.keras.layers.Dropout(0.2)(lstm2)\n",
        "    dense2 = tf.keras.layers.Dense(512, activation='relu')(dropout2)\n",
        "    dense_out2 = tf.keras.layers.Dense(1024, activation='relu')(dense2)\n",
        "    lstm3 = tf.keras.layers.LSTM(1024, return_sequences=True,\n",
        "                        input_shape=[history, embedding_dim])(dense_out2)\n",
        "    dropout3 = tf.keras.layers.Dropout(0.2)(lstm3)\n",
        "    dense_out3 = tf.keras.layers.Dense(len(str2id), activation='relu')(dropout3)\n",
        "    outputs = tf.keras.layers.Softmax()(dense_out3)\n",
        "    model = tf.keras.Model(inputs=inputs, outputs=outputs)\n",
        "        \n",
        "    model.summary()\n",
        "    return model\n",
        "\n",
        "softmax_model = build_model_softmax(data, target, vocab_size, history, str2id, batch_size)"
      ]
    },
    {
      "cell_type": "code",
      "execution_count": null,
      "metadata": {
        "id": "nBUOEj77aM_b"
      },
      "outputs": [],
      "source": [
        "def train(model, data, target, batch_size):\n",
        "    # checkpoint_dir = '/content/drive/MyDrive/Colab Notebooks' + '/Music_models/checkpoints/'\n",
        "    # checkpoint_callbacks = tf.keras.callbacks.ModelCheckpoint(\n",
        "    #     filepath=os.path.join(checkpoint_dir, 'ckpt_{epoch}'),\n",
        "    #     save_weights_only=True\n",
        "    # )\n",
        "    model.compile(optimizer=tf.keras.optimizers.Adam(),\n",
        "                  loss='mse')\n",
        "                  # metrics=['categorical_accuracy'])\n",
        "    model_history = model.fit(x=data, y=target, epochs=epochs,\n",
        "                              batch_size=batch_size,\n",
        "                              shuffle=False,\n",
        "                              validation_split=0.1,\n",
        "    )\n",
        "                              # callbacks=[checkpoint_callbacks])\n",
        "    model.save('/content/drive/MyDrive/Colab Notebooks' + '/Music_models/schumann_lstm_softmax' + str(history) +\n",
        "               '_ep' + str(epochs) + '_embedding_categorica.h5')\n",
        "def loss(labels, logits):\n",
        "    return tf.keras.losses.sparse_categorical_crossentropy(labels, logits,\n",
        "                                                           from_logits=True)"
      ]
    },
    {
      "cell_type": "code",
      "execution_count": null,
      "metadata": {
        "colab": {
          "base_uri": "https://localhost:8080/"
        },
        "id": "F4p3YjMvaqNr",
        "outputId": "0bed4869-8166-42dd-a36a-88c20c70944b"
      },
      "outputs": [
        {
          "name": "stdout",
          "output_type": "stream",
          "text": [
            "Epoch 1/30\n",
            "1135/1135 [==============================] - 437s 381ms/step - loss: 127421784.0000 - val_loss: 86667416.0000\n",
            "Epoch 2/30\n",
            "1135/1135 [==============================] - 434s 382ms/step - loss: 127421784.0000 - val_loss: 86667416.0000\n",
            "Epoch 3/30\n",
            "1135/1135 [==============================] - 434s 382ms/step - loss: 127421784.0000 - val_loss: 86667416.0000\n",
            "Epoch 4/30\n",
            "1135/1135 [==============================] - 434s 383ms/step - loss: 127421784.0000 - val_loss: 86667416.0000\n",
            "Epoch 5/30\n",
            "1135/1135 [==============================] - 434s 383ms/step - loss: 127421784.0000 - val_loss: 86667416.0000\n",
            "Epoch 6/30\n",
            "1135/1135 [==============================] - 434s 382ms/step - loss: 127421784.0000 - val_loss: 86667416.0000\n",
            "Epoch 7/30\n",
            "1135/1135 [==============================] - 433s 382ms/step - loss: 127421784.0000 - val_loss: 86667416.0000\n",
            "Epoch 8/30\n",
            "1135/1135 [==============================] - 434s 382ms/step - loss: 127421784.0000 - val_loss: 86667416.0000\n",
            "Epoch 9/30\n",
            "1135/1135 [==============================] - 435s 383ms/step - loss: 127421784.0000 - val_loss: 86667416.0000\n",
            "Epoch 10/30\n",
            "1135/1135 [==============================] - 434s 383ms/step - loss: 127421784.0000 - val_loss: 86667416.0000\n",
            "Epoch 11/30\n",
            "1135/1135 [==============================] - 434s 382ms/step - loss: 127421784.0000 - val_loss: 86667416.0000\n",
            "Epoch 12/30\n",
            "1135/1135 [==============================] - 434s 382ms/step - loss: 127421784.0000 - val_loss: 86667416.0000\n",
            "Epoch 13/30\n",
            "1135/1135 [==============================] - 433s 382ms/step - loss: 127421784.0000 - val_loss: 86667416.0000\n",
            "Epoch 14/30\n",
            "1135/1135 [==============================] - 433s 382ms/step - loss: 127421784.0000 - val_loss: 86667416.0000\n",
            "Epoch 15/30\n",
            "1135/1135 [==============================] - 433s 382ms/step - loss: 127421784.0000 - val_loss: 86667416.0000\n",
            "Epoch 16/30\n",
            "1135/1135 [==============================] - 433s 382ms/step - loss: 127421784.0000 - val_loss: 86667416.0000\n",
            "Epoch 17/30\n",
            "1135/1135 [==============================] - 433s 382ms/step - loss: 127421784.0000 - val_loss: 86667416.0000\n",
            "Epoch 18/30\n",
            "1135/1135 [==============================] - 433s 382ms/step - loss: 127421784.0000 - val_loss: 86667416.0000\n",
            "Epoch 19/30\n",
            "1135/1135 [==============================] - 434s 382ms/step - loss: 127421784.0000 - val_loss: 86667416.0000\n",
            "Epoch 20/30\n",
            "1135/1135 [==============================] - 434s 382ms/step - loss: 127421784.0000 - val_loss: 86667416.0000\n",
            "Epoch 21/30\n",
            "1135/1135 [==============================] - 434s 382ms/step - loss: 127421784.0000 - val_loss: 86667416.0000\n",
            "Epoch 22/30\n",
            "1135/1135 [==============================] - 434s 383ms/step - loss: 127421784.0000 - val_loss: 86667416.0000\n",
            "Epoch 23/30\n",
            "1135/1135 [==============================] - 434s 382ms/step - loss: 127421784.0000 - val_loss: 86667416.0000\n",
            "Epoch 24/30\n",
            "1135/1135 [==============================] - 435s 384ms/step - loss: 127421784.0000 - val_loss: 86667416.0000\n",
            "Epoch 25/30\n",
            "1135/1135 [==============================] - 434s 382ms/step - loss: 127421784.0000 - val_loss: 86667416.0000\n",
            "Epoch 26/30\n",
            "1135/1135 [==============================] - 434s 382ms/step - loss: 127421784.0000 - val_loss: 86667416.0000\n",
            "Epoch 27/30\n",
            "1135/1135 [==============================] - 433s 382ms/step - loss: 127421784.0000 - val_loss: 86667416.0000\n",
            "Epoch 28/30\n",
            "1135/1135 [==============================] - 434s 383ms/step - loss: 127421784.0000 - val_loss: 86667416.0000\n",
            "Epoch 29/30\n",
            "1135/1135 [==============================] - 434s 383ms/step - loss: 127421784.0000 - val_loss: 86667416.0000\n",
            "Epoch 30/30\n",
            "1135/1135 [==============================] - 434s 383ms/step - loss: 127421784.0000 - val_loss: 86667416.0000\n"
          ]
        }
      ],
      "source": [
        "train(softmax_model, data, target, batch_size)"
      ]
    },
    {
      "cell_type": "code",
      "execution_count": null,
      "metadata": {
        "id": "b2RhhbRE-9gW"
      },
      "outputs": [],
      "source": [
        "class music_generator:\n",
        "    def __init__(self, path='/content/drive/MyDrive/Colab Notebooks'):\n",
        "        self.embedding_dim = 512\n",
        "        self.start_key = 21\n",
        "        self.history = 480\n",
        "        self.epochs = 30\n",
        "        self.batch_size = 128\n",
        "        self.fs = 8\n",
        "        self.temperature = 1.0\n",
        "        self.path = path\n",
        "        self.midi_files = self.get_midi_files(path + '/Schumann/')\n",
        "        self.pretty_files = self.prettify(self.midi_files)\n",
        "        self.name = 'schumann_lstm_fs' + str(self.fs) + '_hist' + str(self.history) +\\\n",
        "                    '_tp' + str(self.temperature) + '_emb' +\\\n",
        "                str(self.embedding_dim) + '.mid'\n",
        "        self.notes_dict = self.notes_to_dict(self.pretty_files, self.fs)\n",
        "        self.data, self.target, self.vocab_size, self.str2id, self.id2str = \\\n",
        "                    self.data_preparation(self.notes_dict, self.history)\n",
        "        self.hist_model = self.build_model(self.data, self.target,\n",
        "                                           self.vocab_size, self.history,\n",
        "                                           self.str2id, self.batch_size)\n",
        "        self.train(self.hist_model, self.data, self.target, self.batch_size)\n",
        "        self.notes = self.generator(self.data, self.target, self.vocab_size,\n",
        "                                    self.history, self.str2id, 1)\n",
        "        \n",
        "    \n",
        "    def notes_to_dict(self, pretty_files, fs):\n",
        "        musics = []\n",
        "        for i in range(len(pretty_files)):\n",
        "            music = dict()\n",
        "            lines = dict()\n",
        "            instruments = pretty_files[i].instruments\n",
        "            # Merge instruments\n",
        "            tracks = pd.DataFrame([])\n",
        "            for inst in instruments:\n",
        "                track = inst.get_piano_roll(fs=fs)\n",
        "                track_df = pd.DataFrame(data=track)\n",
        "                tracks = pd.concat([tracks, track_df]).groupby(level=0).max()\n",
        "            tracks = tracks.values\n",
        "            for key_index in range(tracks.shape[0]):\n",
        "                duration = tracks[key_index] # Numeric\n",
        "                duration = np.array([str(int(x)) for x in duration]) # Str\n",
        "                lines[key_index] = duration\n",
        "            music = dict(list(music.items()) + list(lines.items()))\n",
        "            musics.append(music)\n",
        "        return musics\n",
        "\n",
        "    def data_preparation(self, notes_dict, history):\n",
        "        dataset = np.array([])\n",
        "        for nd in notes_dict:\n",
        "            durations = np.array(list(nd.values())).reshape(128, -1)\n",
        "            tmp_dur = np.transpose(durations)\n",
        "            for i in range(len(tmp_dur)):\n",
        "                if any(v != 0 for v in tmp_dur[i]):\n",
        "                    tmp_dur = tmp_dur[i:]\n",
        "                    break\n",
        "            for i in range(len(tmp_dur)):\n",
        "                if any(v != 0 for v in tmp_dur[-i]):\n",
        "                    tmp_dur = tmp_dur[-i:]\n",
        "                    break\n",
        "            durations = np.transpose(tmp_dur)\n",
        "            if len(dataset) == 0:\n",
        "                dataset = durations\n",
        "            else:\n",
        "                dataset = np.hstack((dataset, durations))\n",
        "        dataset = dataset[self.start_key: self.start_key + 88]\n",
        "        print(dataset.shape)\n",
        "\n",
        "        # Normalization\n",
        "\n",
        "        dataset = np.transpose(dataset) # shape = (N, 88)\n",
        "        print(dataset.shape)\n",
        "        tmp_dataset = []\n",
        "        for x in dataset:\n",
        "            tmp_dataset.append(','.join(x))\n",
        "        dataset = np.array(tmp_dataset)\n",
        "        print(dataset.shape)\n",
        "        str2id = {s:i for i, s in enumerate(np.unique(dataset))}\n",
        "        id2str = np.unique(dataset)\n",
        "        \n",
        "        data = []\n",
        "        target = []\n",
        "        start_index = history\n",
        "        end_index = dataset.shape[0] - 1\n",
        "        for i in range(start_index, end_index-1):\n",
        "            x_indicies = range(i-history, i)\n",
        "            y_indicies = range(i-history+1, i+1)\n",
        "            # data.append(np.reshape(dataset[indicies],\n",
        "            #                        (history, self.embedding_dim)))\n",
        "            # target.append(dataset[i+1])\n",
        "            # tmp_data = [','.join(x) for x in dataset[indicies]]\n",
        "            # data.append(tmp_data)\n",
        "            # target.append(np.reshape(','.join(dataset[i+1]), 1))\n",
        "            # data.append(np.reshape([str2id[x] for x in dataset[indicies]],\n",
        "            #                        (history, 1)))\n",
        "            data.append(np.reshape([str2id[x] for x in dataset[x_indicies]],\n",
        "                                   (history, 1)))\n",
        "            target.append(np.reshape([str2id[x] for x in dataset[y_indicies]],\n",
        "                                     (history, 1)))\n",
        "        # data = np.transpose(data)\n",
        "        # target = np.transpose(target)\n",
        "        data = np.array(data)\n",
        "        target = np.array(target)\n",
        "        return data, target, dataset.shape[0], str2id, id2str\n",
        "\n",
        "    def build_model(self, data, target, vocab_size, history,\n",
        "                    str2id, batch_size):\n",
        "        print(data.shape)\n",
        "        print(target.shape)\n",
        "\n",
        "        BATCH_SIZE = batch_size\n",
        "        BUFFER_SIZE = 10000\n",
        "\n",
        "        inputs = tf.keras.layers.Input(shape=(history,))\n",
        "        embedding = tf.keras.layers.Embedding(input_dim=len(str2id),\n",
        "                                              output_dim=self.embedding_dim,\n",
        "                                              input_length=history)(inputs)\n",
        "        lstm = tf.keras.layers.LSTM(256, return_sequences=True,\n",
        "                        input_shape=[history, self.embedding_dim])(embedding)\n",
        "        dropout = tf.keras.layers.Dropout(0.2)(lstm)\n",
        "        lstm2 = tf.keras.layers.LSTM(512, return_sequences=True,\n",
        "                        input_shape=[history, self.embedding_dim])(dropout)\n",
        "        dropout2 = tf.keras.layers.Dropout(0.2)(lstm2)\n",
        "        lstm3 = tf.keras.layers.LSTM(1024, return_sequences=True,\n",
        "                        input_shape=[history, self.embedding_dim])(dropout2)\n",
        "        dropout3 = tf.keras.layers.Dropout(0.2)(lstm3)\n",
        "        outputs = tf.keras.layers.Dense(len(str2id))(dropout3)\n",
        "        model = tf.keras.Model(inputs=inputs, outputs=outputs)\n",
        "        \n",
        "        model.summary()\n",
        "        return model\n",
        "\n",
        "    def train(self, model, data, target, batch_size):\n",
        "        '''\n",
        "        print(data.shape)\n",
        "        print(target.shape)\n",
        "        print(data[0])\n",
        "        print(target[0])\n",
        "        BATCH_SIZE = batch_size\n",
        "        BUFFER_SIZE = 10000\n",
        "        '''\n",
        "        '''\n",
        "        model = tf.keras.models.Sequential()\n",
        "        model.add(tf.keras.layers.Embedding(vocab_size, self.embedding_dim))\n",
        "        #                                 batch_input_shape=[BATCH_SIZE, None]))\n",
        "        model.add(tf.keras.layers.LSTM(self.embedding_dim,\n",
        "                                       return_sequences=True,\n",
        "                                       input_shape=data.shape[-2:]))\n",
        "        # model.add(tf.keras.layers.TimeDistributed(\n",
        "        #     tf.keras.layers.Dense(self.embedding_dim)))\n",
        "        model.add(tf.keras.layers.Dense(vocab_size))\n",
        "        model.compile(optimizer=tf.keras.optimizers.Adam(),\n",
        "                      loss='mse')\n",
        "        #               loss=tf.keras.losses.SparseCategoricalCrossentropy(),\n",
        "        #               metrics=[tf.keras.metrics.sparse_categorical_accuracy])\n",
        "        model.summary()\n",
        "        model_history = model.fit(x=data, y=target, epochs=100,\n",
        "                                  batch_size=BATCH_SIZE,\n",
        "                                  shuffle=False,\n",
        "                                  validation_split=0.1)\n",
        "        '''\n",
        "        '''\n",
        "        inputs = tf.keras.layers.Input(shape=(history,))\n",
        "        embedding = tf.keras.layers.Embedding(input_dim=len(str2id),\n",
        "                                              output_dim=self.embedding_dim,\n",
        "                                              input_length=history)(inputs)\n",
        "        # lstm = tf.keras.layers.LSTM(256)(inputs)\n",
        "        lstm = tf.keras.layers.LSTM(512, return_sequences=True,\n",
        "                        input_shape=[history, self.embedding_dim])(embedding)\n",
        "        lstm = tf.keras.layers.LSTM(256, return_sequences=True,\n",
        "                        input_shape=[history, self.embedding_dim])(lstm)\n",
        "        dropout = tf.keras.layers.Dropout(0.2)(lstm)\n",
        "        outputs = tf.keras.layers.Dense(len(str2id))(dropout)\n",
        "        model = tf.keras.Model(inputs=inputs, outputs=outputs)\n",
        "        \n",
        "        model.summary()\n",
        "        '''\n",
        "        checkpoint_dir = self.path + '/Music_models/checkpoints/'\n",
        "        checkpoint_callbacks = tf.keras.callbacks.ModelCheckpoint(\n",
        "            filepath=os.path.join(checkpoint_dir, 'ckpt_{epoch}'),\n",
        "            save_weights_only=True\n",
        "        )\n",
        "        model.compile(optimizer=tf.keras.optimizers.Adam(),\n",
        "                      loss=self.loss,\n",
        "                      metrics=['categorical_accuracy'])\n",
        "        model_history = model.fit(x=data, y=target, epochs=self.epochs,\n",
        "                                  batch_size=batch_size,\n",
        "                                  shuffle=False,\n",
        "                                  validation_split=0.1,\n",
        "                                  callbacks=[checkpoint_callbacks])\n",
        "        model.save(self.path + '/Music_models/schumann_lstm_hist' + str(self.history) +\n",
        "                   '_ep' + str(self.epochs) + '_embedding_categorica.h5')\n",
        "\n",
        "    def loss(self, labels, logits):\n",
        "        return tf.keras.losses.sparse_categorical_crossentropy(labels, logits,\n",
        "                                                               from_logits=True)\n",
        "\n",
        "    def prettify(self, midi_files):\n",
        "        pretty_files = []\n",
        "        for f in midi_files:\n",
        "            try:\n",
        "                pretty_files.append(pretty_midi.PrettyMIDI(f))\n",
        "            except:\n",
        "                print('Err File: ' + f)\n",
        "        return pretty_files\n",
        "\n",
        "    def get_midi_files(self, path):\n",
        "        midi_files = []\n",
        "        for root_dir, sub_dir, files in os.walk(path):\n",
        "            for name in files:\n",
        "                print(name)\n",
        "                midi_files.append(path + name)\n",
        "        print(midi_files)\n",
        "        return midi_files\n",
        "\n",
        "    def generator(self, data, target, vocab_size, history, str2id, batch_size):\n",
        "        model = self.build_model(data, target, vocab_size, history, str2id, 1)\n",
        "        model.load_weights(tf.train.latest_checkpoint(self.path +\n",
        "                                                '/Music_models/checkpoints/'))\n",
        "        model.build(tf.TensorShape([None, 1]))\n",
        "        model.save(self.path + '/Music_models/schumann_lstm_' + str(self.history) + '_'\\\n",
        "            + str(self.epochs) + '_embedding_categorical_gen.h5')\n",
        "        model.summary()\n",
        "\n",
        "        num_generate = self.fs * 60 * 2 # 2 min\n",
        "        notes_generated = []\n",
        "        \n",
        "        temperature = self.temperature # Prediction regulator\n",
        "        # Small temperature -> real pred. Large temperature -> surprizing \n",
        "\n",
        "        starter = data[-1]\n",
        "        starter = tf.expand_dims(starter, 0)\n",
        "        # print(starter[0])\n",
        "\n",
        "        model.reset_states()\n",
        "        preds_memory = []\n",
        "        for i in range(num_generate):\n",
        "            pred = model(starter)\n",
        "            pred = tf.squeeze(pred, 0)\n",
        "            pred = pred / temperature\n",
        "            pred_id = tf.random.categorical(pred, 1)[-1, 0].numpy()\n",
        "            # print(pred_id.shape)\n",
        "            preds_memory.append(pred_id)\n",
        "            if len(preds_memory) >= 160:\n",
        "                preds_memory.pop(0)\n",
        "            while pred_id in preds_memory:\n",
        "                pred = model(tf.expand_dims(data[-i], 0))\n",
        "                pred = tf.squeeze(pred, 0)\n",
        "                pred = pred / temperature\n",
        "                pred_id = tf.random.categorical(pred, 1)[-1, 0].numpy()\n",
        "            starter = tf.expand_dims([pred_id], 0)\n",
        "\n",
        "            notes_generated.append(self.id2str[pred_id])\n",
        "        # print(notes_generated[0])\n",
        "        self.prettify_generate(notes_generated, num_generate)\n",
        "        return notes_generated\n",
        "\n",
        "    def prettify_generate(self, notes_generated, num_generate):\n",
        "        notes_matrix = []\n",
        "        for i in range(num_generate):\n",
        "            notes_matrix.append([int(x) for x in notes_generated[i].split(',')])\n",
        "        print(np.array(notes_matrix).shape)\n",
        "        notes_matrix = np.transpose(notes_matrix)\n",
        "        print(notes_matrix.shape)\n",
        "        notes_dict = {}\n",
        "        for i in range(128):\n",
        "            if i < 21 or i >= 109:\n",
        "                notes_dict[i] = [0] * num_generate\n",
        "            else:\n",
        "                notes_dict[i] = list(notes_matrix[i-21])\n",
        "        print(len(notes_dict))\n",
        "        notes_matrix = np.array(list(notes_dict.values()))\n",
        "        music_name = self.path + '/Music_generate/' + self.name\n",
        "        self.piano_roll_to_pretty_midi(notes_matrix, music_name, self.fs)\n",
        "\n",
        "    def piano_roll_to_pretty_midi(self, piano_roll, file_name, fs, program=0):\n",
        "        '''Convert a Piano Roll array into a PrettyMidi object with a single\n",
        "        instrument.\n",
        "        Parameters\n",
        "        ----------\n",
        "        piano_roll : np.ndarray, shape=(128,frames), dtype=int\n",
        "            Piano roll of one instrument\n",
        "        fs : int\n",
        "            Sampling frequency of the columns, i.e. each column is spaced apart\n",
        "            by ``1./fs`` seconds.\n",
        "        program : int\n",
        "            The program number of the instrument.\n",
        "        Returns\n",
        "        -------\n",
        "        midi_object : pretty_midi.PrettyMIDI\n",
        "            A pretty_midi.PrettyMIDI class instance describing\n",
        "            the piano roll.\n",
        "        '''\n",
        "        notes, frames = piano_roll.shape\n",
        "        pm = pretty_midi.PrettyMIDI()\n",
        "        instrument = pretty_midi.Instrument(program=program)\n",
        "\n",
        "        # pad 1 column of zeros so we can acknowledge inital and ending events\n",
        "        piano_roll = np.pad(piano_roll, [(0, 0), (1, 1)], 'constant')\n",
        "\n",
        "        # use changes in velocities to find note on / note off events\n",
        "        velocity_changes = np.nonzero(np.diff(piano_roll).T)\n",
        "\n",
        "        # keep track on velocities and note on times\n",
        "        prev_velocities = np.zeros(notes, dtype=int)\n",
        "        note_on_time = np.zeros(notes)\n",
        "\n",
        "        for time, note in zip(*velocity_changes):\n",
        "            # use time + 1 because of padding above\n",
        "            velocity = piano_roll[note, time + 1]\n",
        "            time = time / fs\n",
        "            if velocity > 0:\n",
        "                if prev_velocities[note] == 0:\n",
        "                    note_on_time[note] = time\n",
        "                    prev_velocities[note] = velocity\n",
        "            else:\n",
        "                pm_note = pretty_midi.Note(\n",
        "                                        velocity=prev_velocities[note],\n",
        "                                        pitch=note,\n",
        "                                        start=note_on_time[note],\n",
        "                                        end=time)\n",
        "                instrument.notes.append(pm_note)\n",
        "                prev_velocities[note] = 0\n",
        "        pm.instruments.append(instrument)\n",
        "        for i in range(len(pm.instruments)):\n",
        "            for note in pm.instruments[i].notes:\n",
        "                note.velocity = 100\n",
        "        pm.write(file_name)\n",
        "        print('Music Generated!!')\n",
        "\n",
        "\n",
        "if __name__ == '__main__':\n",
        "    mg = music_generator()\n"
      ]
    },
    {
      "cell_type": "code",
      "execution_count": null,
      "metadata": {
        "id": "73L7Wt-qKcVd"
      },
      "outputs": [],
      "source": [
        ""
      ]
    },
    {
      "cell_type": "code",
      "execution_count": null,
      "metadata": {
        "id": "aXGnPzqHKcBb"
      },
      "outputs": [],
      "source": [
        ""
      ]
    },
    {
      "cell_type": "code",
      "execution_count": null,
      "metadata": {
        "colab": {
          "base_uri": "https://localhost:8080/"
        },
        "id": "O8Ca5DYrKbve",
        "outputId": "0eebaf4e-dfaf-43d8-d4c1-37d965247d87"
      },
      "outputs": [
        {
          "name": "stdout",
          "output_type": "stream",
          "text": [
            "Cloning into 'language-modelling'...\n",
            "remote: Enumerating objects: 19, done.\u001b[K\n",
            "remote: Total 19 (delta 0), reused 0 (delta 0), pack-reused 19\u001b[K\n",
            "Unpacking objects: 100% (19/19), done.\n"
          ]
        }
      ],
      "source": [
        "!git clone https://github.com/shivam5992/language-modelling.git"
      ]
    },
    {
      "cell_type": "code",
      "execution_count": null,
      "metadata": {
        "id": "jzFt7zXRKeDx"
      },
      "outputs": [],
      "source": [
        "%pycat language-modelling/model.py"
      ]
    },
    {
      "cell_type": "code",
      "execution_count": null,
      "metadata": {
        "id": "KDS6_F-xK-bi"
      },
      "outputs": [],
      "source": [
        "from keras.preprocessing.text import Tokenizer\n",
        "\n",
        "tokenizer = Tokenizer()\n",
        "\n",
        "data = open('language-modelling/data.txt').read()\n",
        "corpus = data.lower().split('\\n')\n",
        "# tokenization  \n",
        "tokenizer.fit_on_texts(corpus)\n",
        "total_words = len(tokenizer.word_index) + 1"
      ]
    },
    {
      "cell_type": "code",
      "execution_count": null,
      "metadata": {
        "colab": {
          "base_uri": "https://localhost:8080/"
        },
        "id": "EBaHkEi8LeqY",
        "outputId": "724cc017-f135-4742-88ab-7a9dbfd7ab40"
      },
      "outputs": [
        {
          "data": {
            "text/plain": [
              "{'a': 18,\n",
              " 'and': 7,\n",
              " 'are': 41,\n",
              " 'be': 37,\n",
              " 'began': 24,\n",
              " 'cannot': 31,\n",
              " 'cat': 13,\n",
              " 'christmas': 19,\n",
              " 'cry': 25,\n",
              " 'day': 32,\n",
              " 'dear': 28,\n",
              " 'eat': 17,\n",
              " 'fear': 30,\n",
              " 'for': 11,\n",
              " 'go': 10,\n",
              " 'have': 33,\n",
              " 'her': 14,\n",
              " 'if': 35,\n",
              " 'it': 36,\n",
              " 'kittens': 1,\n",
              " 'little': 22,\n",
              " 'lost': 9,\n",
              " 'mittens': 3,\n",
              " 'mother': 27,\n",
              " 'naughty': 42,\n",
              " 'not': 40,\n",
              " 'o': 26,\n",
              " 'on': 16,\n",
              " 'our': 34,\n",
              " 'pie': 20,\n",
              " 'poor': 21,\n",
              " 'put': 15,\n",
              " 'sadly': 29,\n",
              " 'shall': 39,\n",
              " 'so': 38,\n",
              " 'the': 6,\n",
              " 'their': 8,\n",
              " 'then': 23,\n",
              " 'they': 2,\n",
              " 'to': 4,\n",
              " 'we': 5,\n",
              " 'ye': 12}"
            ]
          },
          "execution_count": 3,
          "metadata": {},
          "output_type": "execute_result"
        }
      ],
      "source": [
        "tokenizer.word_index"
      ]
    },
    {
      "cell_type": "code",
      "execution_count": null,
      "metadata": {
        "id": "59JLV_fDwwUH"
      },
      "outputs": [],
      "source": [
        "input_sequences = []\n",
        "for line in corpus:\n",
        "    token_list = tokenizer.texts_to_sequences([line])[0]\n",
        "    for i in range(1, len(token_list)):\n",
        "        n_gram_sequence = token_list[:i+1]\n",
        "        input_sequences.append(n_gram_sequence)"
      ]
    },
    {
      "cell_type": "code",
      "execution_count": null,
      "metadata": {
        "colab": {
          "base_uri": "https://localhost:8080/"
        },
        "id": "DAExUW6Jw6px",
        "outputId": "3f0d5d10-aa15-45e6-e34b-04dce82e220a"
      },
      "outputs": [
        {
          "data": {
            "text/plain": [
              "[6, 13, 7]"
            ]
          },
          "execution_count": 8,
          "metadata": {},
          "output_type": "execute_result"
        }
      ],
      "source": [
        "input_sequences[1]"
      ]
    },
    {
      "cell_type": "code",
      "execution_count": null,
      "metadata": {
        "id": "cOmhCJc5yyy_"
      },
      "outputs": [],
      "source": [
        "from keras.preprocessing.sequence import pad_sequences\n",
        "\n",
        "max_sequence_len = max([len(x) for x in input_sequences])\n",
        "input_sequences = np.array(pad_sequences(input_sequences, maxlen=max_sequence_len, padding='pre'))"
      ]
    },
    {
      "cell_type": "code",
      "execution_count": null,
      "metadata": {
        "colab": {
          "base_uri": "https://localhost:8080/"
        },
        "id": "TpiKd5IAy-Km",
        "outputId": "6e468df0-dc6b-42bb-e011-5e640613a167"
      },
      "outputs": [
        {
          "data": {
            "text/plain": [
              "array([ 0,  0,  0,  0,  0,  0,  6, 13], dtype=int32)"
            ]
          },
          "execution_count": 35,
          "metadata": {},
          "output_type": "execute_result"
        }
      ],
      "source": [
        "input_sequences[0]"
      ]
    },
    {
      "cell_type": "code",
      "execution_count": null,
      "metadata": {
        "id": "tHCNFk74zH-y"
      },
      "outputs": [],
      "source": [
        "import keras.utils as ku\n",
        "\n",
        "predictors, label = input_sequences[:,:-1],input_sequences[:,-1]\n",
        "label = tf.keras.utils.to_categorical(label, num_classes=total_words)"
      ]
    },
    {
      "cell_type": "code",
      "execution_count": null,
      "metadata": {
        "id": "JWyJhap8zsBm"
      },
      "outputs": [],
      "source": [
        "predictors, label = input_sequences[:,:-1],input_sequences[:,-1]"
      ]
    },
    {
      "cell_type": "code",
      "execution_count": null,
      "metadata": {
        "colab": {
          "base_uri": "https://localhost:8080/"
        },
        "id": "98sXTgJk0mvZ",
        "outputId": "072f2f36-3a30-45b6-a6d9-f367421d521a"
      },
      "outputs": [
        {
          "data": {
            "text/plain": [
              "(48, 7)"
            ]
          },
          "execution_count": 47,
          "metadata": {},
          "output_type": "execute_result"
        }
      ],
      "source": [
        "predictors.shape"
      ]
    },
    {
      "cell_type": "code",
      "execution_count": null,
      "metadata": {
        "colab": {
          "base_uri": "https://localhost:8080/"
        },
        "id": "omT4609Mzs2g",
        "outputId": "4a73691f-5ccc-4b20-b854-0e5ca28d8317"
      },
      "outputs": [
        {
          "data": {
            "text/plain": [
              "array([0, 0, 0, 0, 0, 0, 6], dtype=int32)"
            ]
          },
          "execution_count": 41,
          "metadata": {},
          "output_type": "execute_result"
        }
      ],
      "source": [
        "predictors[0]"
      ]
    },
    {
      "cell_type": "code",
      "execution_count": null,
      "metadata": {
        "colab": {
          "base_uri": "https://localhost:8080/"
        },
        "id": "e0qmU1AjzuYr",
        "outputId": "30d6dcef-8f7f-4778-8981-460269d9ba65"
      },
      "outputs": [
        {
          "data": {
            "text/plain": [
              "13"
            ]
          },
          "execution_count": 42,
          "metadata": {},
          "output_type": "execute_result"
        }
      ],
      "source": [
        "label[0]"
      ]
    },
    {
      "cell_type": "code",
      "execution_count": null,
      "metadata": {
        "id": "Vpiwjxf4zhux"
      },
      "outputs": [],
      "source": [
        "label = tf.keras.utils.to_categorical(label, num_classes=total_words)"
      ]
    },
    {
      "cell_type": "code",
      "execution_count": null,
      "metadata": {
        "colab": {
          "base_uri": "https://localhost:8080/"
        },
        "id": "Ml62d1_Mzlo5",
        "outputId": "ed5819b8-29dd-47ae-c890-d87eed94bb65"
      },
      "outputs": [
        {
          "data": {
            "text/plain": [
              "array([0., 0., 0., 0., 0., 0., 0., 0., 0., 0., 0., 0., 0., 1., 0., 0., 0.,\n",
              "       0., 0., 0., 0., 0., 0., 0., 0., 0., 0., 0., 0., 0., 0., 0., 0., 0.,\n",
              "       0., 0., 0., 0., 0., 0., 0., 0., 0.], dtype=float32)"
            ]
          },
          "execution_count": 44,
          "metadata": {},
          "output_type": "execute_result"
        }
      ],
      "source": [
        "label[0]"
      ]
    },
    {
      "cell_type": "code",
      "execution_count": null,
      "metadata": {
        "colab": {
          "base_uri": "https://localhost:8080/"
        },
        "id": "xwTIscQCLzI3",
        "outputId": "0f38095e-aac4-48ba-c24d-751b92ee627d"
      },
      "outputs": [
        {
          "data": {
            "text/plain": [
              "[[],\n",
              " [],\n",
              " [],\n",
              " [],\n",
              " [],\n",
              " [18],\n",
              " [],\n",
              " [],\n",
              " [18],\n",
              " [],\n",
              " [],\n",
              " [],\n",
              " [],\n",
              " [],\n",
              " [],\n",
              " [],\n",
              " [],\n",
              " [],\n",
              " [],\n",
              " [],\n",
              " [],\n",
              " [],\n",
              " []]"
            ]
          },
          "execution_count": 117,
          "metadata": {},
          "output_type": "execute_result"
        }
      ],
      "source": [
        "tokenizer.texts_to_sequences(corpus[0])"
      ]
    },
    {
      "cell_type": "code",
      "execution_count": null,
      "metadata": {
        "id": "s7OuV_jlKxoK"
      },
      "outputs": [],
      "source": [
        "from keras.preprocessing.sequence import pad_sequences\n",
        "from keras.layers import Embedding, LSTM, Dense, Dropout\n",
        "from keras.preprocessing.text import Tokenizer\n",
        "from keras.callbacks import EarlyStopping\n",
        "from keras.models import Sequential\n",
        "import keras.utils as ku \n",
        "import numpy as np \n",
        "\n",
        "tokenizer = Tokenizer()\n",
        "\n",
        "def dataset_preparation(data):\n",
        "\n",
        "        # basic cleanup\n",
        "        corpus = data.lower().split(\"\\n\")\n",
        "\n",
        "        # tokenization  \n",
        "        tokenizer.fit_on_texts(corpus)\n",
        "        total_words = len(tokenizer.word_index) + 1\n",
        "\n",
        "        # create input sequences using list of tokens\n",
        "        input_sequences = []\n",
        "        for line in corpus:\n",
        "                token_list = tokenizer.texts_to_sequences([line])[0]\n",
        "                for i in range(1, len(token_list)):\n",
        "                        n_gram_sequence = token_list[:i+1]\n",
        "                        input_sequences.append(n_gram_sequence)\n",
        "\n",
        "        # pad sequences \n",
        "        max_sequence_len = max([len(x) for x in input_sequences])\n",
        "        input_sequences = np.array(pad_sequences(input_sequences, maxlen=max_sequence_len, padding='pre'))\n",
        "\n",
        "        # create predictors and label\n",
        "        predictors, label = input_sequences[:,:-1],input_sequences[:,-1]\n",
        "        label = ku.to_categorical(label, num_classes=total_words)\n",
        "\n",
        "        return predictors, label, max_sequence_len, total_words\n",
        "\n",
        "def create_model(predictors, label, max_sequence_len, total_words):\n",
        "        \n",
        "        model = Sequential()\n",
        "        model.add(Embedding(total_words, 10, input_length=max_sequence_len-1))\n",
        "        model.add(LSTM(150, return_sequences = True))\n",
        "        # model.add(Dropout(0.2))\n",
        "        model.add(LSTM(100))\n",
        "        model.add(Dense(total_words, activation='softmax'))\n",
        "\n",
        "        model.compile(loss='categorical_crossentropy', optimizer='adam', metrics=['accuracy'])\n",
        "        earlystop = EarlyStopping(monitor='val_loss', min_delta=0, patience=5, verbose=0, mode='auto')\n",
        "        model.fit(predictors, label, epochs=100, verbose=1, callbacks=[earlystop])\n",
        "        print model.summary()\n",
        "        return model \n",
        "\n",
        "def generate_text(seed_text, next_words, max_sequence_len):\n",
        "        for _ in range(next_words):\n",
        "                token_list = tokenizer.texts_to_sequences([seed_text])[0]\n",
        "                token_list = pad_sequences([token_list], maxlen=max_sequence_len-1, padding='pre')\n",
        "                predicted = model.predict_classes(token_list, verbose=0)\n",
        "                \n",
        "                output_word = \"\"\n",
        "                for word, index in tokenizer.word_index.items():\n",
        "                        if index == predicted:\n",
        "                                output_word = word\n",
        "                                break\n",
        "                seed_text += \" \" + output_word\n",
        "        return seed_text\n",
        "\n",
        "\n",
        "\n",
        "data = open('data.txt').read()\n",
        "\n",
        "predictors, label, max_sequence_len, total_words = dataset_preparation(data)\n",
        "model = create_model(predictors, label, max_sequence_len, total_words)\n",
        "print generate_text(\"we naughty\", 3, max_sequence_len)"
      ]
    },
    {
      "cell_type": "markdown",
      "metadata": {
        "id": "t8zaaAR4k1YC"
      },
      "source": [
        "Study"
      ]
    },
    {
      "cell_type": "code",
      "execution_count": null,
      "metadata": {
        "colab": {
          "base_uri": "https://localhost:8080/",
          "height": 35
        },
        "id": "Z7S26yKGcwhr",
        "outputId": "621c5cf7-91c0-4306-c07b-43dce09fe0ab"
      },
      "outputs": [
        {
          "data": {
            "application/vnd.google.colaboratory.intrinsic+json": {
              "type": "string"
            },
            "text/plain": [
              "'/content/drive/MyDrive/Colab Notebooks/Schumann/varsif01.mid'"
            ]
          },
          "execution_count": 7,
          "metadata": {},
          "output_type": "execute_result"
        }
      ],
      "source": [
        "midi_files[1]"
      ]
    },
    {
      "cell_type": "code",
      "execution_count": null,
      "metadata": {
        "id": "APhyLLR6OApM"
      },
      "outputs": [],
      "source": [
        "pretty_file = pretty_midi.PrettyMIDI(midi_files[0])"
      ]
    },
    {
      "cell_type": "code",
      "execution_count": null,
      "metadata": {
        "id": "E2uiRcWUDB2k"
      },
      "outputs": [],
      "source": [
        "piano_roll = pretty_file.get_piano_roll()"
      ]
    },
    {
      "cell_type": "code",
      "execution_count": null,
      "metadata": {
        "id": "tsHW583-81x4"
      },
      "outputs": [],
      "source": [
        "piano_channel = pretty_file.instruments[0]"
      ]
    },
    {
      "cell_type": "code",
      "execution_count": null,
      "metadata": {
        "colab": {
          "base_uri": "https://localhost:8080/"
        },
        "id": "vX7zD5DR9USV",
        "outputId": "d362178c-1c7d-4f23-f09a-7dc6d380ab50"
      },
      "outputs": [
        {
          "name": "stdout",
          "output_type": "stream",
          "text": [
            "[Note(start=1.105988, end=2.282458, pitch=73, velocity=46), Note(start=2.282458, end=3.458928, pitch=68, velocity=49), Note(start=3.458928, end=4.635398, pitch=64, velocity=52), Note(start=4.635398, end=5.658125, pitch=61, velocity=54), Note(start=5.958584, end=7.809522, pitch=69, velocity=59), Note(start=7.795317, end=8.136226, pitch=68, velocity=55), Note(start=8.449942, end=9.813578, pitch=68, velocity=54), Note(start=9.813578, end=10.935602, pitch=68, velocity=52), Note(start=11.239849, end=12.464338, pitch=66, velocity=51), Note(start=12.464338, end=13.435082, pitch=68, velocity=49), Note(start=13.728247, end=14.698991, pitch=64, velocity=47), Note(start=14.992156, end=15.992156, pitch=66, velocity=45), Note(start=16.311690, end=17.645023, pitch=63, velocity=44), Note(start=17.645023, end=18.668833, pitch=58, velocity=42), Note(start=19.038507, end=21.438507, pitch=63, velocity=35), Note(start=22.207737, end=23.384207, pitch=73, velocity=47), Note(start=23.384207, end=24.560677, pitch=68, velocity=52), Note(start=24.560677, end=25.737147, pitch=64, velocity=56), Note(start=25.737147, end=26.949631, pitch=61, velocity=61), Note(start=26.949631, end=28.174120, pitch=69, velocity=66), Note(start=28.174120, end=28.792878, pitch=73, velocity=69), Note(start=28.792878, end=29.472882, pitch=76, velocity=70), Note(start=29.472882, end=30.924495, pitch=81, velocity=71), Note(start=31.408365, end=32.632854, pitch=81, velocity=66), Note(start=32.632854, end=33.809324, pitch=80, velocity=63), Note(start=33.809324, end=34.691677, pitch=78, velocity=60), Note(start=34.691677, end=35.580032, pitch=76, velocity=57), Note(start=35.580032, end=36.168267, pitch=75, velocity=55), Note(start=36.168267, end=36.756502, pitch=73, velocity=53), Note(start=36.756502, end=37.089835, pitch=71, velocity=53), Note(start=37.405028, end=39.769372, pitch=78, velocity=58), Note(start=39.769372, end=40.302705, pitch=76, velocity=43), Note(start=40.436039, end=41.724454, pitch=68, velocity=47), Note(start=41.724454, end=42.421349, pitch=68, velocity=49), Note(start=42.597820, end=43.186055, pitch=68, velocity=50), Note(start=43.186055, end=43.779692, pitch=72, velocity=52), Note(start=43.779692, end=44.391336, pitch=75, velocity=55), Note(start=44.391336, end=44.979571, pitch=73, velocity=54), Note(start=44.979571, end=45.579811, pitch=72, velocity=52), Note(start=45.579811, end=46.168046, pitch=69, velocity=51), Note(start=46.168046, end=46.756281, pitch=68, velocity=50), Note(start=46.756281, end=47.392492, pitch=66, velocity=48), Note(start=47.392492, end=47.980727, pitch=66, velocity=49), Note(start=47.980727, end=48.568962, pitch=64, velocity=47), Note(start=48.568962, end=49.157197, pitch=63, velocity=46), Note(start=49.157197, end=49.762439, pitch=64, velocity=44), Note(start=49.762439, end=50.929105, pitch=61, velocity=43), Note(start=51.095772, end=51.690009, pitch=61, velocity=42), Note(start=51.690009, end=52.284247, pitch=61, velocity=43), Note(start=52.284247, end=53.466719, pitch=61, velocity=45), Note(start=53.466719, end=54.054954, pitch=63, velocity=49), Note(start=54.054954, end=54.649191, pitch=61, velocity=50), Note(start=54.649191, end=55.825661, pitch=60, velocity=52), Note(start=55.825661, end=57.008134, pitch=61, velocity=56), Note(start=57.008134, end=59.384483, pitch=64, velocity=61), Note(start=59.384483, end=60.315876, pitch=63, velocity=41), Note(start=62.045520, end=63.221990, pitch=73, velocity=51), Note(start=63.221990, end=64.398460, pitch=68, velocity=55), Note(start=64.398460, end=65.574930, pitch=64, velocity=58), Note(start=65.574930, end=66.803548, pitch=61, velocity=62), Note(start=66.803548, end=67.803548, pitch=69, velocity=66), Note(start=67.803548, end=68.156489, pitch=81, velocity=72), Note(start=68.244724, end=71.578056, pitch=81, velocity=79), Note(start=72.602362, end=73.784834, pitch=81, velocity=43), Note(start=73.784834, end=74.961304, pitch=80, velocity=46), Note(start=74.961304, end=75.844657, pitch=73, velocity=50), Note(start=75.844657, end=76.150779, pitch=75, velocity=54), Note(start=76.150779, end=77.375268, pitch=76, velocity=57), Note(start=77.375268, end=78.612784, pitch=75, velocity=54), Note(start=78.612784, end=79.917748, pitch=73, velocity=51), Note(start=79.917748, end=80.632033, pitch=71, velocity=46), Note(start=80.632033, end=81.599775, pitch=69, velocity=43), Note(start=81.599775, end=86.213828, pitch=68, velocity=40), Note(start=132.191002, end=132.896884, pitch=63, velocity=64), Note(start=132.191002, end=132.896884, pitch=75, velocity=64), Note(start=132.896884, end=133.602766, pitch=81, velocity=66), Note(start=132.896884, end=133.602766, pitch=69, velocity=66), Note(start=133.602766, end=134.308648, pitch=80, velocity=69), Note(start=133.602766, end=134.308648, pitch=68, velocity=69), Note(start=134.308648, end=135.015581, pitch=66, velocity=71), Note(start=134.308648, end=135.015581, pitch=78, velocity=71), Note(start=135.015581, end=135.721463, pitch=64, velocity=74), Note(start=135.015581, end=135.721463, pitch=76, velocity=74), Note(start=135.721463, end=136.427345, pitch=85, velocity=76), Note(start=135.721463, end=136.427345, pitch=73, velocity=76), Note(start=136.427345, end=136.956756, pitch=83, velocity=79), Note(start=136.427345, end=136.956756, pitch=71, velocity=79), Note(start=137.044991, end=137.133227, pitch=69, velocity=73), Note(start=137.044991, end=137.133227, pitch=81, velocity=73), Note(start=137.133227, end=137.662638, pitch=68, velocity=72), Note(start=137.133227, end=137.662638, pitch=80, velocity=72), Note(start=137.841235, end=138.547117, pitch=67, velocity=68), Note(start=137.841235, end=138.547117, pitch=79, velocity=68), Note(start=138.547117, end=139.252999, pitch=79, velocity=72), Note(start=138.547117, end=139.252999, pitch=91, velocity=72), Note(start=139.252999, end=139.958881, pitch=78, velocity=76), Note(start=139.252999, end=139.958881, pitch=90, velocity=76), Note(start=139.958881, end=140.665813, pitch=76, velocity=80), Note(start=139.958881, end=140.665813, pitch=88, velocity=80), Note(start=140.665813, end=141.380098, pitch=76, velocity=84), Note(start=140.665813, end=141.380098, pitch=88, velocity=84), Note(start=141.380098, end=142.094383, pitch=94, velocity=87), Note(start=141.380098, end=142.094383, pitch=82, velocity=87), Note(start=142.094383, end=142.630097, pitch=93, velocity=91), Note(start=142.094383, end=142.630097, pitch=81, velocity=91), Note(start=142.719383, end=142.808668, pitch=91, velocity=84), Note(start=142.719383, end=142.808668, pitch=79, velocity=84), Note(start=142.808668, end=143.344382, pitch=66, velocity=83), Note(start=142.808668, end=143.344382, pitch=78, velocity=83), Note(start=157.372434, end=157.518065, pitch=75, velocity=40), Note(start=157.518065, end=157.806553, pitch=73, velocity=40), Note(start=157.949410, end=158.092267, pitch=72, velocity=41), Note(start=158.092267, end=158.949409, pitch=73, velocity=41), Note(start=158.949409, end=159.235123, pitch=75, velocity=44), Note(start=159.235123, end=159.520837, pitch=77, velocity=46), Note(start=159.520837, end=159.806551, pitch=78, velocity=47), Note(start=159.806551, end=160.092265, pitch=80, velocity=48), Note(start=160.092265, end=160.377979, pitch=82, velocity=49), Note(start=160.377979, end=160.663693, pitch=83, velocity=50), Note(start=160.663693, end=160.949407, pitch=85, velocity=52), Note(start=160.949407, end=161.806549, pitch=86, velocity=59), Note(start=161.806549, end=162.092263, pitch=87, velocity=49), Note(start=162.092263, end=162.377977, pitch=89, velocity=47), Note(start=162.377977, end=162.574405, pitch=87, velocity=45), Note(start=162.592262, end=162.672024, pitch=87, velocity=44), Note(start=162.663691, end=164.319203, pitch=80, velocity=43), Note(start=171.100576, end=171.246207, pitch=77, velocity=42), Note(start=171.246207, end=171.531921, pitch=75, velocity=42), Note(start=171.674778, end=171.817635, pitch=74, velocity=43), Note(start=171.817635, end=172.656920, pitch=75, velocity=44), Note(start=172.674777, end=172.960491, pitch=77, velocity=47), Note(start=172.960491, end=173.264062, pitch=79, velocity=46), Note(start=173.246205, end=173.531919, pitch=80, velocity=48), Note(start=173.531919, end=173.817633, pitch=82, velocity=50), Note(start=173.817633, end=174.103347, pitch=84, velocity=52), Note(start=174.103347, end=174.389061, pitch=85, velocity=54), Note(start=174.389061, end=174.674775, pitch=87, velocity=56), Note(start=174.674775, end=175.531917, pitch=88, velocity=61), Note(start=175.531917, end=175.817631, pitch=89, velocity=53), Note(start=175.817631, end=176.103345, pitch=91, velocity=51), Note(start=176.103345, end=176.317630, pitch=89, velocity=50), Note(start=176.317630, end=176.389059, pitch=89, velocity=49), Note(start=176.389059, end=178.036075, pitch=82, velocity=48), Note(start=184.980313, end=185.123170, pitch=85, velocity=44), Note(start=185.266027, end=185.408884, pitch=85, velocity=36), Note(start=185.551741, end=185.694598, pitch=85, velocity=36), Note(start=185.837455, end=185.980312, pitch=85, velocity=36), Note(start=186.123169, end=186.266026, pitch=85, velocity=36), Note(start=186.408883, end=186.551740, pitch=85, velocity=36), Note(start=186.694597, end=186.837454, pitch=80, velocity=44), Note(start=186.980311, end=187.123168, pitch=80, velocity=36), Note(start=187.266025, end=187.408882, pitch=80, velocity=37), Note(start=187.551739, end=187.694596, pitch=80, velocity=37), Note(start=187.837453, end=187.980310, pitch=80, velocity=37), Note(start=188.123167, end=188.266024, pitch=80, velocity=37), Note(start=188.408881, end=188.551738, pitch=76, velocity=45), Note(start=188.694595, end=188.837452, pitch=76, velocity=37), Note(start=188.980309, end=189.123166, pitch=76, velocity=37), Note(start=189.266023, end=189.408880, pitch=76, velocity=37), Note(start=189.551737, end=189.694594, pitch=76, velocity=38), Note(start=189.837451, end=189.980308, pitch=76, velocity=38), Note(start=190.123165, end=190.266022, pitch=73, velocity=46), Note(start=190.408879, end=190.551736, pitch=73, velocity=38), Note(start=190.694593, end=190.837450, pitch=73, velocity=38), Note(start=190.980307, end=191.123164, pitch=73, velocity=38), Note(start=191.266021, end=191.408878, pitch=73, velocity=38), Note(start=191.551735, end=191.694592, pitch=73, velocity=38), Note(start=191.840223, end=191.983080, pitch=73, velocity=46), Note(start=192.125937, end=192.268794, pitch=73, velocity=39), Note(start=192.411651, end=192.554508, pitch=73, velocity=41), Note(start=192.697365, end=192.840222, pitch=73, velocity=44), Note(start=192.983079, end=193.125936, pitch=74, velocity=46), Note(start=193.268793, end=193.411650, pitch=74, velocity=42), Note(start=193.554507, end=193.697364, pitch=73, velocity=38), Note(start=193.840221, end=193.983078, pitch=73, velocity=40), Note(start=194.125935, end=194.268792, pitch=73, velocity=43), Note(start=194.411649, end=194.554506, pitch=73, velocity=45), Note(start=194.697363, end=194.840220, pitch=72, velocity=48), Note(start=194.983077, end=195.125934, pitch=72, velocity=43), Note(start=195.268791, end=195.411648, pitch=73, velocity=40), Note(start=195.554505, end=195.697362, pitch=73, velocity=42), Note(start=195.840219, end=195.983076, pitch=73, velocity=44), Note(start=196.125933, end=196.268790, pitch=73, velocity=47), Note(start=196.411647, end=196.554504, pitch=74, velocity=49), Note(start=196.697361, end=196.840218, pitch=74, velocity=44), Note(start=196.983075, end=197.125932, pitch=73, velocity=41), Note(start=197.268789, end=197.411646, pitch=73, velocity=41), Note(start=197.554503, end=197.697360, pitch=73, velocity=42), Note(start=197.840217, end=197.983074, pitch=73, velocity=45), Note(start=198.125931, end=198.268788, pitch=73, velocity=48), Note(start=198.411645, end=198.554502, pitch=73, velocity=52), Note(start=198.700133, end=199.557275, pitch=75, velocity=62), Note(start=200.414417, end=201.271559, pitch=66, velocity=64), Note(start=202.128701, end=202.985843, pitch=63, velocity=66), Note(start=203.842985, end=204.700127, pitch=59, velocity=69), Note(start=205.560043, end=206.702899, pitch=64, velocity=46), Note(start=206.702899, end=207.274327, pitch=66, velocity=52), Note(start=207.274327, end=208.417183, pitch=64, velocity=45), Note(start=208.417183, end=208.988611, pitch=66, velocity=52), Note(start=208.988611, end=210.131467, pitch=64, velocity=46), Note(start=211.560037, end=211.702894, pitch=61, velocity=58), Note(start=211.702894, end=211.845751, pitch=64, velocity=59), Note(start=211.845751, end=211.988608, pitch=68, velocity=60), Note(start=211.988608, end=212.131465, pitch=76, velocity=61), Note(start=212.131465, end=212.277096, pitch=75, velocity=62), Note(start=212.277096, end=212.349911, pitch=73, velocity=63), Note(start=212.349911, end=212.436118, pitch=73, velocity=64), Note(start=212.436118, end=212.721832, pitch=72, velocity=68), Note(start=212.864689, end=213.007546, pitch=71, velocity=54), Note(start=213.007546, end=213.864688, pitch=72, velocity=54), Note(start=213.864688, end=214.150402, pitch=73, velocity=59), Note(start=214.150402, end=214.436116, pitch=75, velocity=60), Note(start=214.436116, end=214.721830, pitch=76, velocity=62), Note(start=214.721830, end=215.007544, pitch=78, velocity=63), Note(start=215.007544, end=215.212306, pitch=80, velocity=64), Note(start=215.198020, end=215.245639, pitch=78, velocity=65), Note(start=215.245639, end=215.293258, pitch=80, velocity=66), Note(start=215.293258, end=215.578972, pitch=81, velocity=68), Note(start=215.578972, end=215.864686, pitch=80, velocity=67), Note(start=215.864686, end=216.721828, pitch=78, velocity=69), Note(start=216.721828, end=217.007542, pitch=76, velocity=64), Note(start=217.007542, end=217.293256, pitch=75, velocity=63), Note(start=217.293256, end=217.507542, pitch=73, velocity=61), Note(start=217.507542, end=217.578970, pitch=72, velocity=60), Note(start=217.578970, end=218.007541, pitch=75, velocity=59), Note(start=226.158712, end=227.872996, pitch=73, velocity=62), Note(start=226.158712, end=227.872996, pitch=85, velocity=62), Note(start=227.872996, end=229.444423, pitch=75, velocity=66), Note(start=227.872996, end=229.444423, pitch=87, velocity=66), Note(start=229.444423, end=229.587280, pitch=75, velocity=71), Note(start=229.444423, end=229.587280, pitch=87, velocity=71), Note(start=229.587280, end=231.301564, pitch=92, velocity=81), Note(start=229.587280, end=231.301564, pitch=80, velocity=81), Note(start=239.811512, end=239.905900, pitch=70, velocity=62), Note(start=239.888043, end=240.173757, pitch=68, velocity=58), Note(start=240.316614, end=240.459471, pitch=67, velocity=59), Note(start=240.459471, end=241.316613, pitch=68, velocity=60), Note(start=241.316613, end=241.602327, pitch=70, velocity=64), Note(start=241.602327, end=241.888041, pitch=72, velocity=62), Note(start=241.888041, end=242.173755, pitch=73, velocity=64), Note(start=242.173755, end=242.459469, pitch=75, velocity=66), Note(start=242.459469, end=242.745183, pitch=77, velocity=68), Note(start=242.745183, end=243.030897, pitch=78, velocity=70), Note(start=243.030897, end=243.316611, pitch=80, velocity=72), Note(start=243.316611, end=244.173753, pitch=81, velocity=76), Note(start=244.173753, end=244.459467, pitch=82, velocity=67), Note(start=244.459467, end=244.745181, pitch=84, velocity=65), Note(start=244.745181, end=244.888038, pitch=82, velocity=63), Note(start=244.888038, end=244.935657, pitch=82, velocity=58), Note(start=244.935657, end=244.983276, pitch=75, velocity=61), Note(start=244.983276, end=245.030895, pitch=70, velocity=63), Note(start=245.030895, end=245.745180, pitch=63, velocity=66), Note(start=246.602322, end=246.747953, pitch=75, velocity=60), Note(start=246.747953, end=247.033667, pitch=73, velocity=60), Note(start=247.176524, end=247.319381, pitch=72, velocity=62), Note(start=247.890809, end=248.176523, pitch=61, velocity=64), Note(start=247.319381, end=248.176523, pitch=73, velocity=62), Note(start=248.176523, end=248.462237, pitch=63, velocity=65), Note(start=248.176523, end=248.462237, pitch=75, velocity=65), Note(start=248.462237, end=248.747951, pitch=65, velocity=66), Note(start=248.462237, end=248.747951, pitch=77, velocity=66), Note(start=248.747951, end=249.033665, pitch=66, velocity=68), Note(start=248.747951, end=249.033665, pitch=78, velocity=68), Note(start=249.033665, end=249.319379, pitch=68, velocity=70), Note(start=249.033665, end=249.319379, pitch=80, velocity=70), Note(start=249.319379, end=249.605093, pitch=70, velocity=71), Note(start=249.319379, end=249.605093, pitch=82, velocity=71), Note(start=249.605093, end=249.890807, pitch=71, velocity=73), Note(start=249.605093, end=249.890807, pitch=83, velocity=73), Note(start=249.890807, end=250.176521, pitch=85, velocity=74), Note(start=249.890807, end=250.176521, pitch=73, velocity=74), Note(start=250.176521, end=251.014615, pitch=74, velocity=76), Note(start=250.176521, end=251.014615, pitch=86, velocity=76), Note(start=251.033663, end=251.319377, pitch=75, velocity=68), Note(start=251.033663, end=251.319377, pitch=87, velocity=68), Note(start=251.319377, end=251.605091, pitch=77, velocity=67), Note(start=251.319377, end=251.605091, pitch=89, velocity=67), Note(start=251.605091, end=251.747948, pitch=87, velocity=65), Note(start=251.605091, end=251.747948, pitch=75, velocity=65), Note(start=251.747948, end=251.795567, pitch=87, velocity=62), Note(start=251.795567, end=251.843186, pitch=80, velocity=65), Note(start=251.843186, end=251.890805, pitch=75, velocity=67), Note(start=251.890805, end=253.484076, pitch=68, velocity=70), Note(start=253.535047, end=253.607863, pitch=70, velocity=74), Note(start=253.535047, end=253.607863, pitch=82, velocity=74), Note(start=253.607863, end=254.765004, pitch=85, velocity=80), Note(start=253.607863, end=254.765004, pitch=73, velocity=80), Note(start=255.250718, end=255.322147, pitch=66, velocity=72), Note(start=255.250718, end=255.322147, pitch=78, velocity=72), Note(start=255.322147, end=256.750717, pitch=82, velocity=78), Note(start=255.322147, end=256.750717, pitch=70, velocity=78), Note(start=256.965002, end=257.036431, pitch=73, velocity=72), Note(start=256.965002, end=257.036431, pitch=61, velocity=72), Note(start=257.036431, end=258.488810, pitch=66, velocity=80), Note(start=257.036431, end=258.488810, pitch=78, velocity=80), Note(start=258.679286, end=258.750715, pitch=75, velocity=70), Note(start=258.679286, end=258.750715, pitch=63, velocity=70), Note(start=258.750715, end=260.161428, pitch=66, velocity=78), Note(start=258.750715, end=260.161428, pitch=78, velocity=78), Note(start=260.394957, end=260.467773, pitch=65, velocity=66), Note(start=260.394957, end=260.467773, pitch=77, velocity=66), Note(start=260.467773, end=261.890390, pitch=68, velocity=74), Note(start=260.467773, end=261.890390, pitch=80, velocity=74), Note(start=262.110628, end=262.182057, pitch=61, velocity=62), Note(start=262.110628, end=262.182057, pitch=73, velocity=62), Note(start=262.182057, end=263.604674, pitch=65, velocity=71), Note(start=262.182057, end=263.604674, pitch=77, velocity=71), Note(start=263.824912, end=263.896341, pitch=56, velocity=60), Note(start=263.824912, end=263.896341, pitch=68, velocity=60), Note(start=263.896341, end=265.342768, pitch=61, velocity=67), Note(start=263.896341, end=265.342768, pitch=73, velocity=67), Note(start=265.539196, end=265.610625, pitch=53, velocity=57), Note(start=265.539196, end=265.610625, pitch=65, velocity=57), Note(start=265.610625, end=266.467767, pitch=56, velocity=61), Note(start=265.610625, end=267.057052, pitch=68, velocity=61), Note(start=267.327683, end=272.713627, pitch=53, velocity=58), Note(start=267.327683, end=272.713627, pitch=65, velocity=58), Note(start=279.281131, end=279.850096, pitch=73, velocity=70), Note(start=279.850096, end=279.901820, pitch=72, velocity=56), Note(start=279.901820, end=280.470786, pitch=73, velocity=70), Note(start=280.470786, end=280.522510, pitch=75, velocity=57), Note(start=280.522510, end=281.091475, pitch=76, velocity=70), Note(start=281.091475, end=281.143199, pitch=75, velocity=58), Note(start=281.143199, end=281.712524, pitch=76, velocity=72), Note(start=281.712524, end=281.764607, pitch=78, velocity=60), Note(start=281.764607, end=282.385297, pitch=80, velocity=74), Note(start=282.385297, end=282.592193, pitch=72, velocity=66), Note(start=282.902538, end=283.005986, pitch=80, velocity=62), Note(start=283.005986, end=283.574951, pitch=85, velocity=77), Note(start=283.574951, end=283.626676, pitch=83, velocity=64), Note(start=283.626676, end=284.196000, pitch=81, velocity=76), Note(start=284.196000, end=284.248083, pitch=80, velocity=65), Note(start=284.248083, end=284.868773, pitch=80, velocity=79), Note(start=284.868773, end=285.489462, pitch=67, velocity=74), Note(start=284.868773, end=285.489462, pitch=79, velocity=74), Note(start=285.489462, end=285.903255, pitch=68, velocity=74), Note(start=285.489462, end=285.903255, pitch=80, velocity=74), Note(start=286.110152, end=286.735254, pitch=60, velocity=72), Note(start=286.110152, end=286.735254, pitch=72, velocity=72), Note(start=286.735254, end=287.304219, pitch=73, velocity=93), Note(start=286.735254, end=287.304219, pitch=61, velocity=93), Note(start=287.304219, end=287.355944, pitch=84, velocity=81), Note(start=287.304219, end=287.355944, pitch=72, velocity=81), Note(start=287.355944, end=287.924909, pitch=73, velocity=94), Note(start=287.355944, end=287.924909, pitch=85, velocity=94), Note(start=287.924909, end=287.976633, pitch=87, velocity=82), Note(start=287.924909, end=287.976633, pitch=75, velocity=82), Note(start=287.976633, end=288.545598, pitch=88, velocity=97), Note(start=287.976633, end=288.545598, pitch=76, velocity=97), Note(start=288.545598, end=288.597323, pitch=87, velocity=84), Note(start=288.545598, end=288.597323, pitch=75, velocity=84), Note(start=288.597323, end=289.166647, pitch=76, velocity=98), Note(start=288.597323, end=289.166647, pitch=88, velocity=98), Note(start=289.166647, end=289.218730, pitch=90, velocity=85), Note(start=289.166647, end=289.218730, pitch=78, velocity=85), Note(start=289.218730, end=289.425627, pitch=91, velocity=100), Note(start=289.218730, end=289.425627, pitch=79, velocity=100), Note(start=291.080799, end=291.702207, pitch=69, velocity=103), Note(start=291.080799, end=291.702207, pitch=81, velocity=103), Note(start=291.702207, end=292.322896, pitch=68, velocity=102), Note(start=291.702207, end=292.322896, pitch=80, velocity=102), Note(start=292.322896, end=292.684965, pitch=66, velocity=100), Note(start=292.322896, end=292.684965, pitch=78, velocity=100), Note(start=292.684965, end=292.736689, pitch=76, velocity=94), Note(start=292.684965, end=292.736689, pitch=64, velocity=94), Note(start=292.736689, end=293.357379, pitch=76, velocity=98), Note(start=292.736689, end=293.357379, pitch=64, velocity=98), Note(start=293.357379, end=293.978068, pitch=75, velocity=96), Note(start=293.357379, end=293.978068, pitch=63, velocity=96), Note(start=293.978068, end=294.599476, pitch=74, velocity=94), Note(start=293.978068, end=294.599476, pitch=62, velocity=94), Note(start=294.599476, end=295.220165, pitch=73, velocity=91), Note(start=294.599476, end=295.220165, pitch=61, velocity=91), Note(start=295.220165, end=295.427062, pitch=72, velocity=89), Note(start=295.220165, end=295.427062, pitch=60, velocity=89), Note(start=302.466674, end=302.777019, pitch=80, velocity=56), Note(start=302.466674, end=302.777019, pitch=68, velocity=56), Note(start=302.777019, end=302.880467, pitch=80, velocity=68), Note(start=302.777019, end=302.880467, pitch=92, velocity=68), Note(start=302.880467, end=303.294260, pitch=80, velocity=76), Note(start=302.880467, end=303.294260, pitch=92, velocity=76), Note(start=303.294260, end=303.501156, pitch=81, velocity=63), Note(start=303.294260, end=303.501156, pitch=69, velocity=63), Note(start=303.708053, end=304.018398, pitch=68, velocity=66), Note(start=303.708053, end=304.018398, pitch=80, velocity=66), Note(start=304.018398, end=304.121846, pitch=88, velocity=79), Note(start=304.018398, end=304.121846, pitch=76, velocity=79), Note(start=304.121846, end=304.535639, pitch=88, velocity=86), Note(start=304.121846, end=304.535639, pitch=76, velocity=86), Note(start=304.535639, end=304.742535, pitch=80, velocity=72), Note(start=304.535639, end=304.742535, pitch=68, velocity=72), Note(start=304.949432, end=305.259777, pitch=79, velocity=75), Note(start=304.949432, end=305.259777, pitch=67, velocity=75), Note(start=305.259777, end=305.363225, pitch=88, velocity=87), Note(start=305.259777, end=305.363225, pitch=76, velocity=87), Note(start=305.363225, end=305.777018, pitch=88, velocity=94), Note(start=305.363225, end=305.777018, pitch=76, velocity=94), Note(start=305.777018, end=305.983914, pitch=79, velocity=81), Note(start=305.777018, end=305.983914, pitch=67, velocity=81), Note(start=305.983914, end=306.397707, pitch=66, velocity=98), Note(start=305.983914, end=306.397707, pitch=78, velocity=98), Note(start=306.397707, end=306.566159, pitch=78, velocity=92), Note(start=306.397707, end=306.566159, pitch=66, velocity=92), Note(start=306.609017, end=307.177982, pitch=73, velocity=104), Note(start=307.177982, end=307.229706, pitch=72, velocity=92), Note(start=307.177982, end=307.229706, pitch=60, velocity=92), Note(start=306.609017, end=307.229706, pitch=61, velocity=104), Note(start=307.229706, end=307.798671, pitch=73, velocity=106), Note(start=307.229706, end=307.798671, pitch=61, velocity=106), Note(start=307.798671, end=307.850396, pitch=63, velocity=97), Note(start=307.798671, end=307.850396, pitch=75, velocity=97), Note(start=307.850396, end=308.419361, pitch=76, velocity=111), Note(start=307.850396, end=308.419361, pitch=64, velocity=111), Note(start=308.419361, end=308.471085, pitch=63, velocity=102), Note(start=308.419361, end=308.471085, pitch=75, velocity=102), Note(start=308.471085, end=309.040410, pitch=76, velocity=114), Note(start=308.471085, end=309.040410, pitch=64, velocity=114), Note(start=309.040410, end=309.092493, pitch=66, velocity=106), Note(start=309.040410, end=309.092493, pitch=78, velocity=106), Note(start=309.092493, end=309.258010, pitch=67, velocity=120), Note(start=309.092493, end=309.258010, pitch=79, velocity=120), Note(start=309.713182, end=309.878699, pitch=66, velocity=120), Note(start=309.713182, end=309.878699, pitch=78, velocity=120), Note(start=310.333872, end=310.499389, pitch=77, velocity=121), Note(start=310.333872, end=310.499389, pitch=65, velocity=121), Note(start=310.954561, end=311.120078, pitch=77, velocity=118), Note(start=310.954561, end=311.120078, pitch=65, velocity=118), Note(start=311.575969, end=311.741486, pitch=66, velocity=119), Note(start=311.575969, end=311.741486, pitch=78, velocity=119), Note(start=312.093210, end=312.175969, pitch=66, velocity=106), Note(start=312.093210, end=312.175969, pitch=78, velocity=106), Note(start=312.196659, end=312.362176, pitch=64, velocity=118), Note(start=312.196659, end=312.362176, pitch=76, velocity=118), Note(start=312.713900, end=312.796658, pitch=63, velocity=105), Note(start=312.713900, end=312.796658, pitch=73, velocity=105), Note(start=312.817348, end=312.982865, pitch=64, velocity=116), Note(start=312.817348, end=312.982865, pitch=76, velocity=116), Note(start=313.438038, end=313.603555, pitch=63, velocity=118), Note(start=313.438038, end=313.603555, pitch=75, velocity=118), Note(start=313.955279, end=314.038612, pitch=61, velocity=104), Note(start=313.955279, end=314.038612, pitch=73, velocity=104), Note(start=314.059445, end=314.267778, pitch=61, velocity=115), Note(start=314.059445, end=314.684444, pitch=73, velocity=115), Note(start=315.309443, end=316.105871, pitch=61, velocity=100), Note(start=322.357059, end=322.667404, pitch=68, velocity=56), Note(start=322.357059, end=322.667404, pitch=80, velocity=56), Note(start=322.667404, end=322.770852, pitch=92, velocity=68), Note(start=322.667404, end=322.770852, pitch=80, velocity=68), Note(start=322.770852, end=323.184645, pitch=92, velocity=76), Note(start=322.770852, end=323.184645, pitch=80, velocity=76), Note(start=323.184645, end=323.391542, pitch=69, velocity=63), Note(start=323.184645, end=323.391542, pitch=81, velocity=63), Note(start=323.598438, end=323.908783, pitch=80, velocity=66), Note(start=323.598438, end=323.908783, pitch=68, velocity=66), Note(start=323.908783, end=324.012231, pitch=76, velocity=79), Note(start=323.908783, end=324.012231, pitch=88, velocity=79), Note(start=324.012231, end=324.426024, pitch=76, velocity=86), Note(start=324.012231, end=324.426024, pitch=88, velocity=86), Note(start=324.426024, end=324.632921, pitch=68, velocity=72), Note(start=324.426024, end=324.632921, pitch=80, velocity=72), Note(start=324.839817, end=325.150162, pitch=67, velocity=75), Note(start=324.839817, end=325.150162, pitch=79, velocity=75), Note(start=325.150162, end=325.253610, pitch=76, velocity=87), Note(start=325.150162, end=325.253610, pitch=88, velocity=87), Note(start=325.253610, end=325.667403, pitch=76, velocity=94), Note(start=325.253610, end=325.667403, pitch=88, velocity=94), Note(start=325.667403, end=325.874300, pitch=67, velocity=81), Note(start=325.667403, end=325.874300, pitch=79, velocity=81), Note(start=325.874300, end=326.288093, pitch=78, velocity=98), Note(start=325.874300, end=326.288093, pitch=66, velocity=98), Note(start=326.288093, end=326.456545, pitch=66, velocity=92), Note(start=326.288093, end=326.456545, pitch=78, velocity=92), Note(start=326.499402, end=327.068367, pitch=73, velocity=104), Note(start=327.068367, end=327.120092, pitch=60, velocity=92), Note(start=327.068367, end=327.120092, pitch=72, velocity=92), Note(start=326.499402, end=327.120092, pitch=61, velocity=104), Note(start=327.120092, end=327.689057, pitch=61, velocity=106), Note(start=327.120092, end=327.689057, pitch=73, velocity=106), Note(start=327.689057, end=327.740781, pitch=75, velocity=97), Note(start=327.689057, end=327.740781, pitch=63, velocity=97), Note(start=327.740781, end=328.309746, pitch=64, velocity=111), Note(start=327.740781, end=328.309746, pitch=76, velocity=111), Note(start=328.309746, end=328.361471, pitch=75, velocity=102), Note(start=328.309746, end=328.361471, pitch=63, velocity=102), Note(start=328.361471, end=328.930795, pitch=64, velocity=114), Note(start=328.361471, end=328.930795, pitch=76, velocity=114), Note(start=328.930795, end=328.982878, pitch=78, velocity=106), Note(start=328.930795, end=328.982878, pitch=66, velocity=106), Note(start=328.982878, end=329.148395, pitch=79, velocity=120), Note(start=328.982878, end=329.148395, pitch=67, velocity=120), Note(start=329.603568, end=329.769085, pitch=78, velocity=120), Note(start=329.603568, end=329.769085, pitch=66, velocity=120), Note(start=330.224257, end=330.389774, pitch=65, velocity=121), Note(start=330.224257, end=330.389774, pitch=77, velocity=121), Note(start=330.844947, end=331.010464, pitch=65, velocity=118), Note(start=330.844947, end=331.010464, pitch=77, velocity=118), Note(start=331.466355, end=331.631872, pitch=78, velocity=119), Note(start=331.466355, end=331.631872, pitch=66, velocity=119), Note(start=331.983596, end=332.066354, pitch=78, velocity=106), Note(start=331.983596, end=332.066354, pitch=66, velocity=106), Note(start=332.087044, end=332.252561, pitch=76, velocity=118), Note(start=332.087044, end=332.252561, pitch=64, velocity=118), Note(start=332.604285, end=332.687044, pitch=73, velocity=105), Note(start=332.604285, end=332.687044, pitch=63, velocity=105), Note(start=332.707734, end=332.873251, pitch=76, velocity=116), Note(start=332.707734, end=332.873251, pitch=64, velocity=116), Note(start=333.328423, end=333.493940, pitch=75, velocity=118), Note(start=333.328423, end=333.493940, pitch=63, velocity=118), Note(start=333.845664, end=333.928997, pitch=73, velocity=104), Note(start=333.845664, end=333.928997, pitch=61, velocity=104), Note(start=333.949831, end=334.158164, pitch=61, velocity=115), Note(start=333.949831, end=334.574830, pitch=73, velocity=115), Note(start=335.200557, end=336.481080, pitch=61, velocity=100), Note(start=342.501860, end=344.458976, pitch=85, velocity=59), Note(start=344.458976, end=346.425603, pitch=80, velocity=55), Note(start=346.416092, end=346.905222, pitch=78, velocity=53), Note(start=346.905222, end=347.068862, pitch=76, velocity=50), Note(start=347.068862, end=348.373208, pitch=76, velocity=52), Note(start=348.373208, end=348.862338, pitch=75, velocity=46), Note(start=350.330325, end=351.972105, pitch=73, velocity=51), Note(start=352.301775, end=352.631445, pitch=76, velocity=47), Note(start=352.631445, end=352.963641, pitch=75, velocity=46), Note(start=351.972105, end=352.963641, pitch=72, velocity=47), Note(start=353.653296, end=354.687779, pitch=73, velocity=44), Note(start=355.693298, end=356.682308, pitch=79, velocity=50), Note(start=356.682308, end=357.011978, pitch=80, velocity=58), Note(start=357.011978, end=358.391288, pitch=80, velocity=69), Note(start=358.391288, end=358.940069, pitch=72, velocity=46), Note(start=360.088597, end=360.414683, pitch=75, velocity=47), Note(start=360.414683, end=360.740770, pitch=81, velocity=50), Note(start=360.740770, end=361.393540, pitch=80, velocity=54), Note(start=361.393540, end=362.045713, pitch=78, velocity=57), Note(start=362.045713, end=362.371799, pitch=76, velocity=60), Note(start=362.371799, end=363.024570, pitch=85, velocity=62), Note(start=362.697886, end=363.350656, pitch=75, velocity=63), Note(start=363.350656, end=364.002829, pitch=75, velocity=66), Note(start=364.002829, end=364.328916, pitch=73, velocity=70), Note(start=364.328916, end=366.279761, pitch=80, velocity=71), Note(start=364.655002, end=366.300366, pitch=73, velocity=73), Note(start=366.300366, end=366.794871, pitch=80, velocity=57), Note(start=367.178332, end=367.395723, pitch=67, velocity=56), Note(start=367.395723, end=367.613114, pitch=72, velocity=59), Note(start=367.613114, end=367.830505, pitch=75, velocity=61), Note(start=367.830505, end=368.047896, pitch=79, velocity=63), Note(start=368.047896, end=368.754416, pitch=84, velocity=65), Note(start=368.265287, end=370.236737, pitch=91, velocity=68), Note(start=370.236737, end=371.234390, pitch=92, velocity=65), Note(start=373.958775, end=374.121818, pitch=84, velocity=53), Note(start=374.121818, end=374.284862, pitch=85, velocity=53), Note(start=374.284862, end=374.447905, pitch=86, velocity=53), Note(start=374.447905, end=374.610948, pitch=85, velocity=53), Note(start=374.610948, end=374.773991, pitch=92, velocity=52), Note(start=374.773991, end=374.904665, pitch=80, velocity=52), Note(start=375.915891, end=376.078935, pitch=79, velocity=50), Note(start=376.078935, end=376.241978, pitch=80, velocity=50), Note(start=376.241978, end=376.405021, pitch=81, velocity=49), Note(start=376.405021, end=376.568064, pitch=80, velocity=49), Note(start=376.568064, end=376.731108, pitch=87, velocity=49), Note(start=376.731108, end=376.861781, pitch=75, velocity=49), Note(start=377.873008, end=378.036051, pitch=72, velocity=46), Note(start=378.036051, end=378.199094, pitch=73, velocity=46), Note(start=378.199094, end=378.362137, pitch=75, velocity=46), Note(start=378.362137, end=378.525181, pitch=73, velocity=46), Note(start=378.525181, end=378.688224, pitch=80, velocity=45), Note(start=378.688224, end=378.818897, pitch=68, velocity=45), Note(start=379.830124, end=379.993167, pitch=67, velocity=43), Note(start=379.993167, end=380.156210, pitch=68, velocity=43), Note(start=380.156210, end=380.319254, pitch=69, velocity=42), Note(start=380.319254, end=380.482297, pitch=68, velocity=42), Note(start=380.482297, end=380.645340, pitch=76, velocity=42), Note(start=380.808980, end=382.113326, pitch=76, velocity=52), Note(start=382.766097, end=383.418270, pitch=81, velocity=54), Note(start=383.418270, end=384.396529, pitch=80, velocity=49), Note(start=384.613920, end=385.266690, pitch=74, velocity=52), Note(start=384.723213, end=385.375386, pitch=86, velocity=60), Note(start=385.375386, end=386.353645, pitch=73, velocity=54), Note(start=385.375386, end=386.353645, pitch=85, velocity=54), Note(start=386.571036, end=387.223807, pitch=76, velocity=58), Note(start=386.680329, end=387.332502, pitch=88, velocity=67), Note(start=387.332502, end=388.310762, pitch=75, velocity=62), Note(start=387.332502, end=388.310762, pitch=87, velocity=62), Note(start=388.528153, end=389.180923, pitch=78, velocity=67), Note(start=388.637445, end=389.289618, pitch=90, velocity=74), Note(start=389.289618, end=390.471682, pitch=76, velocity=70), Note(start=389.289618, end=390.481193, pitch=88, velocity=70), Note(start=390.512443, end=391.165213, pitch=80, velocity=75), Note(start=390.594562, end=391.246735, pitch=92, velocity=83), Note(start=391.246735, end=392.417929, pitch=78, velocity=78), Note(start=391.246735, end=392.438309, pitch=90, velocity=78), Note(start=392.551678, end=393.040808, pitch=78, velocity=90), Note(start=392.551678, end=393.040808, pitch=66, velocity=90), Note(start=393.040808, end=393.203851, pitch=81, velocity=80), Note(start=393.040808, end=393.203851, pitch=69, velocity=80), Note(start=393.203851, end=394.508794, pitch=80, velocity=79), Note(start=393.203851, end=394.508794, pitch=68, velocity=79), Note(start=394.508794, end=395.003299, pitch=75, velocity=73), Note(start=394.508794, end=395.003299, pitch=63, velocity=73), Note(start=395.003299, end=395.168134, pitch=78, velocity=64), Note(start=395.003299, end=395.168134, pitch=66, velocity=64), Note(start=395.168134, end=395.670048, pitch=76, velocity=61), Note(start=395.168134, end=395.670048, pitch=64, velocity=61), Note(start=396.904483, end=397.566167, pitch=81, velocity=71), Note(start=397.882743, end=398.208829, pitch=87, velocity=64), Note(start=397.556656, end=398.218340, pitch=80, velocity=66), Note(start=398.208829, end=398.861599, pitch=78, velocity=61), Note(start=398.861599, end=399.513772, pitch=78, velocity=67), Note(start=399.513772, end=399.839859, pitch=76, velocity=62), Note(start=399.839859, end=400.165945, pitch=75, velocity=60), Note(start=400.165945, end=400.818716, pitch=73, velocity=58), Note(start=400.818716, end=401.470889, pitch=73, velocity=63), Note(start=401.796975, end=402.123062, pitch=78, velocity=57), Note(start=401.470889, end=402.123062, pitch=72, velocity=59), Note(start=402.123062, end=402.779415, pitch=69, velocity=55), Note(start=402.779415, end=403.438755, pitch=69, velocity=61), Note(start=403.438755, end=403.768425, pitch=68, velocity=57), Note(start=403.768425, end=404.098095, pitch=67, velocity=54), Note(start=404.098095, end=404.767313, pitch=66, velocity=51), Note(start=404.767313, end=405.441470, pitch=66, velocity=57), Note(start=405.778549, end=406.115627, pitch=73, velocity=52), Note(start=405.441470, end=406.115627, pitch=64, velocity=54), Note(start=406.115627, end=406.794892, pitch=63, velocity=50), Note(start=406.794892, end=407.476710, pitch=63, velocity=53), Note(start=407.476710, end=407.817619, pitch=61, velocity=48), Note(start=407.817619, end=408.166169, pitch=59, velocity=45), Note(start=408.166169, end=408.866245, pitch=57, velocity=43), Note(start=408.866245, end=409.540402, pitch=56, velocity=52), Note(start=409.540402, end=409.877481, pitch=57, velocity=48), Note(start=409.877481, end=410.214559, pitch=59, velocity=51), Note(start=410.214559, end=410.886248, pitch=60, velocity=54), Note(start=410.886248, end=411.552914, pitch=63, velocity=60), Note(start=411.552914, end=411.886247, pitch=61, velocity=56), Note(start=411.886247, end=412.219580, pitch=60, velocity=59), Note(start=412.219580, end=412.904436, pitch=61, velocity=62), Note(start=412.883831, end=413.543171, pitch=63, velocity=67), Note(start=413.543171, end=413.872841, pitch=64, velocity=65), Note(start=413.872841, end=414.202511, pitch=68, velocity=67), Note(start=414.202511, end=414.869000, pitch=73, velocity=70), Note(start=414.859489, end=415.511662, pitch=75, velocity=74), Note(start=415.511662, end=415.837748, pitch=73, velocity=71), Note(start=415.837748, end=416.163835, pitch=72, velocity=74), Note(start=416.163835, end=416.813696, pitch=73, velocity=77), Note(start=416.813696, end=417.458857, pitch=75, velocity=82), Note(start=417.458857, end=417.781438, pitch=76, velocity=78), Note(start=417.781438, end=418.104018, pitch=80, velocity=81), Note(start=418.104018, end=418.746916, pitch=85, velocity=84), Note(start=418.746916, end=419.385213, pitch=87, velocity=91), Note(start=419.385213, end=419.704361, pitch=85, velocity=84), Note(start=419.704361, end=420.023510, pitch=84, velocity=87), Note(start=420.023510, end=420.686544, pitch=85, velocity=91), Note(start=420.666383, end=421.320952, pitch=87, velocity=98), Note(start=421.311544, end=421.634124, pitch=88, velocity=95), Note(start=421.634124, end=421.956705, pitch=92, velocity=97), Note(start=421.956705, end=422.597290, pitch=97, velocity=100), Note(start=422.597290, end=423.235587, pitch=99, velocity=106), Note(start=423.235587, end=423.554735, pitch=97, velocity=92), Note(start=423.554735, end=423.873884, pitch=96, velocity=89), Note(start=423.873884, end=424.516757, pitch=97, velocity=86), Note(start=424.516757, end=425.161918, pitch=89, velocity=84), Note(start=425.161918, end=425.484498, pitch=87, velocity=78), Note(start=425.484498, end=425.807079, pitch=85, velocity=74), Note(start=425.807079, end=426.130828, pitch=84, velocity=71), Note(start=426.130828, end=426.456914, pitch=82, velocity=68), Note(start=426.456914, end=426.718261, pitch=81, velocity=65), Note(start=426.784195, end=427.113865, pitch=80, velocity=61), Note(start=427.113865, end=427.378589, pitch=75, velocity=58), Note(start=427.446005, end=427.783083, pitch=80, velocity=55), Note(start=427.783083, end=428.652401, pitch=76, velocity=52), Note(start=429.469409, end=431.426525, pitch=85, velocity=53), Note(start=431.426525, end=433.393152, pitch=80, velocity=48), Note(start=433.383641, end=433.872771, pitch=78, velocity=43), Note(start=433.872771, end=434.036412, pitch=76, velocity=42), Note(start=434.036412, end=434.688585, pitch=76, velocity=42), Note(start=434.688585, end=435.839398, pitch=76, velocity=40), Note(start=435.829887, end=435.993528, pitch=68, velocity=39), Note(start=435.993528, end=437.297874, pitch=76, velocity=45), Note(start=437.841351, end=438.494122, pitch=69, velocity=46), Note(start=437.950644, end=438.602817, pitch=81, velocity=51), Note(start=438.602817, end=439.581077, pitch=80, velocity=48), Note(start=438.602817, end=439.581077, pitch=68, velocity=48), Note(start=439.798468, end=440.451238, pitch=74, velocity=53), Note(start=439.907760, end=440.559933, pitch=86, velocity=59), Note(start=440.559933, end=441.538193, pitch=85, velocity=55), Note(start=440.559933, end=441.538193, pitch=73, velocity=55), Note(start=441.755584, end=442.408354, pitch=76, velocity=64), Note(start=441.864877, end=442.517050, pitch=88, velocity=70), Note(start=442.517050, end=443.495309, pitch=87, velocity=65), Note(start=442.517050, end=443.495309, pitch=75, velocity=65), Note(start=443.712700, end=444.365470, pitch=78, velocity=74), Note(start=443.821993, end=444.474166, pitch=90, velocity=80), Note(start=444.474166, end=445.656230, pitch=76, velocity=76), Note(start=444.474166, end=445.665740, pitch=88, velocity=76), Note(start=445.696990, end=446.349761, pitch=80, velocity=87), Note(start=445.779109, end=446.431282, pitch=92, velocity=93), Note(start=446.431282, end=447.602476, pitch=78, velocity=83), Note(start=446.431282, end=447.622857, pitch=90, velocity=83), Note(start=447.736225, end=448.225355, pitch=75, velocity=79), Note(start=447.736225, end=448.225355, pitch=63, velocity=79), Note(start=448.225355, end=448.388398, pitch=78, velocity=68), Note(start=448.225355, end=448.388398, pitch=66, velocity=68), Note(start=448.388398, end=449.686474, pitch=76, velocity=67), Note(start=448.388398, end=449.686474, pitch=64, velocity=67), Note(start=449.693342, end=450.187847, pitch=72, velocity=58), Note(start=449.693342, end=450.187847, pitch=60, velocity=58), Note(start=450.187847, end=450.352682, pitch=75, velocity=48), Note(start=450.187847, end=450.352682, pitch=63, velocity=48), Note(start=450.352682, end=451.557416, pitch=73, velocity=47), Note(start=450.352682, end=451.557416, pitch=61, velocity=47), Note(start=452.047941, end=452.709625, pitch=81, velocity=71), Note(start=453.026200, end=453.352287, pitch=87, velocity=64), Note(start=452.700114, end=453.361798, pitch=80, velocity=66), Note(start=453.352287, end=454.005057, pitch=78, velocity=61), Note(start=454.005057, end=454.657230, pitch=78, velocity=67), Note(start=454.657230, end=454.983317, pitch=76, velocity=62), Note(start=454.983317, end=455.309403, pitch=75, velocity=60), Note(start=455.309403, end=455.962173, pitch=73, velocity=58), Note(start=455.962173, end=456.614346, pitch=73, velocity=63), Note(start=456.940433, end=457.266519, pitch=78, velocity=57), Note(start=456.614346, end=457.266519, pitch=72, velocity=59), Note(start=457.266519, end=457.922873, pitch=69, velocity=55), Note(start=457.922873, end=458.582213, pitch=69, velocity=61), Note(start=458.582213, end=458.911883, pitch=68, velocity=57), Note(start=458.911883, end=459.241553, pitch=67, velocity=54), Note(start=459.241553, end=459.910771, pitch=66, velocity=51), Note(start=459.910771, end=460.584928, pitch=66, velocity=57), Note(start=460.922007, end=461.259085, pitch=73, velocity=52), Note(start=460.584928, end=461.259085, pitch=64, velocity=54), Note(start=461.259085, end=461.938350, pitch=63, velocity=50), Note(start=461.938350, end=462.620168, pitch=63, velocity=53), Note(start=462.620168, end=462.961077, pitch=61, velocity=48), Note(start=462.961077, end=463.309627, pitch=59, velocity=45), Note(start=463.309627, end=464.009703, pitch=57, velocity=43), Note(start=464.009703, end=464.683860, pitch=56, velocity=52), Note(start=464.683860, end=465.020939, pitch=57, velocity=48), Note(start=465.020939, end=465.358017, pitch=59, velocity=51), Note(start=465.358017, end=466.029705, pitch=60, velocity=54), Note(start=466.029705, end=466.696371, pitch=63, velocity=60), Note(start=466.696371, end=467.029704, pitch=61, velocity=56), Note(start=467.029704, end=467.363037, pitch=60, velocity=59), Note(start=467.363037, end=468.047893, pitch=61, velocity=62), Note(start=468.027289, end=468.686629, pitch=63, velocity=67), Note(start=468.686629, end=469.016299, pitch=64, velocity=65), Note(start=469.016299, end=469.345969, pitch=68, velocity=67), Note(start=469.345969, end=470.012457, pitch=73, velocity=70), Note(start=470.002946, end=470.655119, pitch=75, velocity=74), Note(start=470.655119, end=470.981206, pitch=73, velocity=71), Note(start=470.981206, end=471.307292, pitch=72, velocity=74), Note(start=471.307292, end=471.957154, pitch=73, velocity=77), Note(start=471.957154, end=472.602315, pitch=75, velocity=82), Note(start=472.602315, end=472.924895, pitch=76, velocity=78), Note(start=472.924895, end=473.247476, pitch=80, velocity=81), Note(start=473.247476, end=473.897312, pitch=85, velocity=84), Note(start=473.897312, end=474.549485, pitch=87, velocity=91), Note(start=474.549485, end=474.875571, pitch=85, velocity=84), Note(start=474.875571, end=475.201658, pitch=84, velocity=87), Note(start=475.201658, end=475.862101, pitch=85, velocity=91), Note(start=475.842364, end=476.483153, pitch=87, velocity=98), Note(start=476.473942, end=476.789731, pitch=88, velocity=95), Note(start=476.789731, end=477.105520, pitch=92, velocity=97), Note(start=477.105520, end=477.741578, pitch=97, velocity=100), Note(start=477.741578, end=478.379875, pitch=99, velocity=106), Note(start=478.379875, end=478.699023, pitch=97, velocity=92), Note(start=478.699023, end=479.018172, pitch=96, velocity=89), Note(start=479.018172, end=479.661045, pitch=97, velocity=86), Note(start=479.661045, end=480.306206, pitch=89, velocity=84), Note(start=480.306206, end=480.628786, pitch=87, velocity=78), Note(start=480.628786, end=480.951367, pitch=85, velocity=74), Note(start=480.951367, end=481.275116, pitch=84, velocity=71), Note(start=481.275116, end=481.601202, pitch=82, velocity=68), Note(start=481.601202, end=481.862549, pitch=81, velocity=65), Note(start=481.928483, end=482.258153, pitch=80, velocity=61), Note(start=482.258153, end=482.522877, pitch=75, velocity=58), Note(start=482.590293, end=482.927371, pitch=80, velocity=55), Note(start=482.927371, end=483.783340, pitch=76, velocity=52), Note(start=484.600348, end=486.557464, pitch=85, velocity=53), Note(start=486.557464, end=488.524092, pitch=80, velocity=48), Note(start=488.514581, end=489.003710, pitch=78, velocity=43), Note(start=489.003710, end=489.167351, pitch=76, velocity=42), Note(start=489.167351, end=489.819524, pitch=76, velocity=42), Note(start=489.819524, end=490.970338, pitch=76, velocity=40), Note(start=490.960827, end=491.124467, pitch=68, velocity=39), Note(start=491.124467, end=492.428813, pitch=76, velocity=45), Note(start=492.972291, end=493.625061, pitch=69, velocity=46), Note(start=493.081583, end=493.733756, pitch=81, velocity=51), Note(start=493.733756, end=494.712016, pitch=68, velocity=48), Note(start=493.733756, end=494.712016, pitch=80, velocity=48), Note(start=494.929407, end=495.582177, pitch=74, velocity=53), Note(start=495.038700, end=495.690873, pitch=86, velocity=59), Note(start=495.690873, end=496.669132, pitch=73, velocity=55), Note(start=495.690873, end=496.669132, pitch=85, velocity=55), Note(start=496.886523, end=497.539293, pitch=76, velocity=64), Note(start=496.995816, end=497.647989, pitch=88, velocity=70), Note(start=497.647989, end=498.626248, pitch=75, velocity=65), Note(start=497.647989, end=498.626248, pitch=87, velocity=65), Note(start=498.843639, end=499.496410, pitch=78, velocity=74), Note(start=498.952932, end=499.605105, pitch=90, velocity=80), Note(start=499.605105, end=500.787169, pitch=76, velocity=76), Note(start=499.605105, end=500.796680, pitch=88, velocity=76), Note(start=500.827930, end=501.480700, pitch=80, velocity=87), Note(start=500.910048, end=501.562221, pitch=92, velocity=93), Note(start=501.562221, end=502.733416, pitch=78, velocity=83), Note(start=501.562221, end=502.753796, pitch=90, velocity=83), Note(start=502.867165, end=503.356294, pitch=63, velocity=79), Note(start=502.867165, end=503.356294, pitch=75, velocity=79), Note(start=503.356294, end=503.519338, pitch=66, velocity=68), Note(start=503.356294, end=503.519338, pitch=78, velocity=68), Note(start=503.519338, end=504.817413, pitch=64, velocity=67), Note(start=503.519338, end=504.817413, pitch=76, velocity=67), Note(start=504.824281, end=505.352544, pitch=60, velocity=58), Note(start=504.824281, end=505.352544, pitch=72, velocity=58), Note(start=505.352544, end=505.558023, pitch=63, velocity=48), Note(start=505.352544, end=505.558023, pitch=75, velocity=48), Note(start=505.558023, end=507.008364, pitch=61, velocity=47), Note(start=505.558023, end=507.008364, pitch=73, velocity=47), Note(start=509.867608, end=510.067608, pitch=94, velocity=53), Note(start=510.267608, end=510.467608, pitch=92, velocity=53), Note(start=510.667608, end=510.867608, pitch=90, velocity=52), Note(start=511.067608, end=511.267608, pitch=89, velocity=52), Note(start=511.467608, end=511.667608, pitch=87, velocity=51), Note(start=511.867608, end=512.067608, pitch=85, velocity=51), Note(start=512.267608, end=512.467608, pitch=84, velocity=51), Note(start=512.667608, end=512.828419, pitch=83, velocity=50), Note(start=513.068960, end=513.268960, pitch=83, velocity=50), Note(start=513.468960, end=513.668960, pitch=82, velocity=49), Note(start=513.868960, end=514.068960, pitch=81, velocity=49), Note(start=514.268960, end=514.468960, pitch=82, velocity=48), Note(start=514.668960, end=514.868960, pitch=82, velocity=48), Note(start=515.068960, end=515.268960, pitch=80, velocity=48), Note(start=515.468960, end=515.668960, pitch=79, velocity=47), Note(start=515.868960, end=516.030603, pitch=80, velocity=47), Note(start=516.271699, end=516.471699, pitch=82, velocity=46), Note(start=516.671699, end=516.871699, pitch=81, velocity=46), Note(start=517.071699, end=517.271699, pitch=80, velocity=45), Note(start=517.471699, end=517.671699, pitch=78, velocity=45), Note(start=517.871699, end=518.071699, pitch=78, velocity=44), Note(start=518.271699, end=518.471699, pitch=77, velocity=44), Note(start=518.671699, end=518.871699, pitch=76, velocity=43), Note(start=519.071699, end=519.232510, pitch=77, velocity=43), Note(start=519.473050, end=519.673050, pitch=77, velocity=43), Note(start=519.873050, end=520.073050, pitch=75, velocity=42), Note(start=520.273050, end=520.473050, pitch=75, velocity=42), Note(start=520.673050, end=520.874402, pitch=73, velocity=41), Note(start=521.077104, end=521.279807, pitch=73, velocity=41), Note(start=521.482509, end=521.686600, pitch=72, velocity=40), Note(start=521.892079, end=522.103515, pitch=71, velocity=40), Note(start=522.337210, end=522.598574, pitch=72, velocity=40), Note(start=522.889483, end=523.089483, pitch=94, velocity=55), Note(start=523.289483, end=523.489483, pitch=92, velocity=55), Note(start=523.689483, end=523.889483, pitch=90, velocity=54), Note(start=524.089483, end=524.289483, pitch=89, velocity=54), Note(start=524.489483, end=524.689483, pitch=87, velocity=54), Note(start=524.889483, end=525.089483, pitch=85, velocity=53), Note(start=525.289483, end=525.489483, pitch=89, velocity=53), Note(start=525.689483, end=525.850294, pitch=87, velocity=53), Note(start=526.090834, end=526.290834, pitch=87, velocity=52), Note(start=526.490834, end=526.690834, pitch=85, velocity=52), Note(start=526.890834, end=527.090834, pitch=84, velocity=51), Note(start=527.290834, end=527.490834, pitch=82, velocity=51), Note(start=527.690834, end=527.890834, pitch=78, velocity=51), Note(start=528.090834, end=528.250834, pitch=77, velocity=50), Note(start=528.290834, end=528.490834, pitch=80, velocity=54), Note(start=528.290834, end=528.690834, pitch=68, velocity=54), Note(start=528.690834, end=529.011104, pitch=67, velocity=50), Note(start=528.890834, end=529.051645, pitch=79, velocity=50), Note(start=529.092185, end=529.292185, pitch=79, velocity=54), Note(start=529.092185, end=529.492185, pitch=67, velocity=54), Note(start=529.492185, end=529.812185, pitch=65, velocity=49), Note(start=529.692185, end=529.892185, pitch=77, velocity=49), Note(start=529.892185, end=530.092185, pitch=77, velocity=54), Note(start=529.892185, end=530.292185, pitch=65, velocity=54), Note(start=530.292185, end=530.612185, pitch=63, velocity=48), Note(start=530.492185, end=530.692185, pitch=75, velocity=48), Note(start=530.692185, end=530.892185, pitch=73, velocity=53), Note(start=530.692185, end=531.092185, pitch=61, velocity=53), Note(start=531.092185, end=531.412185, pitch=60, velocity=48), Note(start=531.292185, end=531.452185, pitch=72, velocity=47), Note(start=531.492185, end=531.692185, pitch=72, velocity=51), Note(start=531.492185, end=531.892185, pitch=60, velocity=51), Note(start=531.892185, end=532.212456, pitch=58, velocity=47), Note(start=532.092185, end=532.293537, pitch=70, velocity=47), Note(start=532.293537, end=532.493537, pitch=84, velocity=50), Note(start=532.293537, end=532.693537, pitch=72, velocity=50), Note(start=532.693537, end=533.013537, pitch=70, velocity=46), Note(start=532.893537, end=533.093537, pitch=82, velocity=46), Note(start=533.093537, end=533.293537, pitch=82, velocity=50), Note(start=533.693537, end=533.894888, pitch=84, velocity=45), Note(start=533.093537, end=533.894888, pitch=70, velocity=50), Note(start=533.894888, end=534.097590, pitch=80, velocity=45), Note(start=533.894888, end=535.124001, pitch=72, velocity=45), Note(start=535.909969, end=536.109969, pitch=94, velocity=53), Note(start=536.309969, end=536.509969, pitch=92, velocity=53), Note(start=536.709969, end=536.909969, pitch=90, velocity=52), Note(start=537.109969, end=537.309969, pitch=89, velocity=52), Note(start=537.509969, end=537.709969, pitch=87, velocity=51), Note(start=537.909969, end=538.109969, pitch=85, velocity=51), Note(start=538.309969, end=538.509969, pitch=84, velocity=51), Note(start=538.709969, end=538.870780, pitch=83, velocity=50), Note(start=539.111320, end=539.311320, pitch=83, velocity=50), Note(start=539.511320, end=539.711320, pitch=82, velocity=49), Note(start=539.911320, end=540.111320, pitch=81, velocity=49), Note(start=540.311320, end=540.511320, pitch=82, velocity=48), Note(start=540.711320, end=540.911320, pitch=82, velocity=48), Note(start=541.111320, end=541.311320, pitch=80, velocity=48), Note(start=541.511320, end=541.711320, pitch=79, velocity=47), Note(start=541.911320, end=542.072964, pitch=80, velocity=47), Note(start=542.314060, end=542.514060, pitch=82, velocity=46), Note(start=542.714060, end=542.914060, pitch=81, velocity=46), Note(start=543.114060, end=543.314060, pitch=80, velocity=45), Note(start=543.514060, end=543.714060, pitch=78, velocity=45), Note(start=543.914060, end=544.114060, pitch=78, velocity=44), Note(start=544.314060, end=544.514060, pitch=77, velocity=44), Note(start=544.714060, end=544.914060, pitch=76, velocity=43), Note(start=545.114060, end=545.274871, pitch=77, velocity=43), Note(start=545.515411, end=545.715411, pitch=77, velocity=43), Note(start=545.915411, end=546.115411, pitch=75, velocity=42), Note(start=546.315411, end=546.515411, pitch=75, velocity=42), Note(start=546.715411, end=546.916762, pitch=73, velocity=41), Note(start=547.119465, end=547.322167, pitch=73, velocity=41), Note(start=547.524870, end=547.728961, pitch=72, velocity=40), Note(start=547.934440, end=548.145875, pitch=71, velocity=40), Note(start=548.379571, end=548.640934, pitch=72, velocity=40), Note(start=548.931843, end=549.131843, pitch=94, velocity=55), Note(start=549.331843, end=549.531843, pitch=92, velocity=55), Note(start=549.731843, end=549.931843, pitch=90, velocity=54), Note(start=550.131843, end=550.331843, pitch=89, velocity=54), Note(start=550.531843, end=550.731843, pitch=87, velocity=54), Note(start=550.931843, end=551.131843, pitch=85, velocity=53), Note(start=551.331843, end=551.531843, pitch=89, velocity=53), Note(start=551.731843, end=551.892654, pitch=87, velocity=53), Note(start=552.133195, end=552.333195, pitch=87, velocity=52), Note(start=552.533195, end=552.733195, pitch=85, velocity=52), Note(start=552.933195, end=553.133195, pitch=84, velocity=51), Note(start=553.333195, end=553.533195, pitch=82, velocity=51), Note(start=553.733195, end=553.933195, pitch=78, velocity=51), Note(start=554.133195, end=554.293195, pitch=77, velocity=50), Note(start=554.333195, end=554.533195, pitch=80, velocity=54), Note(start=554.333195, end=554.733195, pitch=68, velocity=54), Note(start=554.733195, end=555.053465, pitch=67, velocity=50), Note(start=554.933195, end=555.094005, pitch=79, velocity=50), Note(start=555.134546, end=555.334546, pitch=79, velocity=54), Note(start=555.134546, end=555.534546, pitch=67, velocity=54), Note(start=555.534546, end=555.854546, pitch=65, velocity=49), Note(start=555.734546, end=555.934546, pitch=77, velocity=49), Note(start=555.934546, end=556.134546, pitch=77, velocity=54), Note(start=555.934546, end=556.334546, pitch=65, velocity=54), Note(start=556.334546, end=556.654546, pitch=63, velocity=48), Note(start=556.534546, end=556.734546, pitch=75, velocity=48), Note(start=556.734546, end=556.934546, pitch=73, velocity=53), Note(start=556.734546, end=557.134546, pitch=61, velocity=53), Note(start=557.134546, end=557.454546, pitch=60, velocity=48), Note(start=557.334546, end=557.494546, pitch=72, velocity=47), Note(start=557.534546, end=557.734546, pitch=72, velocity=51), Note(start=557.534546, end=557.934546, pitch=60, velocity=51), Note(start=557.934546, end=558.254816, pitch=58, velocity=47), Note(start=558.134546, end=558.335897, pitch=70, velocity=47), Note(start=558.335897, end=558.535897, pitch=84, velocity=50), Note(start=558.335897, end=558.735897, pitch=72, velocity=50), Note(start=558.735897, end=559.055897, pitch=70, velocity=46), Note(start=558.935897, end=559.135897, pitch=82, velocity=46), Note(start=559.135897, end=559.335897, pitch=82, velocity=50), Note(start=559.735897, end=559.937248, pitch=84, velocity=45), Note(start=559.135897, end=559.937248, pitch=70, velocity=50), Note(start=559.937248, end=560.139951, pitch=80, velocity=45), Note(start=559.937248, end=561.166361, pitch=72, velocity=45), Note(start=568.556420, end=568.956420, pitch=82, velocity=42), Note(start=568.956420, end=569.556420, pitch=84, velocity=46), Note(start=569.556420, end=569.716420, pitch=82, velocity=46), Note(start=570.156420, end=570.556420, pitch=80, velocity=48), Note(start=570.556420, end=571.156420, pitch=82, velocity=55), Note(start=571.156420, end=571.317231, pitch=80, velocity=49), Note(start=571.757772, end=572.557772, pitch=78, velocity=52), Note(start=572.557772, end=573.364528, pitch=82, velocity=56), Note(start=573.364528, end=573.771321, pitch=82, velocity=59), Note(start=573.771321, end=573.935705, pitch=80, velocity=55), Note(start=574.974204, end=575.174204, pitch=94, velocity=60), Note(start=575.374204, end=575.574204, pitch=92, velocity=57), Note(start=575.774204, end=575.974204, pitch=90, velocity=55), Note(start=576.174204, end=576.374204, pitch=89, velocity=53), Note(start=576.574204, end=576.774204, pitch=87, velocity=51), Note(start=576.974204, end=577.174204, pitch=85, velocity=50), Note(start=577.374204, end=577.574204, pitch=89, velocity=48), Note(start=577.774204, end=577.935015, pitch=87, velocity=46), Note(start=578.175555, end=578.375555, pitch=87, velocity=51), Note(start=578.575555, end=578.775555, pitch=85, velocity=56), Note(start=578.975555, end=579.175555, pitch=89, velocity=60), Note(start=579.375555, end=579.575555, pitch=87, velocity=64), Note(start=579.775555, end=579.975555, pitch=87, velocity=69), Note(start=580.175555, end=580.335555, pitch=85, velocity=73), Note(start=580.375555, end=580.975555, pitch=70, velocity=75), Note(start=580.375555, end=580.975555, pitch=82, velocity=75), Note(start=580.975555, end=581.176907, pitch=68, velocity=82), Note(start=580.975555, end=581.176907, pitch=80, velocity=82), Note(start=581.176907, end=581.576907, pitch=68, velocity=86), Note(start=581.176907, end=581.576907, pitch=80, velocity=86), Note(start=581.576907, end=581.896907, pitch=66, velocity=79), Note(start=581.576907, end=581.976907, pitch=78, velocity=79), Note(start=581.976907, end=582.576907, pitch=66, velocity=72), Note(start=581.976907, end=582.576907, pitch=78, velocity=72), Note(start=582.576907, end=582.778258, pitch=65, velocity=80), Note(start=582.576907, end=582.778258, pitch=77, velocity=80), Note(start=582.778258, end=583.178258, pitch=65, velocity=84), Note(start=582.778258, end=583.189924, pitch=77, velocity=84), Note(start=583.178258, end=583.498258, pitch=63, velocity=74), Note(start=583.178258, end=583.578258, pitch=75, velocity=74), Note(start=583.578258, end=584.594136, pitch=73, velocity=70), Note(start=584.582312, end=584.785014, pitch=68, velocity=57), Note(start=584.785014, end=584.987717, pitch=73, velocity=53), Note(start=583.578258, end=584.987717, pitch=61, velocity=70), Note(start=584.987717, end=585.191807, pitch=75, velocity=49), Note(start=585.191807, end=585.602766, pitch=77, velocity=45), Note(start=585.602766, end=586.025636, pitch=75, velocity=37), Note(start=586.025636, end=586.470081, pitch=73, velocity=30), Note(start=586.581192, end=587.490282, pitch=61, velocity=100), Note(start=587.490282, end=589.290282, pitch=61, velocity=81)]\n"
          ]
        }
      ],
      "source": [
        "print(piano_channel.notes)"
      ]
    },
    {
      "cell_type": "code",
      "execution_count": null,
      "metadata": {
        "colab": {
          "base_uri": "https://localhost:8080/"
        },
        "id": "1xlY7Yp4Ap1O",
        "outputId": "0642100b-7239-4633-ab92-7e320d0f2421"
      },
      "outputs": [
        {
          "data": {
            "text/plain": [
              "1013"
            ]
          },
          "execution_count": 12,
          "metadata": {},
          "output_type": "execute_result"
        }
      ],
      "source": [
        "len(piano_channel.notes)"
      ]
    },
    {
      "cell_type": "code",
      "execution_count": null,
      "metadata": {
        "colab": {
          "base_uri": "https://localhost:8080/"
        },
        "id": "VHYB6Du_A4WM",
        "outputId": "a30c771e-4f1a-4df2-b2af-0382c1ef8a61"
      },
      "outputs": [
        {
          "data": {
            "text/plain": [
              "Note(start=1.105988, end=2.282458, pitch=73, velocity=46)"
            ]
          },
          "execution_count": 20,
          "metadata": {},
          "output_type": "execute_result"
        }
      ],
      "source": [
        "piano_channel.notes[0]"
      ]
    },
    {
      "cell_type": "code",
      "execution_count": null,
      "metadata": {
        "colab": {
          "base_uri": "https://localhost:8080/"
        },
        "id": "Eoq_K8RTDHn1",
        "outputId": "480b0097-51f9-4724-f8e5-2b65c4eee6b0"
      },
      "outputs": [
        {
          "data": {
            "text/plain": [
              "128"
            ]
          },
          "execution_count": 25,
          "metadata": {},
          "output_type": "execute_result"
        }
      ],
      "source": [
        "len(piano_roll)"
      ]
    },
    {
      "cell_type": "code",
      "execution_count": null,
      "metadata": {
        "colab": {
          "base_uri": "https://localhost:8080/"
        },
        "id": "a-tAg_RUDUEH",
        "outputId": "3a8ca068-555f-40f5-a01b-496ddc2627e1"
      },
      "outputs": [
        {
          "data": {
            "text/plain": [
              "(128, 58929)"
            ]
          },
          "execution_count": 27,
          "metadata": {},
          "output_type": "execute_result"
        }
      ],
      "source": [
        "piano_roll.shape"
      ]
    },
    {
      "cell_type": "code",
      "execution_count": null,
      "metadata": {
        "id": "bxWAIKztEFDX"
      },
      "outputs": [],
      "source": [
        "for i in range(21):\n",
        "    if not all(piano_roll[i] == 0):\n",
        "        print(i)"
      ]
    },
    {
      "cell_type": "code",
      "execution_count": null,
      "metadata": {
        "id": "UvX8isuREdHC"
      },
      "outputs": [],
      "source": [
        "for i in range(108, 128):\n",
        "    if not all(piano_roll[i] == 0):\n",
        "        print(i)"
      ]
    },
    {
      "cell_type": "code",
      "execution_count": null,
      "metadata": {
        "colab": {
          "base_uri": "https://localhost:8080/"
        },
        "id": "HNy30Au1I-5j",
        "outputId": "a13a02f7-f21d-4a20-a123-7a5ea03254bb"
      },
      "outputs": [
        {
          "data": {
            "text/plain": [
              "229.0"
            ]
          },
          "execution_count": 13,
          "metadata": {},
          "output_type": "execute_result"
        }
      ],
      "source": [
        "np.amax(piano_roll)"
      ]
    },
    {
      "cell_type": "code",
      "execution_count": null,
      "metadata": {
        "colab": {
          "base_uri": "https://localhost:8080/"
        },
        "id": "mY5n2FFRJWqr",
        "outputId": "1297a059-2e2f-4027-c9f0-feb7463252bc"
      },
      "outputs": [
        {
          "data": {
            "text/plain": [
              "array([[ 0.,  0.,  0., ...,  0.,  0.,  0.],\n",
              "       [ 0.,  0.,  0., ...,  0.,  0.,  0.],\n",
              "       [ 0.,  0.,  0., ...,  0.,  0.,  0.],\n",
              "       ...,\n",
              "       [ 0.,  0.,  0., ...,  0.,  0.,  0.],\n",
              "       [ 0.,  0.,  0., ..., 81., 81., 81.],\n",
              "       [ 0.,  0.,  0., ...,  0.,  0.,  0.]])"
            ]
          },
          "execution_count": 16,
          "metadata": {},
          "output_type": "execute_result"
        }
      ],
      "source": [
        "piano_roll[21:108][:30]"
      ]
    },
    {
      "cell_type": "code",
      "execution_count": null,
      "metadata": {
        "id": "losTaMJDcHA3"
      },
      "outputs": [],
      "source": [
        "to_save = pd.DataFrame(data=np.transpose(piano_roll))"
      ]
    },
    {
      "cell_type": "code",
      "execution_count": null,
      "metadata": {
        "id": "3j1s8AX9cQIO"
      },
      "outputs": [],
      "source": [
        "to_save.to_csv('piano_roll_01.csv')"
      ]
    },
    {
      "cell_type": "code",
      "execution_count": null,
      "metadata": {
        "colab": {
          "base_uri": "https://localhost:8080/"
        },
        "id": "UwivpCKNZ4Wr",
        "outputId": "b78d89df-7e80-4794-e0cd-b57c7fc83242"
      },
      "outputs": [
        {
          "name": "stderr",
          "output_type": "stream",
          "text": [
            "IOPub data rate exceeded.\n",
            "The notebook server will temporarily stop sending output\n",
            "to the client in order to avoid crashing it.\n",
            "To change this limit, set the config variable\n",
            "`--NotebookApp.iopub_data_rate_limit`.\n",
            "\n",
            "Current values:\n",
            "NotebookApp.iopub_data_rate_limit=1000000.0 (bytes/sec)\n",
            "NotebookApp.rate_limit_window=3.0 (secs)\n",
            "\n"
          ]
        }
      ],
      "source": [
        "with np.printoptions(threshold=np.inf):\n",
        "    print(piano_roll[21:108][:30])"
      ]
    },
    {
      "cell_type": "code",
      "execution_count": null,
      "metadata": {
        "id": "YmTmEUv4Yfh3"
      },
      "outputs": [],
      "source": [
        "def data_preparation(notes_dict, history):\n",
        "    dataset = np.array([])\n",
        "    for nd in notes_dict:\n",
        "        durations = np.array(list(nd.values())).reshape(128, -1)\n",
        "        # tmp_dur = np.transpose(durations)\n",
        "        '''\n",
        "        for i in range(len(tmp_dur)):\n",
        "            if any(v != 0 for v in tmp_dur[i]):\n",
        "                tmp_dur = tmp_dur[i:]\n",
        "                break\n",
        "        for i in range(len(tmp_dur)):\n",
        "            if any(v != 0 for v in tmp_dur[-i]):\n",
        "                tmp_dur = tmp_dur[-i:]\n",
        "                break\n",
        "        '''\n",
        "        # durations = np.transpose(tmp_dur)\n",
        "        if len(dataset) == 0:\n",
        "            dataset = durations\n",
        "        else:\n",
        "            dataset = np.hstack((dataset, durations))\n",
        "            print(dataset.shape)\n",
        "    dataset = dataset[start_key: start_key + 88]\n",
        "    print(dataset.shape)\n",
        "\n",
        "    # Normalization\n",
        "\n",
        "    dataset = np.transpose(dataset) # shape = (N, 88)\n",
        "    print(dataset.shape)\n",
        "    tmp_dataset = []\n",
        "    for x in dataset:\n",
        "        tmp_dataset.append(','.join(x))\n",
        "    dataset = np.array(tmp_dataset)\n",
        "    print(dataset.shape)\n",
        "    str2id = {s:i for i, s in enumerate(np.unique(dataset))}\n",
        "    id2str = np.unique(dataset)\n",
        "        \n",
        "    data = []\n",
        "    target = []\n",
        "    start_index = history\n",
        "    end_index = dataset.shape[0] - 1\n",
        "    for i in range(start_index, end_index-1):\n",
        "        x_indicies = range(i-history, i)\n",
        "        y_indicies = range(i-history+1, i+1)\n",
        "        # data.append(np.reshape(dataset[indicies],\n",
        "        #                        (history, self.embedding_dim)))\n",
        "        # target.append(dataset[i+1])\n",
        "        # tmp_data = [','.join(x) for x in dataset[indicies]]\n",
        "        # data.append(tmp_data)\n",
        "        # target.append(np.reshape(','.join(dataset[i+1]), 1))\n",
        "        # data.append(np.reshape([str2id[x] for x in dataset[indicies]],\n",
        "        #                        (history, 1)))\n",
        "        data.append(np.reshape([str2id[x] for x in dataset[x_indicies]],\n",
        "                                   (history, 1)))\n",
        "        target.append(np.reshape([str2id[x] for x in dataset[y_indicies]],\n",
        "                                     (history, 1)))\n",
        "    # data = np.transpose(data)\n",
        "    # target = np.transpose(target)\n",
        "    data = np.array(data)\n",
        "    target = np.array(target)\n",
        "    return data, target, dataset.shape[0], str2id, id2str"
      ]
    },
    {
      "cell_type": "code",
      "execution_count": null,
      "metadata": {
        "colab": {
          "base_uri": "https://localhost:8080/"
        },
        "id": "jCUydYd0aaLi",
        "outputId": "1b47c09c-dcc4-453b-9a2d-ce6e41c621d2"
      },
      "outputs": [
        {
          "name": "stdout",
          "output_type": "stream",
          "text": [
            "(128, 17067)\n",
            "(128, 26049)\n",
            "(128, 31315)\n",
            "(128, 39507)\n",
            "(128, 41075)\n",
            "(128, 51371)\n",
            "(128, 57122)\n",
            "(128, 60770)\n",
            "(128, 64381)\n",
            "(128, 68637)\n",
            "(128, 70169)\n",
            "(128, 72682)\n",
            "(128, 75306)\n",
            "(128, 80274)\n",
            "(128, 81637)\n",
            "(88, 81637)\n",
            "(81637, 88)\n",
            "(81637,)\n"
          ]
        }
      ],
      "source": [
        "data, target, vocab_size, str2id, id2str = data_preparation(notes_dict, history)"
      ]
    },
    {
      "cell_type": "code",
      "execution_count": null,
      "metadata": {
        "colab": {
          "base_uri": "https://localhost:8080/"
        },
        "id": "JeA1nGYPtS_1",
        "outputId": "6e4ef4e0-e2a9-4409-9e34-5e21477712dc"
      },
      "outputs": [
        {
          "data": {
            "text/plain": [
              "(80675, 960, 1)"
            ]
          },
          "execution_count": 39,
          "metadata": {},
          "output_type": "execute_result"
        }
      ],
      "source": [
        "data.shape"
      ]
    },
    {
      "cell_type": "code",
      "execution_count": null,
      "metadata": {
        "colab": {
          "base_uri": "https://localhost:8080/"
        },
        "id": "gWGyulHstiDh",
        "outputId": "7df1ed53-f132-4c41-9e3e-d3bfb66ed382"
      },
      "outputs": [
        {
          "data": {
            "text/plain": [
              "181"
            ]
          },
          "execution_count": 42,
          "metadata": {},
          "output_type": "execute_result"
        }
      ],
      "source": [
        "len(id2str[19333])"
      ]
    },
    {
      "cell_type": "code",
      "execution_count": null,
      "metadata": {
        "colab": {
          "base_uri": "https://localhost:8080/"
        },
        "id": "iMWw92tRtws-",
        "outputId": "ffbfaac8-bfd9-4df9-e473-65c8348355e7"
      },
      "outputs": [
        {
          "data": {
            "text/plain": [
              "182"
            ]
          },
          "execution_count": 44,
          "metadata": {},
          "output_type": "execute_result"
        }
      ],
      "source": [
        "len(id2str[19334])"
      ]
    },
    {
      "cell_type": "code",
      "execution_count": null,
      "metadata": {
        "colab": {
          "base_uri": "https://localhost:8080/"
        },
        "id": "63Iit8eBtVrf",
        "outputId": "c04d7ede-ec36-4351-d78f-f0710f5faf88"
      },
      "outputs": [
        {
          "data": {
            "text/plain": [
              "array([[    0],\n",
              "       [    0],\n",
              "       [    0],\n",
              "       [    0],\n",
              "       [    0],\n",
              "       [    0],\n",
              "       [    0],\n",
              "       [    0],\n",
              "       [    0],\n",
              "       [    0],\n",
              "       [    0],\n",
              "       [    0],\n",
              "       [    0],\n",
              "       [    0],\n",
              "       [    0],\n",
              "       [    0],\n",
              "       [    0],\n",
              "       [19333],\n",
              "       [19333],\n",
              "       [19333],\n",
              "       [19333],\n",
              "       [19333],\n",
              "       [19333],\n",
              "       [19333],\n",
              "       [19333],\n",
              "       [19333],\n",
              "       [19333],\n",
              "       [19333],\n",
              "       [19333],\n",
              "       [19333],\n",
              "       [19333],\n",
              "       [19333],\n",
              "       [19333],\n",
              "       [19333],\n",
              "       [19333],\n",
              "       [19333],\n",
              "       [19334],\n",
              "       [19334],\n",
              "       [19334],\n",
              "       [19334],\n",
              "       [19334],\n",
              "       [19334],\n",
              "       [19334],\n",
              "       [19334],\n",
              "       [19334],\n",
              "       [19334],\n",
              "       [19334],\n",
              "       [19334],\n",
              "       [19334],\n",
              "       [19334],\n",
              "       [19334],\n",
              "       [19334],\n",
              "       [19334],\n",
              "       [19334],\n",
              "       [19334],\n",
              "       [19335],\n",
              "       [19335],\n",
              "       [19335],\n",
              "       [19335],\n",
              "       [19335],\n",
              "       [19335],\n",
              "       [19335],\n",
              "       [19335],\n",
              "       [19335],\n",
              "       [19335],\n",
              "       [19335],\n",
              "       [19335],\n",
              "       [19335],\n",
              "       [19335],\n",
              "       [19335],\n",
              "       [19335],\n",
              "       [19335],\n",
              "       [19335],\n",
              "       [19335],\n",
              "       [19336],\n",
              "       [19336],\n",
              "       [19336],\n",
              "       [19336],\n",
              "       [19336],\n",
              "       [19336],\n",
              "       [19336],\n",
              "       [19336],\n",
              "       [19336],\n",
              "       [19336],\n",
              "       [19336],\n",
              "       [19336],\n",
              "       [19336],\n",
              "       [19336],\n",
              "       [19336],\n",
              "       [19336],\n",
              "       [21920],\n",
              "       [21920],\n",
              "       [21921],\n",
              "       [21922],\n",
              "       [21922],\n",
              "       [21923],\n",
              "       [21923],\n",
              "       [21923],\n",
              "       [21923],\n",
              "       [21923],\n",
              "       [21923],\n",
              "       [21923],\n",
              "       [21923],\n",
              "       [21923],\n",
              "       [21923],\n",
              "       [21923],\n",
              "       [21923],\n",
              "       [21923],\n",
              "       [21923],\n",
              "       [21923],\n",
              "       [21923],\n",
              "       [21923],\n",
              "       [21923],\n",
              "       [21923],\n",
              "       [21924],\n",
              "       [21924],\n",
              "       [21924],\n",
              "       [21924],\n",
              "       [21924],\n",
              "       [21924],\n",
              "       [21924],\n",
              "       [21924],\n",
              "       [21924],\n",
              "       [21924],\n",
              "       [21925],\n",
              "       [21925],\n",
              "       [21925],\n",
              "       [21925],\n",
              "       [ 8004],\n",
              "       [ 8004],\n",
              "       [22324],\n",
              "       [22325],\n",
              "       [22325],\n",
              "       [22326],\n",
              "       [22326],\n",
              "       [22327],\n",
              "       [22327],\n",
              "       [22327],\n",
              "       [22327],\n",
              "       [22327],\n",
              "       [22327],\n",
              "       [22327],\n",
              "       [22327],\n",
              "       [22327],\n",
              "       [22327],\n",
              "       [22327],\n",
              "       [22327],\n",
              "       [22327],\n",
              "       [22327],\n",
              "       [22327],\n",
              "       [22327],\n",
              "       [22327],\n",
              "       [22327],\n",
              "       [22327],\n",
              "       [22327],\n",
              "       [22327],\n",
              "       [22327],\n",
              "       [22327],\n",
              "       [22327],\n",
              "       [22327],\n",
              "       [22327],\n",
              "       [22327],\n",
              "       [22327],\n",
              "       [22327],\n",
              "       [22327],\n",
              "       [22327],\n",
              "       [22327],\n",
              "       [22327],\n",
              "       [22327],\n",
              "       [22327],\n",
              "       [22327],\n",
              "       [22327],\n",
              "       [ 1305],\n",
              "       [ 1305],\n",
              "       [21419],\n",
              "       [21419],\n",
              "       [21420],\n",
              "       [21420],\n",
              "       [21421],\n",
              "       [21422],\n",
              "       [21422],\n",
              "       [21422],\n",
              "       [21422],\n",
              "       [21422],\n",
              "       [21422],\n",
              "       [21422],\n",
              "       [21422],\n",
              "       [21422],\n",
              "       [21422],\n",
              "       [21422],\n",
              "       [21422],\n",
              "       [21422],\n",
              "       [21422],\n",
              "       [21422],\n",
              "       [21422],\n",
              "       [21422],\n",
              "       [21422],\n",
              "       [21422],\n",
              "       [21422],\n",
              "       [21423],\n",
              "       [21423],\n",
              "       [21423],\n",
              "       [21423],\n",
              "       [21423],\n",
              "       [21423],\n",
              "       [21423],\n",
              "       [21423],\n",
              "       [21423],\n",
              "       [21423],\n",
              "       [21423],\n",
              "       [21423],\n",
              "       [21423],\n",
              "       [21423],\n",
              "       [21423],\n",
              "       [22320],\n",
              "       [22320],\n",
              "       [22321],\n",
              "       [22321],\n",
              "       [22322],\n",
              "       [22323],\n",
              "       [22323],\n",
              "       [22323],\n",
              "       [22323],\n",
              "       [22323],\n",
              "       [22323],\n",
              "       [22323],\n",
              "       [22323],\n",
              "       [22323],\n",
              "       [22323],\n",
              "       [22323],\n",
              "       [22323],\n",
              "       [22323],\n",
              "       [22323],\n",
              "       [22323],\n",
              "       [21906],\n",
              "       [21905],\n",
              "       [21907],\n",
              "       [21907],\n",
              "       [21908],\n",
              "       [21909],\n",
              "       [21909],\n",
              "       [21909],\n",
              "       [21909],\n",
              "       [21909],\n",
              "       [21909],\n",
              "       [21909],\n",
              "       [21909],\n",
              "       [21909],\n",
              "       [21909],\n",
              "       [21909],\n",
              "       [21909],\n",
              "       [21909],\n",
              "       [21909],\n",
              "       [21909],\n",
              "       [21909],\n",
              "       [21411],\n",
              "       [21411],\n",
              "       [21412],\n",
              "       [21412],\n",
              "       [21413],\n",
              "       [21414],\n",
              "       [21414],\n",
              "       [21414],\n",
              "       [21414],\n",
              "       [21414],\n",
              "       [21414],\n",
              "       [21414],\n",
              "       [21414],\n",
              "       [21414],\n",
              "       [21414],\n",
              "       [21414],\n",
              "       [21414],\n",
              "       [21414],\n",
              "       [21414],\n",
              "       [21414],\n",
              "       [21414],\n",
              "       [21414],\n",
              "       [21414],\n",
              "       [21414],\n",
              "       [21414],\n",
              "       [21414],\n",
              "       [21414],\n",
              "       [21415],\n",
              "       [21415],\n",
              "       [21415],\n",
              "       [21415],\n",
              "       [21415],\n",
              "       [21415],\n",
              "       [21415],\n",
              "       [21415],\n",
              "       [21415],\n",
              "       [21415],\n",
              "       [19323],\n",
              "       [19323],\n",
              "       [19323],\n",
              "       [19323],\n",
              "       [19323],\n",
              "       [19323],\n",
              "       [21403],\n",
              "       [21403],\n",
              "       [21404],\n",
              "       [21404],\n",
              "       [21405],\n",
              "       [21405],\n",
              "       [21406],\n",
              "       [21406],\n",
              "       [21406],\n",
              "       [21406],\n",
              "       [21406],\n",
              "       [21406],\n",
              "       [21406],\n",
              "       [21406],\n",
              "       [21406],\n",
              "       [21406],\n",
              "       [21406],\n",
              "       [21406],\n",
              "       [21406],\n",
              "       [21406],\n",
              "       [21406],\n",
              "       [21406],\n",
              "       [21406],\n",
              "       [21406],\n",
              "       [21406],\n",
              "       [21406],\n",
              "       [21406],\n",
              "       [21406],\n",
              "       [21406],\n",
              "       [21406],\n",
              "       [21406],\n",
              "       [21406],\n",
              "       [21406],\n",
              "       [21406],\n",
              "       [21406],\n",
              "       [21406],\n",
              "       [21406],\n",
              "       [21406],\n",
              "       [21406],\n",
              "       [21406],\n",
              "       [21406],\n",
              "       [21406],\n",
              "       [21406],\n",
              "       [21406],\n",
              "       [21406],\n",
              "       [    0],\n",
              "       [    0],\n",
              "       [    0],\n",
              "       [    0],\n",
              "       [    0],\n",
              "       [    0],\n",
              "       [    0],\n",
              "       [    0],\n",
              "       [    0],\n",
              "       [    0],\n",
              "       [    0],\n",
              "       [    0],\n",
              "       [19337],\n",
              "       [19337],\n",
              "       [19337],\n",
              "       [19337],\n",
              "       [19337],\n",
              "       [19337],\n",
              "       [19337],\n",
              "       [19337],\n",
              "       [19337],\n",
              "       [19337],\n",
              "       [19337],\n",
              "       [19337],\n",
              "       [19337],\n",
              "       [19337],\n",
              "       [19337],\n",
              "       [19337],\n",
              "       [19337],\n",
              "       [19337],\n",
              "       [19337],\n",
              "       [19338],\n",
              "       [19338],\n",
              "       [19338],\n",
              "       [19338],\n",
              "       [19338],\n",
              "       [19338],\n",
              "       [19338],\n",
              "       [19338],\n",
              "       [19338],\n",
              "       [19338],\n",
              "       [19338],\n",
              "       [19338],\n",
              "       [19338],\n",
              "       [19338],\n",
              "       [19338],\n",
              "       [19338],\n",
              "       [19338],\n",
              "       [19338],\n",
              "       [19339],\n",
              "       [19339],\n",
              "       [19339],\n",
              "       [19339],\n",
              "       [19339],\n",
              "       [19339],\n",
              "       [19339],\n",
              "       [19339],\n",
              "       [19339],\n",
              "       [19339],\n",
              "       [19339],\n",
              "       [19339],\n",
              "       [19339],\n",
              "       [19339],\n",
              "       [19339],\n",
              "       [19339],\n",
              "       [19339],\n",
              "       [19339],\n",
              "       [19339],\n",
              "       [19340],\n",
              "       [19340],\n",
              "       [19340],\n",
              "       [19340],\n",
              "       [19340],\n",
              "       [19340],\n",
              "       [19340],\n",
              "       [19340],\n",
              "       [19340],\n",
              "       [19340],\n",
              "       [19340],\n",
              "       [19340],\n",
              "       [19340],\n",
              "       [19340],\n",
              "       [19340],\n",
              "       [19340],\n",
              "       [19340],\n",
              "       [19340],\n",
              "       [21047],\n",
              "       [21047],\n",
              "       [21040],\n",
              "       [21040],\n",
              "       [21040],\n",
              "       [21040],\n",
              "       [21040],\n",
              "       [21040],\n",
              "       [21040],\n",
              "       [21040],\n",
              "       [21040],\n",
              "       [21040],\n",
              "       [21040],\n",
              "       [21040],\n",
              "       [21040],\n",
              "       [21040],\n",
              "       [21040],\n",
              "       [21040],\n",
              "       [21040],\n",
              "       [21040],\n",
              "       [21040],\n",
              "       [21041],\n",
              "       [21041],\n",
              "       [21041],\n",
              "       [21041],\n",
              "       [21041],\n",
              "       [21041],\n",
              "       [21041],\n",
              "       [21041],\n",
              "       [21041],\n",
              "       [21041],\n",
              "       [21042],\n",
              "       [21042],\n",
              "       [21042],\n",
              "       [21042],\n",
              "       [21042],\n",
              "       [21042],\n",
              "       [21042],\n",
              "       [21042],\n",
              "       [21042],\n",
              "       [21042],\n",
              "       [21042],\n",
              "       [21043],\n",
              "       [21043],\n",
              "       [21043],\n",
              "       [21043],\n",
              "       [21043],\n",
              "       [21043],\n",
              "       [21043],\n",
              "       [21043],\n",
              "       [21043],\n",
              "       [21043],\n",
              "       [21043],\n",
              "       [21043],\n",
              "       [21043],\n",
              "       [21043],\n",
              "       [21043],\n",
              "       [21043],\n",
              "       [21043],\n",
              "       [21043],\n",
              "       [21043],\n",
              "       [21043],\n",
              "       [21043],\n",
              "       [21043],\n",
              "       [21043],\n",
              "       [21043],\n",
              "       [21043],\n",
              "       [21043],\n",
              "       [21043],\n",
              "       [    0],\n",
              "       [13111],\n",
              "       [13111],\n",
              "       [13111],\n",
              "       [13114],\n",
              "       [13114],\n",
              "       [13114],\n",
              "       [13114],\n",
              "       [13114],\n",
              "       [13114],\n",
              "       [13114],\n",
              "       [13114],\n",
              "       [13114],\n",
              "       [13114],\n",
              "       [13114],\n",
              "       [13114],\n",
              "       [13114],\n",
              "       [13114],\n",
              "       [13114],\n",
              "       [13114],\n",
              "       [13114],\n",
              "       [13114],\n",
              "       [13125],\n",
              "       [13125],\n",
              "       [13126],\n",
              "       [13126],\n",
              "       [13126],\n",
              "       [13126],\n",
              "       [13126],\n",
              "       [13126],\n",
              "       [13126],\n",
              "       [13126],\n",
              "       [13126],\n",
              "       [13126],\n",
              "       [13126],\n",
              "       [13126],\n",
              "       [13126],\n",
              "       [13126],\n",
              "       [13126],\n",
              "       [13126],\n",
              "       [13126],\n",
              "       [14173],\n",
              "       [14172],\n",
              "       [14172],\n",
              "       [14172],\n",
              "       [14172],\n",
              "       [14172],\n",
              "       [14172],\n",
              "       [14172],\n",
              "       [14172],\n",
              "       [14172],\n",
              "       [14172],\n",
              "       [14166],\n",
              "       [14166],\n",
              "       [14166],\n",
              "       [14166],\n",
              "       [14166],\n",
              "       [14167],\n",
              "       [14167],\n",
              "       [14167],\n",
              "       [ 8018],\n",
              "       [13654],\n",
              "       [13654],\n",
              "       [13654],\n",
              "       [13654],\n",
              "       [13654],\n",
              "       [13654],\n",
              "       [13654],\n",
              "       [13654],\n",
              "       [13654],\n",
              "       [13654],\n",
              "       [13655],\n",
              "       [13655],\n",
              "       [13655],\n",
              "       [13655],\n",
              "       [13655],\n",
              "       [13655],\n",
              "       [13655],\n",
              "       [13655],\n",
              "       [13655],\n",
              "       [13657],\n",
              "       [13657],\n",
              "       [13657],\n",
              "       [13657],\n",
              "       [13657],\n",
              "       [13657],\n",
              "       [13657],\n",
              "       [13657],\n",
              "       [13657],\n",
              "       [13657],\n",
              "       [13656],\n",
              "       [13656],\n",
              "       [13656],\n",
              "       [13656],\n",
              "       [13656],\n",
              "       [ 5761],\n",
              "       [ 5761],\n",
              "       [ 5761],\n",
              "       [18291],\n",
              "       [18291],\n",
              "       [18292],\n",
              "       [18292],\n",
              "       [18292],\n",
              "       [18292],\n",
              "       [18292],\n",
              "       [18292],\n",
              "       [18292],\n",
              "       [18292],\n",
              "       [18292],\n",
              "       [18293],\n",
              "       [18293],\n",
              "       [18293],\n",
              "       [18293],\n",
              "       [18293],\n",
              "       [18293],\n",
              "       [18293],\n",
              "       [18293],\n",
              "       [18293],\n",
              "       [18293],\n",
              "       [18288],\n",
              "       [18288],\n",
              "       [18288],\n",
              "       [18288],\n",
              "       [18288],\n",
              "       [18288],\n",
              "       [18288],\n",
              "       [18288],\n",
              "       [18288],\n",
              "       [18290],\n",
              "       [18290],\n",
              "       [18290],\n",
              "       [18290],\n",
              "       [18290],\n",
              "       [18289],\n",
              "       [18289],\n",
              "       [18289],\n",
              "       [18289],\n",
              "       [18289],\n",
              "       [ 9390],\n",
              "       [ 9390],\n",
              "       [ 9390],\n",
              "       [ 9390],\n",
              "       [ 9390],\n",
              "       [ 9390],\n",
              "       [ 9390],\n",
              "       [ 9390],\n",
              "       [    0],\n",
              "       [    0],\n",
              "       [ 9416],\n",
              "       [ 9416],\n",
              "       [ 9416],\n",
              "       [ 9416],\n",
              "       [ 9416],\n",
              "       [ 9416],\n",
              "       [ 9416],\n",
              "       [ 9416],\n",
              "       [ 9416],\n",
              "       [ 9416],\n",
              "       [ 9416],\n",
              "       [10154],\n",
              "       [10154],\n",
              "       [10154],\n",
              "       [10154],\n",
              "       [10154],\n",
              "       [10154],\n",
              "       [10154],\n",
              "       [10154],\n",
              "       [10154],\n",
              "       [10154],\n",
              "       [12007],\n",
              "       [12007],\n",
              "       [12007],\n",
              "       [12007],\n",
              "       [12007],\n",
              "       [12007],\n",
              "       [12007],\n",
              "       [12007],\n",
              "       [12007],\n",
              "       [12007],\n",
              "       [12007],\n",
              "       [    0],\n",
              "       [    0],\n",
              "       [    0],\n",
              "       [12862],\n",
              "       [12862],\n",
              "       [12862],\n",
              "       [12862],\n",
              "       [12862],\n",
              "       [12862],\n",
              "       [12862],\n",
              "       [12862],\n",
              "       [12862],\n",
              "       [12861],\n",
              "       [12861],\n",
              "       [12861],\n",
              "       [12861],\n",
              "       [12861],\n",
              "       [12861],\n",
              "       [12861],\n",
              "       [12861],\n",
              "       [12861],\n",
              "       [12861],\n",
              "       [12859],\n",
              "       [12859],\n",
              "       [12859],\n",
              "       [12859],\n",
              "       [12859],\n",
              "       [12859],\n",
              "       [12859],\n",
              "       [12859],\n",
              "       [12859],\n",
              "       [12859],\n",
              "       [12860],\n",
              "       [12860],\n",
              "       [12860],\n",
              "       [12860],\n",
              "       [12860],\n",
              "       [12860],\n",
              "       [12860],\n",
              "       [12860],\n",
              "       [12860],\n",
              "       [12861],\n",
              "       [12861],\n",
              "       [12861],\n",
              "       [12861],\n",
              "       [12861],\n",
              "       [12861],\n",
              "       [12861],\n",
              "       [12861],\n",
              "       [12861],\n",
              "       [12861],\n",
              "       [12877],\n",
              "       [12877],\n",
              "       [12877],\n",
              "       [12877],\n",
              "       [12877],\n",
              "       [12877],\n",
              "       [12877],\n",
              "       [12877],\n",
              "       [12877],\n",
              "       [12875],\n",
              "       [12875],\n",
              "       [12875],\n",
              "       [12875],\n",
              "       [12875],\n",
              "       [12875],\n",
              "       [12875],\n",
              "       [12875],\n",
              "       [12875],\n",
              "       [12875],\n",
              "       [12834],\n",
              "       [12834],\n",
              "       [12834],\n",
              "       [12834],\n",
              "       [12834],\n",
              "       [12834],\n",
              "       [12834],\n",
              "       [12834],\n",
              "       [12834],\n",
              "       [12834],\n",
              "       [12008],\n",
              "       [12008],\n",
              "       [12008],\n",
              "       [12008],\n",
              "       [12008],\n",
              "       [12008],\n",
              "       [12008],\n",
              "       [12008],\n",
              "       [12008],\n",
              "       [12010],\n",
              "       [12010],\n",
              "       [12010],\n",
              "       [12010],\n",
              "       [12010],\n",
              "       [12010],\n",
              "       [12010],\n",
              "       [12010],\n",
              "       [12010],\n",
              "       [12010],\n",
              "       [12011],\n",
              "       [12011],\n",
              "       [12011],\n",
              "       [12011],\n",
              "       [12011],\n",
              "       [12011],\n",
              "       [12011],\n",
              "       [12011],\n",
              "       [12011],\n",
              "       [12009],\n",
              "       [12009],\n",
              "       [12009],\n",
              "       [12009],\n",
              "       [12009],\n",
              "       [12009],\n",
              "       [12009],\n",
              "       [12009],\n",
              "       [12009],\n",
              "       [12009],\n",
              "       [12013],\n",
              "       [12013],\n",
              "       [12013],\n",
              "       [12013],\n",
              "       [12013],\n",
              "       [12013],\n",
              "       [12013],\n",
              "       [12013],\n",
              "       [12013],\n",
              "       [12013],\n",
              "       [12013],\n",
              "       [12013],\n",
              "       [12013],\n",
              "       [12013],\n",
              "       [12013],\n",
              "       [12013],\n",
              "       [12013],\n",
              "       [12013],\n",
              "       [12012],\n",
              "       [    0],\n",
              "       [    0],\n",
              "       [11952],\n",
              "       [11952],\n",
              "       [11954],\n",
              "       [11954],\n",
              "       [11954],\n",
              "       [11953],\n",
              "       [11953],\n",
              "       [11955],\n",
              "       [11955],\n",
              "       [11955],\n",
              "       [11963],\n",
              "       [11963],\n",
              "       [11965],\n",
              "       [11965],\n",
              "       [11964],\n",
              "       [11964],\n",
              "       [11964],\n",
              "       [11966],\n",
              "       [11966],\n",
              "       [11980],\n",
              "       [11980],\n",
              "       [11984],\n",
              "       [11984],\n",
              "       [11984],\n",
              "       [11981],\n",
              "       [11981],\n",
              "       [11985],\n",
              "       [11985],\n",
              "       [11985],\n",
              "       [11982],\n",
              "       [11982],\n",
              "       [11985],\n",
              "       [11985],\n",
              "       [11983],\n",
              "       [11983],\n",
              "       [11983],\n",
              "       [11986],\n",
              "       [11986],\n",
              "       [12846],\n",
              "       [12846],\n",
              "       [12848],\n",
              "       [12848],\n",
              "       [12848],\n",
              "       [12847],\n",
              "       [12847],\n",
              "       [12849],\n",
              "       [12849],\n",
              "       [12033],\n",
              "       [12033],\n",
              "       [12033],\n",
              "       [12035],\n",
              "       [12035],\n",
              "       [12034],\n",
              "       [12034],\n",
              "       [12036],\n",
              "       [12036],\n",
              "       [12036],\n",
              "       [10198],\n",
              "       [10198],\n",
              "       [10202],\n",
              "       [10202],\n",
              "       [10202],\n",
              "       [10199],\n",
              "       [10199],\n",
              "       [10202],\n",
              "       [10202],\n",
              "       [10200],\n",
              "       [10200],\n",
              "       [10200],\n",
              "       [10203],\n",
              "       [10203],\n",
              "       [10201],\n",
              "       [10201],\n",
              "       [10204],\n",
              "       [10204],\n",
              "       [10204],\n",
              "       [12096],\n",
              "       [12096],\n",
              "       [12099],\n",
              "       [12099],\n",
              "       [12097],\n",
              "       [12097],\n",
              "       [12097],\n",
              "       [12100],\n",
              "       [12100],\n",
              "       [12097],\n",
              "       [12097],\n",
              "       [12101],\n",
              "       [12101],\n",
              "       [12101],\n",
              "       [12098],\n",
              "       [12098],\n",
              "       [12102],\n",
              "       [12102],\n",
              "       [12102],\n",
              "       [15514],\n",
              "       [15514],\n",
              "       [15521],\n",
              "       [15521],\n",
              "       [15513],\n",
              "       [15513],\n",
              "       [15513],\n",
              "       [15520],\n",
              "       [15520],\n",
              "       [15512],\n",
              "       [15512],\n",
              "       [15519],\n",
              "       [15519],\n",
              "       [15519],\n",
              "       [15511],\n",
              "       [15511],\n",
              "       [15518],\n",
              "       [15518],\n",
              "       [15518],\n",
              "       [15510],\n",
              "       [15510],\n",
              "       [15517],\n",
              "       [15517],\n",
              "       [15509],\n",
              "       [15509],\n",
              "       [15509],\n",
              "       [15516],\n",
              "       [15516],\n",
              "       [15508],\n",
              "       [15508],\n",
              "       [15515],\n",
              "       [15515],\n",
              "       [15515],\n",
              "       [15522],\n",
              "       [15522],\n",
              "       [15522],\n",
              "       [15522],\n",
              "       [15522],\n",
              "       [12778],\n",
              "       [12778],\n",
              "       [12778],\n",
              "       [12778],\n",
              "       [12778],\n",
              "       [12778],\n",
              "       [12778],\n",
              "       [12778],\n",
              "       [ 6316],\n",
              "       [ 6316]])"
            ]
          },
          "execution_count": 40,
          "metadata": {},
          "output_type": "execute_result"
        }
      ],
      "source": [
        "data[0]"
      ]
    },
    {
      "cell_type": "code",
      "execution_count": null,
      "metadata": {
        "colab": {
          "base_uri": "https://localhost:8080/"
        },
        "id": "IpcO-yrLhyW9",
        "outputId": "81b48f88-8b94-49a9-e0e7-8c505ac89ff7"
      },
      "outputs": [
        {
          "data": {
            "text/plain": [
              "40816"
            ]
          },
          "execution_count": 12,
          "metadata": {},
          "output_type": "execute_result"
        }
      ],
      "source": [
        "len(dataset[39])"
      ]
    },
    {
      "cell_type": "code",
      "execution_count": null,
      "metadata": {
        "colab": {
          "base_uri": "https://localhost:8080/"
        },
        "id": "D4Sd5QHtoHv9",
        "outputId": "728fca64-01e2-4652-c305-84548d1571f9"
      },
      "outputs": [
        {
          "data": {
            "text/plain": [
              "array([  0.,   0.,   0., ..., 254., 254., 254.])"
            ]
          },
          "execution_count": 14,
          "metadata": {},
          "output_type": "execute_result"
        }
      ],
      "source": [
        "np.sort(dataset[39])"
      ]
    },
    {
      "cell_type": "code",
      "execution_count": null,
      "metadata": {
        "colab": {
          "base_uri": "https://localhost:8080/"
        },
        "id": "NID2QnRrnboJ",
        "outputId": "beb724d9-2ea0-4033-a2f4-552b526efede"
      },
      "outputs": [
        {
          "data": {
            "text/plain": [
              "array(['0', '10', '100', '101', '102', '103', '104', '105', '106', '107',\n",
              "       '108', '109', '11', '110', '111', '112', '113', '114', '115',\n",
              "       '116', '117', '118', '119', '12', '120', '121', '122', '123',\n",
              "       '124', '125', '126', '127', '128', '13', '130', '131', '132',\n",
              "       '134', '135', '136', '14', '140', '141', '142', '144', '146',\n",
              "       '148', '149', '15', '150', '151', '152', '154', '155', '156',\n",
              "       '157', '158', '16', '160', '161', '162', '163', '164', '165',\n",
              "       '166', '168', '17', '170', '171', '172', '173', '174', '175',\n",
              "       '176', '177', '178', '18', '180', '181', '182', '183', '184',\n",
              "       '186', '188', '189', '19', '190', '192', '194', '195', '196',\n",
              "       '198', '2', '20', '200', '201', '202', '204', '205', '206', '207',\n",
              "       '208', '209', '21', '210', '213', '214', '215', '216', '218', '22',\n",
              "       '220', '224', '228', '23', '230', '232', '234', '236', '24', '241',\n",
              "       '245', '246', '247', '248', '25', '250', '252', '254', '26', '265',\n",
              "       '27', '28', '29', '3', '30', '31', '32', '33', '34', '35', '36',\n",
              "       '37', '38', '39', '4', '40', '41', '42', '43', '44', '45', '46',\n",
              "       '47', '48', '49', '5', '50', '51', '52', '53', '54', '55', '56',\n",
              "       '57', '58', '59', '6', '60', '61', '62', '63', '64', '65', '66',\n",
              "       '67', '68', '69', '7', '70', '71', '72', '73', '74', '75', '76',\n",
              "       '77', '78', '79', '8', '80', '81', '82', '83', '84', '85', '86',\n",
              "       '87', '88', '89', '9', '90', '91', '92', '93', '94', '95', '96',\n",
              "       '97', '98', '99'], dtype='<U3')"
            ]
          },
          "execution_count": 31,
          "metadata": {},
          "output_type": "execute_result"
        }
      ],
      "source": [
        "np.unique(dataset)"
      ]
    },
    {
      "cell_type": "code",
      "execution_count": null,
      "metadata": {
        "colab": {
          "base_uri": "https://localhost:8080/"
        },
        "id": "u85zREQ6nCb1",
        "outputId": "ec71d1d3-6313-424a-f4f6-0e995e3915de"
      },
      "outputs": [
        {
          "data": {
            "text/plain": [
              "211"
            ]
          },
          "execution_count": 28,
          "metadata": {},
          "output_type": "execute_result"
        }
      ],
      "source": [
        "len(np.unique(dataset))"
      ]
    }
  ],
  "metadata": {
    "accelerator": "GPU",
    "colab": {
      "collapsed_sections": [],
      "machine_shape": "hm",
      "name": "Music_generation_edit.ipynb",
      "provenance": []
    },
    "kernelspec": {
      "display_name": "Python 3",
      "name": "python3"
    },
    "language_info": {
      "name": "python"
    }
  },
  "nbformat": 4,
  "nbformat_minor": 0
}