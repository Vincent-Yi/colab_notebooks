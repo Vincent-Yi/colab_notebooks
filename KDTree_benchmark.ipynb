{
  "nbformat": 4,
  "nbformat_minor": 0,
  "metadata": {
    "colab": {
      "name": "KDTree_benchmark.ipynb",
      "provenance": [],
      "machine_shape": "hm"
    },
    "kernelspec": {
      "name": "python3",
      "display_name": "Python 3"
    },
    "accelerator": "GPU"
  },
  "cells": [
    {
      "cell_type": "markdown",
      "metadata": {
        "id": "oD0Iipuuplk-"
      },
      "source": [
        "##Benchmark KDtree"
      ]
    },
    {
      "cell_type": "code",
      "metadata": {
        "id": "aTYuWi1rpj0s",
        "colab": {
          "base_uri": "https://localhost:8080/",
          "height": 71
        },
        "outputId": "b6df9dd7-baa3-4e42-c96b-e30bd8db319c"
      },
      "source": [
        "!pip install scipy\n",
        "\n",
        "import tensorflow as tf\n",
        "from scipy.spatial import KDTree as kdtree\n",
        "from scipy.spatial import cKDTree as ckdtree"
      ],
      "execution_count": null,
      "outputs": [
        {
          "output_type": "stream",
          "text": [
            "Requirement already satisfied: scipy in /usr/local/lib/python3.6/dist-packages (1.4.1)\n",
            "Requirement already satisfied: numpy>=1.13.3 in /usr/local/lib/python3.6/dist-packages (from scipy) (1.18.5)\n"
          ],
          "name": "stdout"
        }
      ]
    },
    {
      "cell_type": "code",
      "metadata": {
        "id": "nsjDLuZxrSjJ"
      },
      "source": [
        "import pandas as pd\n",
        "import csv\n",
        "\n",
        "data = pd.read_csv('/content/drive/My Drive/Colab Notebooks/BTCUSDT-w00-2017-historical.csv')"
      ],
      "execution_count": null,
      "outputs": []
    },
    {
      "cell_type": "code",
      "metadata": {
        "id": "ZRZuSUMVxRNb",
        "colab": {
          "base_uri": "https://localhost:8080/",
          "height": 255
        },
        "outputId": "64abfb64-71e8-473d-b779-7c43422a6ef8"
      },
      "source": [
        "data.head"
      ],
      "execution_count": null,
      "outputs": [
        {
          "output_type": "execute_result",
          "data": {
            "text/plain": [
              "<bound method NDFrame.head of              time price_aver\n",
              "0          1504224061 4689.9\n",
              "1          1504224062 4689.9\n",
              "2          1504224063 4689.9\n",
              "3          1504224064 4689.9\n",
              "4          1504224065 4689.9\n",
              "...                      ...\n",
              "82319781   1586543841 6900.9\n",
              "82319782  1586543842 6900.02\n",
              "82319783   1586543843 6900.0\n",
              "82319784   1586543844 6900.0\n",
              "82319785   1586543845 6900.0\n",
              "\n",
              "[82319786 rows x 1 columns]>"
            ]
          },
          "metadata": {
            "tags": []
          },
          "execution_count": 4
        }
      ]
    },
    {
      "cell_type": "code",
      "metadata": {
        "id": "fUrEns4Cx-GM"
      },
      "source": [
        "example = pd.read_csv('/content/drive/My Drive/Colab Notebooks/1000_daily.csv')"
      ],
      "execution_count": null,
      "outputs": []
    },
    {
      "cell_type": "code",
      "metadata": {
        "id": "4dcheoDSyN_m",
        "colab": {
          "base_uri": "https://localhost:8080/",
          "height": 275
        },
        "outputId": "6a24b244-0f7f-4309-b6e3-d4ee6e549f75"
      },
      "source": [
        "example.head"
      ],
      "execution_count": null,
      "outputs": [
        {
          "output_type": "execute_result",
          "data": {
            "text/plain": [
              "<bound method NDFrame.head of        symbol        date  1. open  ...  10ema_close  10Momentum_close  Daily_gain\n",
              "0         AAN  2012-07-03    28.52  ...    28.530000             0.000    0.000000\n",
              "1         AAN  2012-07-05    28.48  ...    28.531818             0.010   -0.001403\n",
              "2         AAN  2012-07-06    28.26  ...    28.458760            -0.400   -0.007725\n",
              "3         AAN  2012-07-09    28.05  ...    28.402622            -0.380   -0.007431\n",
              "4         AAN  2012-07-10    28.30  ...    28.358509            -0.370    0.008913\n",
              "...       ...         ...      ...  ...          ...               ...         ...\n",
              "357047   ZYNE  2020-06-09     5.60  ...     5.452684            -0.800    0.000000\n",
              "357048   ZYNE  2020-06-10     5.41  ...     5.408560            -0.380   -0.033929\n",
              "357049   ZYNE  2020-06-11     5.03  ...     5.285185            -0.660   -0.070240\n",
              "357050   ZYNE  2020-06-12     4.95  ...     5.206061            -0.410   -0.015905\n",
              "357051   ZYNE  2020-06-15     4.85  ...     5.178595            -0.465   -0.020202\n",
              "\n",
              "[357052 rows x 14 columns]>"
            ]
          },
          "metadata": {
            "tags": []
          },
          "execution_count": 6
        }
      ]
    },
    {
      "cell_type": "code",
      "metadata": {
        "id": "yr2ZwoOv30rZ",
        "colab": {
          "base_uri": "https://localhost:8080/",
          "height": 85
        },
        "outputId": "a030e012-530c-4234-c52d-0e854ef302f9"
      },
      "source": [
        "example.columns"
      ],
      "execution_count": null,
      "outputs": [
        {
          "output_type": "execute_result",
          "data": {
            "text/plain": [
              "Index(['symbol', 'date', '1. open', '2. high', '3. low', '4. close',\n",
              "       '5. volume', '5sma_close', '5ema_close', '5Momentum_close',\n",
              "       '10sma_close', '10ema_close', '10Momentum_close', 'Daily_gain'],\n",
              "      dtype='object')"
            ]
          },
          "metadata": {
            "tags": []
          },
          "execution_count": 7
        }
      ]
    },
    {
      "cell_type": "code",
      "metadata": {
        "id": "R9_VXprI36Au"
      },
      "source": [
        ""
      ],
      "execution_count": null,
      "outputs": []
    }
  ]
}